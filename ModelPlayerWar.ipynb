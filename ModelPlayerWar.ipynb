{
 "cells": [
  {
   "cell_type": "code",
   "execution_count": 1,
   "metadata": {},
   "outputs": [],
   "source": [
    "import sqlite3\n",
    "from tqdm import tqdm"
   ]
  },
  {
   "cell_type": "code",
   "execution_count": 2,
   "metadata": {},
   "outputs": [],
   "source": [
    "db = sqlite3.connect(\"BaseballStats.db\")"
   ]
  },
  {
   "cell_type": "code",
   "execution_count": 3,
   "metadata": {},
   "outputs": [],
   "source": [
    "db.rollback()"
   ]
  },
  {
   "cell_type": "code",
   "execution_count": 4,
   "metadata": {},
   "outputs": [
    {
     "name": "stderr",
     "output_type": "stream",
     "text": [
      "100%|██████████| 23614/23614 [00:00<00:00, 402735.32it/s]\n"
     ]
    }
   ],
   "source": [
    "db.rollback()\n",
    "cursor = db.cursor()\n",
    "cursor.execute(\"BEGIN TRANSACTION\")\n",
    "cursor.execute(\"DELETE FROM Model_PlayerWar\")\n",
    "\n",
    "ids = cursor.execute('''SELECT mlbId, lastMLBSeason, isHitter \n",
    "                     FROM Model_Players\n",
    "                     WHERE lastMLBSeason IS NOT NULL''').fetchall()\n",
    "\n",
    "for id, lastSeason, isHitter in tqdm(ids):\n",
    "    warData = cursor.execute('''SELECT position, year, pa, war, off, def, bsr \n",
    "                             FROM Player_YearlyWar\n",
    "                             WHERE mlbId=?\n",
    "                             AND year<=?\n",
    "                             AND position=?\n",
    "                             ORDER BY Year ASC''', (id, lastSeason, \"hitting\" if isHitter == 1 else \"pitching\")).fetchall()\n",
    "    \n",
    "    for position, year, pa, war, off, df, bsr in warData:\n",
    "        if (position == \"hitting\" and isHitter == 1) or (position == \"pitching\" and isHitter == 0):\n",
    "            cursor.execute(\"INSERT INTO Model_PlayerWar VALUES(?,?,?,?,?,?,?,?)\",\n",
    "                        (id, year, isHitter, pa, war, off, df, bsr))\n",
    "\n",
    "cursor.execute(\"END TRANSACTION\")\n",
    "db.commit()"
   ]
  }
 ],
 "metadata": {
  "kernelspec": {
   "display_name": "Python 3",
   "language": "python",
   "name": "python3"
  },
  "language_info": {
   "codemirror_mode": {
    "name": "ipython",
    "version": 3
   },
   "file_extension": ".py",
   "mimetype": "text/x-python",
   "name": "python",
   "nbconvert_exporter": "python",
   "pygments_lexer": "ipython3",
   "version": "3.11.9"
  }
 },
 "nbformat": 4,
 "nbformat_minor": 2
}
