{
 "cells": [
  {
   "cell_type": "code",
   "execution_count": 1,
   "metadata": {},
   "outputs": [],
   "source": [
    "import torch\n",
    "import importlib"
   ]
  },
  {
   "cell_type": "markdown",
   "metadata": {},
   "source": [
    "Player Input"
   ]
  },
  {
   "cell_type": "code",
   "execution_count": 2,
   "metadata": {},
   "outputs": [],
   "source": [
    "import Player_Prep\n",
    "importlib.reload(Player_Prep)\n",
    "from Player_Prep import Generate_Hitters, Generate_Hitter_Mutators, Generate_Test_Train"
   ]
  },
  {
   "cell_type": "code",
   "execution_count": 3,
   "metadata": {},
   "outputs": [],
   "source": [
    "fielding_components = 4\n",
    "hitting_components = 5\n",
    "stealing_components = 1\n",
    "park_components = 2\n",
    "person_components = 3\n",
    "init_components = 3\n",
    "\n",
    "input_size = fielding_components + hitting_components + stealing_components + park_components + person_components + init_components"
   ]
  },
  {
   "cell_type": "code",
   "execution_count": 4,
   "metadata": {},
   "outputs": [
    {
     "name": "stderr",
     "output_type": "stream",
     "text": [
      "                                                                 \r"
     ]
    }
   ],
   "source": [
    "hitter_input, hitter_output, (fielding_stddev,\n",
    "                            hitting_stddev,\n",
    "                            stealing_stddev,\n",
    "                            park_stddev,\n",
    "                            person_stddev) = Generate_Hitters(fielding_components,\n",
    "                        hitting_components,\n",
    "                        stealing_components,\n",
    "                        park_components,\n",
    "                        person_components)"
   ]
  },
  {
   "cell_type": "markdown",
   "metadata": {},
   "source": [
    "Player Mutators"
   ]
  },
  {
   "cell_type": "code",
   "execution_count": 5,
   "metadata": {},
   "outputs": [],
   "source": [
    "fielding_scale = 0.6\n",
    "hitting_scale = 0.2\n",
    "stealing_scale = 0.3\n",
    "park_scale = 0.1\n",
    "person_scale = 0.3\n",
    "draft_scale = 0.2\n",
    "signing_age_scale = 0.5\n",
    "\n",
    "batch_size = 800\n",
    "max_input_size = 79"
   ]
  },
  {
   "cell_type": "code",
   "execution_count": 6,
   "metadata": {},
   "outputs": [
    {
     "name": "stderr",
     "output_type": "stream",
     "text": [
      "                                                            \r"
     ]
    }
   ],
   "source": [
    "hitting_mutators = Generate_Hitter_Mutators(batch_size, max_input_size,\n",
    "                        fielding_components,fielding_scale,fielding_stddev,\n",
    "                        hitting_components, hitting_scale, hitting_stddev,\n",
    "                        stealing_components, stealing_scale, stealing_stddev,\n",
    "                        park_components, park_scale, park_stddev,\n",
    "                        person_components, person_scale, person_stddev,\n",
    "                        draft_scale, signing_age_scale)"
   ]
  },
  {
   "cell_type": "markdown",
   "metadata": {},
   "source": [
    "Test/Train Split"
   ]
  },
  {
   "cell_type": "code",
   "execution_count": 7,
   "metadata": {},
   "outputs": [],
   "source": [
    "import Dataset\n",
    "importlib.reload(Dataset)\n",
    "from Dataset import HitterDataset"
   ]
  },
  {
   "cell_type": "code",
   "execution_count": 8,
   "metadata": {},
   "outputs": [
    {
     "name": "stderr",
     "output_type": "stream",
     "text": [
      "c:\\Users\\nitzr\\source\\repos\\ProspectRankings\\ProspectRankings\\Model\\Dataset.py:12: UserWarning: torch.searchsorted(): input value tensor is non-contiguous, this will lower the performance due to extra data copy when converting non-contiguous tensor to contiguous, please use contiguous input value tensor if possible. This message will only appear once per program. (Triggered internally at ..\\aten\\src\\ATen/native/BucketizationUtils.h:35.)\n",
      "  self.war_buckets = torch.bucketize(labels[:,:,0], WAR_BUCKETS).squeeze(-1)\n"
     ]
    }
   ],
   "source": [
    "test_size = 0.2\n",
    "random_state = 1\n",
    "\n",
    "x_train_padded, x_test_padded, y_train_padded, y_test_padded, train_lengths, test_lengths = Generate_Test_Train(\n",
    "    hitter_input, hitter_output, test_size, random_state)\n",
    "\n",
    "train_hitters_dataset = HitterDataset(x_train_padded, train_lengths, y_train_padded)\n",
    "test_hitters_dataset = HitterDataset(x_test_padded, test_lengths, y_test_padded)"
   ]
  },
  {
   "cell_type": "code",
   "execution_count": 9,
   "metadata": {},
   "outputs": [
    {
     "name": "stdout",
     "output_type": "stream",
     "text": [
      "torch.Size([79, 7601, 2])\n",
      "torch.Size([22, 2])\n"
     ]
    }
   ],
   "source": [
    "print(y_train_padded.shape)\n",
    "print(hitter_output[0].shape)"
   ]
  },
  {
   "cell_type": "markdown",
   "metadata": {},
   "source": [
    "Train Model"
   ]
  },
  {
   "cell_type": "code",
   "execution_count": 10,
   "metadata": {},
   "outputs": [],
   "source": [
    "import Model\n",
    "import Constants\n",
    "import Model_Train\n",
    "from torch.optim import lr_scheduler\n",
    "\n",
    "importlib.reload(Model)\n",
    "importlib.reload(Constants)\n",
    "importlib.reload(Model_Train)\n",
    "\n",
    "from Model import RNN_Model, RNN_Classification_Loss\n",
    "from Constants import device\n",
    "from Model_Train import trainAndGraph"
   ]
  },
  {
   "cell_type": "code",
   "execution_count": 11,
   "metadata": {},
   "outputs": [
    {
     "name": "stdout",
     "output_type": "stream",
     "text": [
      "Epoch [1/300], Train Loss: 2.9243, Test Loss: 1.6904\n",
      "Epoch [11/300], Train Loss: 0.6978, Test Loss: 0.6590\n",
      "Epoch [21/300], Train Loss: 0.6620, Test Loss: 0.6402\n",
      "Epoch [31/300], Train Loss: 0.6556, Test Loss: 0.6337\n",
      "Epoch [41/300], Train Loss: 0.6333, Test Loss: 0.6309\n",
      "Epoch [51/300], Train Loss: 0.6295, Test Loss: 0.6313\n",
      "Epoch [61/300], Train Loss: 0.6288, Test Loss: 0.6236\n",
      "Epoch [71/300], Train Loss: 0.6105, Test Loss: 0.6354\n",
      "Epoch [81/300], Train Loss: 0.6156, Test Loss: 0.6316\n",
      "Epoch [91/300], Train Loss: 0.5961, Test Loss: 0.6341\n",
      "Epoch [101/300], Train Loss: 0.5773, Test Loss: 0.6324\n",
      "Epoch [111/300], Train Loss: 0.5703, Test Loss: 0.6481\n",
      "Stopped Training Early\n",
      "Best result at epoch=77 with loss=0.618588904539744\n"
     ]
    },
    {
     "data": {
      "text/plain": [
       "0.618588904539744"
      ]
     },
     "execution_count": 11,
     "metadata": {},
     "output_type": "execute_result"
    },
    {
     "data": {
      "image/png": "[encoded data removed]",
      "text/plain": [
       "<Figure size 640x480 with 1 Axes>"
      ]
     },
     "metadata": {},
     "output_type": "display_data"
    }
   ],
   "source": [
    "dropout_perc = 0.0\n",
    "num_layers = 2\n",
    "hidden_size = 50\n",
    "network = RNN_Model(input_size, num_layers, hidden_size, dropout_perc, hitting_mutators)\n",
    "network = network.to(device)\n",
    "\n",
    "optimizer = torch.optim.Adam(network.parameters(), lr=0.003)\n",
    "scheduler = lr_scheduler.ReduceLROnPlateau(optimizer, factor=0.5, patience=20, cooldown=5, verbose=False)\n",
    "loss_function = RNN_Classification_Loss\n",
    "\n",
    "num_epochs = 300\n",
    "training_generator = torch.utils.data.DataLoader(train_hitters_dataset, batch_size=batch_size, shuffle=True)\n",
    "testing_generator = torch.utils.data.DataLoader(test_hitters_dataset, batch_size=batch_size, shuffle=False)\n",
    "\n",
    "graph_y_range=(0.5,0.8)\n",
    "trainAndGraph(network, training_generator, testing_generator, loss_function, optimizer, scheduler, num_epochs, 10, early_stopping_cutoff=40, should_output=True, graph_y_range=graph_y_range)"
   ]
  }
 ],
 "metadata": {
  "kernelspec": {
   "display_name": "Python 3",
   "language": "python",
   "name": "python3"
  },
  "language_info": {
   "codemirror_mode": {
    "name": "ipython",
    "version": 3
   },
   "file_extension": ".py",
   "mimetype": "text/x-python",
   "name": "python",
   "nbconvert_exporter": "python",
   "pygments_lexer": "ipython3",
   "version": "3.11.9"
  }
 },
 "nbformat": 4,
 "nbformat_minor": 2
}
