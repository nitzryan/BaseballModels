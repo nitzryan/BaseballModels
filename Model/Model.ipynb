{
 "cells": [
  {
   "cell_type": "code",
   "execution_count": 2,
   "metadata": {},
   "outputs": [],
   "source": [
    "import torch\n",
    "import importlib"
   ]
  },
  {
   "cell_type": "markdown",
   "metadata": {},
   "source": [
    "Player Input"
   ]
  },
  {
   "cell_type": "code",
   "execution_count": 3,
   "metadata": {},
   "outputs": [],
   "source": [
    "import Player_Prep\n",
    "importlib.reload(Player_Prep)\n",
    "from Player_Prep import Generate_Hitters, Generate_Hitter_Mutators, Generate_Test_Train"
   ]
  },
  {
   "cell_type": "code",
   "execution_count": 4,
   "metadata": {},
   "outputs": [],
   "source": [
    "fielding_components = 4\n",
    "hitting_components = 5\n",
    "stealing_components = 1\n",
    "park_components = 2\n",
    "person_components = 3\n",
    "init_components = 3\n",
    "\n",
    "input_size = fielding_components + hitting_components + stealing_components + park_components + person_components + init_components"
   ]
  },
  {
   "cell_type": "code",
   "execution_count": 5,
   "metadata": {},
   "outputs": [
    {
     "name": "stderr",
     "output_type": "stream",
     "text": [
      "                                                                   \r"
     ]
    }
   ],
   "source": [
    "hitter_input, hitter_output, (fielding_stddev,\n",
    "                            hitting_stddev,\n",
    "                            stealing_stddev,\n",
    "                            park_stddev,\n",
    "                            person_stddev), hitter_ids = Generate_Hitters(fielding_components,\n",
    "                        hitting_components,\n",
    "                        stealing_components,\n",
    "                        park_components,\n",
    "                        person_components)"
   ]
  },
  {
   "cell_type": "markdown",
   "metadata": {},
   "source": [
    "Player Mutators"
   ]
  },
  {
   "cell_type": "code",
   "execution_count": 6,
   "metadata": {},
   "outputs": [],
   "source": [
    "fielding_scale = 0.6\n",
    "hitting_scale = 0.2\n",
    "stealing_scale = 0.3\n",
    "park_scale = 0.1\n",
    "person_scale = 0.3\n",
    "draft_scale = 0.2\n",
    "signing_age_scale = 0.5\n",
    "\n",
    "batch_size = 800\n",
    "max_input_size = 79"
   ]
  },
  {
   "cell_type": "code",
   "execution_count": 7,
   "metadata": {},
   "outputs": [
    {
     "name": "stderr",
     "output_type": "stream",
     "text": [
      "                                                            \r"
     ]
    }
   ],
   "source": [
    "hitting_mutators = Generate_Hitter_Mutators(batch_size, max_input_size,\n",
    "                        fielding_components,fielding_scale,fielding_stddev,\n",
    "                        hitting_components, hitting_scale, hitting_stddev,\n",
    "                        stealing_components, stealing_scale, stealing_stddev,\n",
    "                        park_components, park_scale, park_stddev,\n",
    "                        person_components, person_scale, person_stddev,\n",
    "                        draft_scale, signing_age_scale)"
   ]
  },
  {
   "cell_type": "markdown",
   "metadata": {},
   "source": [
    "Test/Train Split"
   ]
  },
  {
   "cell_type": "code",
   "execution_count": 8,
   "metadata": {},
   "outputs": [],
   "source": [
    "import Dataset\n",
    "importlib.reload(Dataset)\n",
    "from Dataset import HitterDataset"
   ]
  },
  {
   "cell_type": "code",
   "execution_count": 9,
   "metadata": {},
   "outputs": [],
   "source": [
    "test_size = 0.2\n",
    "random_state = 1\n",
    "\n",
    "x_train_padded, x_test_padded, y_train_padded, y_test_padded, train_lengths, test_lengths = Generate_Test_Train(\n",
    "    hitter_input, hitter_output, test_size, random_state)\n",
    "\n",
    "train_hitters_dataset = HitterDataset(x_train_padded, train_lengths, y_train_padded)\n",
    "test_hitters_dataset = HitterDataset(x_test_padded, test_lengths, y_test_padded)"
   ]
  },
  {
   "cell_type": "code",
   "execution_count": 10,
   "metadata": {},
   "outputs": [
    {
     "name": "stdout",
     "output_type": "stream",
     "text": [
      "torch.Size([78, 8720, 3])\n",
      "torch.Size([22, 3])\n"
     ]
    }
   ],
   "source": [
    "print(y_train_padded.shape)\n",
    "print(hitter_output[0].shape)"
   ]
  },
  {
   "cell_type": "markdown",
   "metadata": {},
   "source": [
    "Train Model"
   ]
  },
  {
   "cell_type": "code",
   "execution_count": 11,
   "metadata": {},
   "outputs": [],
   "source": [
    "import Model\n",
    "import Constants\n",
    "import Model_Train\n",
    "from torch.optim import lr_scheduler\n",
    "\n",
    "importlib.reload(Model)\n",
    "importlib.reload(Constants)\n",
    "importlib.reload(Model_Train)\n",
    "\n",
    "from Model import RNN_Model, RNN_Classification_Loss\n",
    "from Constants import device\n",
    "from Model_Train import trainAndGraph"
   ]
  },
  {
   "cell_type": "code",
   "execution_count": 12,
   "metadata": {},
   "outputs": [],
   "source": [
    "def count_parameters(model):\n",
    "    return sum(p.numel() for p in model.parameters() if p.requires_grad)"
   ]
  },
  {
   "cell_type": "code",
   "execution_count": 13,
   "metadata": {},
   "outputs": [
    {
     "name": "stdout",
     "output_type": "stream",
     "text": [
      "Num. Parameters: 2949\n",
      "Epoch [1/1000], Train Loss: 3.5596, Test Loss: 3.3009\n",
      "Epoch [11/1000], Train Loss: 0.6783, Test Loss: 0.6639\n",
      "Epoch [21/1000], Train Loss: 0.5495, Test Loss: 0.5462\n",
      "Epoch [31/1000], Train Loss: 0.5312, Test Loss: 0.5297\n",
      "Epoch [41/1000], Train Loss: 0.5221, Test Loss: 0.5269\n",
      "Epoch [51/1000], Train Loss: 0.5179, Test Loss: 0.5297\n",
      "Epoch [61/1000], Train Loss: 0.5155, Test Loss: 0.5198\n",
      "Epoch [71/1000], Train Loss: 0.5077, Test Loss: 0.5137\n",
      "Epoch [81/1000], Train Loss: 0.5065, Test Loss: 0.5201\n",
      "Epoch [91/1000], Train Loss: 0.4957, Test Loss: 0.5008\n",
      "Epoch [101/1000], Train Loss: 0.4940, Test Loss: 0.4963\n",
      "Epoch [111/1000], Train Loss: 0.4912, Test Loss: 0.4939\n",
      "Epoch [121/1000], Train Loss: 0.4870, Test Loss: 0.4968\n",
      "Epoch [131/1000], Train Loss: 0.4861, Test Loss: 0.4997\n",
      "Epoch [141/1000], Train Loss: 0.4834, Test Loss: 0.4915\n",
      "Epoch [151/1000], Train Loss: 0.4834, Test Loss: 0.4924\n",
      "Epoch [161/1000], Train Loss: 0.4757, Test Loss: 0.4968\n",
      "Epoch [171/1000], Train Loss: 0.4862, Test Loss: 0.4931\n",
      "Stopped Training Early\n",
      "Best result at epoch=138 with loss=0.4909117619196574\n"
     ]
    },
    {
     "data": {
      "text/plain": [
       "0.4909117619196574"
      ]
     },
     "execution_count": 13,
     "metadata": {},
     "output_type": "execute_result"
    },
    {
     "data": {
      "image/png": "[encoded data removed]",
      "text/plain": [
       "<Figure size 640x480 with 1 Axes>"
      ]
     },
     "metadata": {},
     "output_type": "display_data"
    },
    {
     "data": {
      "image/png": "[encoded data removed]",
      "text/plain": [
       "<Figure size 640x480 with 1 Axes>"
      ]
     },
     "metadata": {},
     "output_type": "display_data"
    },
    {
     "data": {
      "image/png": "[encoded data removed]",
      "text/plain": [
       "<Figure size 640x480 with 1 Axes>"
      ]
     },
     "metadata": {},
     "output_type": "display_data"
    }
   ],
   "source": [
    "dropout_perc = 0.0\n",
    "num_layers = 5\n",
    "hidden_size = 15\n",
    "network = RNN_Model(input_size, num_layers, hidden_size, dropout_perc, hitting_mutators)\n",
    "network = network.to(device)\n",
    "\n",
    "print(\"Num. Parameters:\", count_parameters(network))\n",
    "\n",
    "optimizer = torch.optim.Adam(network.parameters(), lr=0.003)\n",
    "scheduler = lr_scheduler.ReduceLROnPlateau(optimizer, factor=0.5, patience=20, cooldown=5, verbose=False)\n",
    "loss_function = RNN_Classification_Loss\n",
    "\n",
    "num_epochs = 1000\n",
    "training_generator = torch.utils.data.DataLoader(train_hitters_dataset, batch_size=batch_size, shuffle=True)\n",
    "testing_generator = torch.utils.data.DataLoader(test_hitters_dataset, batch_size=batch_size, shuffle=False)\n",
    "\n",
    "graph_y_range=(0.4,0.8)\n",
    "trainAndGraph(network, training_generator, testing_generator, loss_function, optimizer, scheduler, num_epochs, 10, early_stopping_cutoff=40, should_output=True, graph_y_range=graph_y_range)"
   ]
  },
  {
   "cell_type": "markdown",
   "metadata": {},
   "source": [
    "Sanity Check\n",
    "\n",
    "Check what model things of certain players"
   ]
  },
  {
   "cell_type": "code",
   "execution_count": 14,
   "metadata": {},
   "outputs": [],
   "source": [
    "import torch.nn.functional as F\n",
    "importlib.reload(Dataset)\n",
    "from Dataset import WAR_BUCKETS, LEVEL_BUCKETS, PA_BUCKETS"
   ]
  },
  {
   "cell_type": "code",
   "execution_count": 15,
   "metadata": {},
   "outputs": [],
   "source": [
    "paddedHitterInput = torch.nn.utils.rnn.pad_sequence(hitter_input)\n",
    "hitterLengths = torch.tensor([len(seq) for seq in hitter_input])\n",
    "network.load_state_dict(torch.load(\"best_model.pt\"))\n",
    "network.eval()\n",
    "network = network.to(device)\n",
    "\n",
    "def GetPlayer(name, id, stat):\n",
    "    with torch.no_grad():\n",
    "        for i, hitter in enumerate(hitter_ids):\n",
    "            if hitter == id:\n",
    "                idx = i\n",
    "                break\n",
    "            \n",
    "        input = paddedHitterInput[:,idx,:].unsqueeze(0).clone()\n",
    "        # input[:,:,1] = (input[0,0,1] - pickMean) / pickStd\n",
    "        output_war, output_level, output_pa = network(input.to(device), hitterLengths[idx].unsqueeze(0).to(device))\n",
    "\n",
    "        print(name)\n",
    "        torch.set_printoptions(precision=2, sci_mode=False, linewidth=1000)\n",
    "        \n",
    "        if stat == \"WAR\":\n",
    "            print(\"WAR\")\n",
    "            print(F.softmax(output_war.squeeze(0).squeeze(1).data, dim=1).cpu())\n",
    "            print(hitter_output[idx][0][0].item())\n",
    "            print(torch.bucketize(hitter_output[idx][0][0], WAR_BUCKETS).cpu().item())\n",
    "        elif stat == \"Level\":\n",
    "            print(\"Level\")\n",
    "            print(F.softmax(output_level.squeeze(0).squeeze(1).data, dim=1).cpu())\n",
    "            print(hitter_output[idx][0][1].item())\n",
    "            print(torch.bucketize(hitter_output[idx][0][1], LEVEL_BUCKETS).cpu().item())\n",
    "        \n",
    "        elif stat == \"PA\":\n",
    "            print(\"PA\")\n",
    "            print(F.softmax(output_pa.squeeze(0).squeeze(1).data, dim=1).cpu())\n",
    "            print(hitter_output[idx][0][2].item())\n",
    "            print(torch.bucketize(hitter_output[idx][0][2], PA_BUCKETS).cpu().item())"
   ]
  },
  {
   "cell_type": "code",
   "execution_count": 16,
   "metadata": {},
   "outputs": [
    {
     "name": "stdout",
     "output_type": "stream",
     "text": [
      "Michael Harrington\n",
      "WAR\n",
      "tensor([[    0.97,     0.01,     0.01,     0.01,     0.00,     0.00,     0.00],\n",
      "        [    0.94,     0.02,     0.02,     0.01,     0.01,     0.00,     0.00],\n",
      "        [    0.95,     0.02,     0.01,     0.01,     0.01,     0.00,     0.00],\n",
      "        [    0.98,     0.01,     0.01,     0.00,     0.00,     0.00,     0.00],\n",
      "        [    0.99,     0.01,     0.00,     0.00,     0.00,     0.00,     0.00],\n",
      "        [    0.99,     0.00,     0.00,     0.00,     0.00,     0.00,     0.00],\n",
      "        [    0.99,     0.00,     0.00,     0.00,     0.00,     0.00,     0.00],\n",
      "        [    1.00,     0.00,     0.00,     0.00,     0.00,     0.00,     0.00],\n",
      "        [    1.00,     0.00,     0.00,     0.00,     0.00,     0.00,     0.00],\n",
      "        [    1.00,     0.00,     0.00,     0.00,     0.00,     0.00,     0.00],\n",
      "        [    1.00,     0.00,     0.00,     0.00,     0.00,     0.00,     0.00],\n",
      "        [    1.00,     0.00,     0.00,     0.00,     0.00,     0.00,     0.00],\n",
      "        [    1.00,     0.00,     0.00,     0.00,     0.00,     0.00,     0.00],\n",
      "        [    1.00,     0.00,     0.00,     0.00,     0.00,     0.00,     0.00],\n",
      "        [    1.00,     0.00,     0.00,     0.00,     0.00,     0.00,     0.00],\n",
      "        [    1.00,     0.00,     0.00,     0.00,     0.00,     0.00,     0.00],\n",
      "        [    1.00,     0.00,     0.00,     0.00,     0.00,     0.00,     0.00]])\n",
      "0.0\n",
      "0\n",
      "Mike Trout\n",
      "WAR\n",
      "tensor([[0.62, 0.10, 0.09, 0.08, 0.08, 0.02, 0.01],\n",
      "        [0.55, 0.08, 0.12, 0.10, 0.10, 0.03, 0.01],\n",
      "        [0.47, 0.09, 0.14, 0.12, 0.13, 0.04, 0.01],\n",
      "        [0.55, 0.08, 0.12, 0.11, 0.10, 0.02, 0.01],\n",
      "        [0.38, 0.08, 0.17, 0.15, 0.15, 0.06, 0.02],\n",
      "        [0.23, 0.08, 0.18, 0.19, 0.21, 0.09, 0.02],\n",
      "        [0.16, 0.08, 0.17, 0.20, 0.22, 0.13, 0.04],\n",
      "        [0.15, 0.07, 0.14, 0.20, 0.21, 0.16, 0.07],\n",
      "        [0.15, 0.06, 0.12, 0.18, 0.19, 0.20, 0.09],\n",
      "        [0.15, 0.06, 0.11, 0.18, 0.19, 0.20, 0.10],\n",
      "        [0.15, 0.06, 0.11, 0.17, 0.19, 0.22, 0.11],\n",
      "        [0.15, 0.06, 0.10, 0.16, 0.19, 0.23, 0.12],\n",
      "        [0.15, 0.05, 0.10, 0.16, 0.19, 0.23, 0.12],\n",
      "        [0.15, 0.06, 0.10, 0.16, 0.19, 0.23, 0.12],\n",
      "        [0.15, 0.05, 0.10, 0.16, 0.19, 0.23, 0.12],\n",
      "        [0.15, 0.06, 0.11, 0.18, 0.20, 0.20, 0.09],\n",
      "        [0.15, 0.07, 0.13, 0.19, 0.21, 0.18, 0.08]])\n",
      "47.20000076293945\n",
      "6\n",
      "Levi Michael\n",
      "WAR\n",
      "tensor([[    0.60,     0.10,     0.10,     0.09,     0.08,     0.02,     0.01],\n",
      "        [    0.37,     0.09,     0.17,     0.16,     0.15,     0.05,     0.01],\n",
      "        [    0.50,     0.10,     0.16,     0.12,     0.10,     0.02,     0.00],\n",
      "        [    0.50,     0.11,     0.17,     0.11,     0.09,     0.01,     0.00],\n",
      "        [    0.49,     0.11,     0.18,     0.12,     0.10,     0.01,     0.00],\n",
      "        [    0.56,     0.11,     0.16,     0.09,     0.07,     0.01,     0.00],\n",
      "        [    0.64,     0.11,     0.12,     0.07,     0.05,     0.00,     0.00],\n",
      "        [    0.69,     0.11,     0.10,     0.06,     0.03,     0.00,     0.00],\n",
      "        [    0.66,     0.11,     0.12,     0.07,     0.04,     0.00,     0.00],\n",
      "        [    0.71,     0.11,     0.10,     0.05,     0.03,     0.00,     0.00],\n",
      "        [    0.76,     0.11,     0.08,     0.04,     0.02,     0.00,     0.00],\n",
      "        [    0.78,     0.11,     0.07,     0.03,     0.02,     0.00,     0.00],\n",
      "        [    0.80,     0.10,     0.06,     0.03,     0.01,     0.00,     0.00],\n",
      "        [    0.76,     0.11,     0.08,     0.04,     0.02,     0.00,     0.00],\n",
      "        [    0.79,     0.10,     0.07,     0.03,     0.02,     0.00,     0.00],\n",
      "        [    0.83,     0.08,     0.05,     0.02,     0.01,     0.00,     0.00],\n",
      "        [    0.86,     0.07,     0.04,     0.02,     0.01,     0.00,     0.00],\n",
      "        [    0.80,     0.10,     0.06,     0.03,     0.01,     0.00,     0.00],\n",
      "        [    0.84,     0.08,     0.05,     0.02,     0.01,     0.00,     0.00],\n",
      "        [    0.84,     0.09,     0.05,     0.02,     0.01,     0.00,     0.00],\n",
      "        [    0.81,     0.10,     0.06,     0.02,     0.01,     0.00,     0.00],\n",
      "        [    0.86,     0.08,     0.04,     0.02,     0.01,     0.00,     0.00],\n",
      "        [    0.81,     0.11,     0.05,     0.02,     0.01,     0.00,     0.00],\n",
      "        [    0.88,     0.08,     0.03,     0.01,     0.00,     0.00,     0.00],\n",
      "        [    0.88,     0.07,     0.03,     0.01,     0.00,     0.00,     0.00],\n",
      "        [    0.92,     0.06,     0.02,     0.01,     0.00,     0.00,     0.00],\n",
      "        [    0.95,     0.03,     0.01,     0.00,     0.00,     0.00,     0.00],\n",
      "        [    0.95,     0.03,     0.01,     0.00,     0.00,     0.00,     0.00],\n",
      "        [    0.98,     0.02,     0.00,     0.00,     0.00,     0.00,     0.00],\n",
      "        [    0.99,     0.01,     0.00,     0.00,     0.00,     0.00,     0.00],\n",
      "        [    0.99,     0.00,     0.00,     0.00,     0.00,     0.00,     0.00],\n",
      "        [    0.99,     0.01,     0.00,     0.00,     0.00,     0.00,     0.00],\n",
      "        [    0.99,     0.01,     0.00,     0.00,     0.00,     0.00,     0.00],\n",
      "        [    0.99,     0.00,     0.00,     0.00,     0.00,     0.00,     0.00],\n",
      "        [    0.99,     0.01,     0.00,     0.00,     0.00,     0.00,     0.00],\n",
      "        [    0.99,     0.01,     0.00,     0.00,     0.00,     0.00,     0.00],\n",
      "        [    0.99,     0.01,     0.00,     0.00,     0.00,     0.00,     0.00],\n",
      "        [    0.99,     0.00,     0.00,     0.00,     0.00,     0.00,     0.00],\n",
      "        [    0.99,     0.01,     0.00,     0.00,     0.00,     0.00,     0.00],\n",
      "        [    0.99,     0.01,     0.00,     0.00,     0.00,     0.00,     0.00],\n",
      "        [    0.98,     0.01,     0.00,     0.00,     0.00,     0.00,     0.00],\n",
      "        [    0.99,     0.01,     0.00,     0.00,     0.00,     0.00,     0.00]])\n",
      "0.0\n",
      "0\n",
      "Bryce Harper\n",
      "WAR\n",
      "tensor([[0.22, 0.08, 0.14, 0.16, 0.17, 0.15, 0.08],\n",
      "        [0.16, 0.06, 0.12, 0.18, 0.19, 0.19, 0.09],\n",
      "        [0.15, 0.06, 0.10, 0.17, 0.19, 0.22, 0.11],\n",
      "        [0.15, 0.06, 0.10, 0.16, 0.19, 0.23, 0.12],\n",
      "        [0.15, 0.06, 0.10, 0.16, 0.19, 0.23, 0.12],\n",
      "        [0.15, 0.06, 0.10, 0.16, 0.19, 0.23, 0.12],\n",
      "        [0.15, 0.06, 0.10, 0.16, 0.19, 0.23, 0.12],\n",
      "        [0.15, 0.06, 0.10, 0.16, 0.19, 0.23, 0.12],\n",
      "        [0.15, 0.06, 0.10, 0.16, 0.19, 0.23, 0.12],\n",
      "        [0.15, 0.06, 0.10, 0.16, 0.19, 0.23, 0.12]])\n",
      "25.5\n",
      "5\n",
      "Mike Moustakas\n",
      "WAR\n",
      "tensor([[0.25, 0.09, 0.15, 0.16, 0.16, 0.13, 0.07],\n",
      "        [0.21, 0.07, 0.16, 0.18, 0.20, 0.14, 0.05],\n",
      "        [0.22, 0.07, 0.18, 0.18, 0.20, 0.11, 0.03],\n",
      "        [0.16, 0.07, 0.17, 0.20, 0.22, 0.14, 0.05],\n",
      "        [0.15, 0.07, 0.15, 0.20, 0.21, 0.15, 0.06],\n",
      "        [0.15, 0.07, 0.14, 0.20, 0.21, 0.16, 0.06],\n",
      "        [0.15, 0.07, 0.13, 0.19, 0.20, 0.18, 0.08],\n",
      "        [0.15, 0.06, 0.12, 0.18, 0.20, 0.20, 0.09],\n",
      "        [0.16, 0.07, 0.16, 0.19, 0.22, 0.15, 0.06],\n",
      "        [0.16, 0.08, 0.16, 0.20, 0.22, 0.14, 0.05],\n",
      "        [0.17, 0.08, 0.19, 0.19, 0.23, 0.10, 0.03],\n",
      "        [0.21, 0.09, 0.21, 0.18, 0.22, 0.07, 0.02],\n",
      "        [0.31, 0.11, 0.23, 0.15, 0.16, 0.03, 0.01],\n",
      "        [0.38, 0.11, 0.21, 0.14, 0.14, 0.02, 0.00],\n",
      "        [0.51, 0.12, 0.18, 0.10, 0.08, 0.01, 0.00],\n",
      "        [0.52, 0.12, 0.17, 0.10, 0.08, 0.01, 0.00],\n",
      "        [0.42, 0.12, 0.20, 0.13, 0.12, 0.01, 0.00],\n",
      "        [0.33, 0.11, 0.21, 0.16, 0.16, 0.03, 0.01],\n",
      "        [0.24, 0.10, 0.19, 0.18, 0.22, 0.05, 0.01],\n",
      "        [0.19, 0.10, 0.19, 0.19, 0.23, 0.07, 0.02],\n",
      "        [0.19, 0.10, 0.19, 0.19, 0.22, 0.08, 0.02],\n",
      "        [0.21, 0.11, 0.20, 0.18, 0.22, 0.06, 0.02],\n",
      "        [0.23, 0.11, 0.20, 0.18, 0.22, 0.05, 0.01],\n",
      "        [0.28, 0.13, 0.20, 0.16, 0.18, 0.03, 0.01],\n",
      "        [0.37, 0.16, 0.20, 0.13, 0.12, 0.01, 0.00]])\n",
      "8.699999809265137\n",
      "3\n",
      "Max Kepler\n",
      "WAR\n",
      "tensor([[    0.98,     0.01,     0.01,     0.00,     0.00,     0.00,     0.00],\n",
      "        [    0.94,     0.02,     0.02,     0.01,     0.01,     0.00,     0.00],\n",
      "        [    0.95,     0.02,     0.02,     0.01,     0.01,     0.00,     0.00],\n",
      "        [    0.93,     0.02,     0.02,     0.02,     0.02,     0.00,     0.00],\n",
      "        [    0.91,     0.02,     0.02,     0.02,     0.02,     0.00,     0.00],\n",
      "        [    0.90,     0.02,     0.03,     0.02,     0.02,     0.00,     0.00],\n",
      "        [    0.90,     0.02,     0.03,     0.02,     0.03,     0.00,     0.00],\n",
      "        [    0.93,     0.02,     0.02,     0.01,     0.02,     0.00,     0.00],\n",
      "        [    0.94,     0.02,     0.02,     0.01,     0.01,     0.00,     0.00],\n",
      "        [    0.95,     0.01,     0.01,     0.01,     0.01,     0.00,     0.00],\n",
      "        [    0.94,     0.02,     0.02,     0.01,     0.01,     0.00,     0.00],\n",
      "        [    0.93,     0.02,     0.02,     0.01,     0.01,     0.00,     0.00],\n",
      "        [    0.92,     0.02,     0.02,     0.02,     0.02,     0.00,     0.00],\n",
      "        [    0.92,     0.02,     0.02,     0.02,     0.02,     0.00,     0.00],\n",
      "        [    0.81,     0.04,     0.05,     0.04,     0.05,     0.00,     0.00],\n",
      "        [    0.60,     0.06,     0.10,     0.08,     0.13,     0.02,     0.01],\n",
      "        [    0.63,     0.06,     0.09,     0.08,     0.11,     0.02,     0.01],\n",
      "        [    0.70,     0.06,     0.08,     0.06,     0.09,     0.01,     0.00],\n",
      "        [    0.75,     0.05,     0.07,     0.05,     0.07,     0.01,     0.00],\n",
      "        [    0.61,     0.06,     0.11,     0.09,     0.11,     0.02,     0.01],\n",
      "        [    0.46,     0.08,     0.14,     0.12,     0.14,     0.05,     0.01],\n",
      "        [    0.50,     0.09,     0.14,     0.11,     0.13,     0.03,     0.01],\n",
      "        [    0.70,     0.08,     0.09,     0.06,     0.06,     0.01,     0.00],\n",
      "        [    0.55,     0.08,     0.14,     0.10,     0.10,     0.02,     0.00],\n",
      "        [    0.54,     0.09,     0.14,     0.11,     0.10,     0.02,     0.00],\n",
      "        [    0.59,     0.09,     0.13,     0.09,     0.08,     0.01,     0.00],\n",
      "        [    0.61,     0.09,     0.13,     0.09,     0.08,     0.01,     0.00],\n",
      "        [    0.51,     0.08,     0.16,     0.12,     0.11,     0.02,     0.00],\n",
      "        [    0.53,     0.09,     0.16,     0.11,     0.10,     0.02,     0.00],\n",
      "        [    0.56,     0.09,     0.15,     0.10,     0.08,     0.01,     0.00],\n",
      "        [    0.44,     0.10,     0.19,     0.13,     0.12,     0.02,     0.00],\n",
      "        [    0.37,     0.10,     0.20,     0.15,     0.15,     0.03,     0.01],\n",
      "        [    0.32,     0.10,     0.21,     0.16,     0.17,     0.03,     0.01],\n",
      "        [    0.26,     0.10,     0.20,     0.17,     0.21,     0.05,     0.01],\n",
      "        [    0.35,     0.10,     0.23,     0.15,     0.15,     0.02,     0.01],\n",
      "        [    0.38,     0.11,     0.21,     0.14,     0.14,     0.02,     0.00],\n",
      "        [    0.34,     0.11,     0.21,     0.15,     0.16,     0.03,     0.01],\n",
      "        [    0.30,     0.11,     0.21,     0.16,     0.19,     0.03,     0.01],\n",
      "        [    0.25,     0.11,     0.20,     0.17,     0.21,     0.05,     0.01]])\n",
      "13.300000190734863\n",
      "4\n",
      "Jose Altuve\n",
      "WAR\n",
      "tensor([[    0.98,     0.01,     0.01,     0.00,     0.00,     0.00,     0.00],\n",
      "        [    0.97,     0.01,     0.01,     0.01,     0.00,     0.00,     0.00],\n",
      "        [    0.86,     0.04,     0.04,     0.03,     0.03,     0.00,     0.00],\n",
      "        [    0.53,     0.07,     0.13,     0.10,     0.13,     0.03,     0.01],\n",
      "        [    0.41,     0.08,     0.15,     0.13,     0.17,     0.05,     0.01],\n",
      "        [    0.47,     0.08,     0.14,     0.12,     0.14,     0.04,     0.01],\n",
      "        [    0.52,     0.09,     0.13,     0.11,     0.12,     0.03,     0.01],\n",
      "        [    0.58,     0.09,     0.12,     0.09,     0.10,     0.02,     0.01],\n",
      "        [    0.73,     0.07,     0.07,     0.05,     0.06,     0.01,     0.00],\n",
      "        [    0.69,     0.07,     0.09,     0.06,     0.07,     0.01,     0.00],\n",
      "        [    0.79,     0.05,     0.06,     0.04,     0.05,     0.01,     0.00],\n",
      "        [    0.85,     0.04,     0.04,     0.03,     0.04,     0.00,     0.00],\n",
      "        [    0.88,     0.03,     0.03,     0.02,     0.03,     0.00,     0.00],\n",
      "        [    0.89,     0.03,     0.03,     0.02,     0.03,     0.00,     0.00],\n",
      "        [    0.87,     0.03,     0.03,     0.03,     0.03,     0.00,     0.00],\n",
      "        [    0.73,     0.05,     0.07,     0.06,     0.07,     0.01,     0.00],\n",
      "        [    0.54,     0.07,     0.12,     0.10,     0.14,     0.03,     0.01],\n",
      "        [    0.47,     0.07,     0.13,     0.11,     0.16,     0.04,     0.01],\n",
      "        [    0.39,     0.07,     0.15,     0.14,     0.17,     0.07,     0.02],\n",
      "        [    0.41,     0.07,     0.17,     0.14,     0.16,     0.05,     0.01],\n",
      "        [    0.36,     0.08,     0.20,     0.16,     0.16,     0.04,     0.01],\n",
      "        [    0.28,     0.09,     0.21,     0.17,     0.19,     0.05,     0.01],\n",
      "        [    0.27,     0.09,     0.21,     0.17,     0.19,     0.05,     0.01],\n",
      "        [    0.36,     0.09,     0.22,     0.15,     0.15,     0.03,     0.01],\n",
      "        [    0.31,     0.10,     0.21,     0.16,     0.18,     0.04,     0.01],\n",
      "        [    0.29,     0.10,     0.21,     0.17,     0.19,     0.04,     0.01],\n",
      "        [    0.24,     0.09,     0.20,     0.18,     0.22,     0.06,     0.01],\n",
      "        [    0.22,     0.10,     0.19,     0.18,     0.23,     0.07,     0.02],\n",
      "        [    0.21,     0.10,     0.20,     0.18,     0.23,     0.07,     0.02]])\n",
      "19.5\n",
      "4\n",
      "Danny Santana\n",
      "WAR\n",
      "tensor([[    0.98,     0.01,     0.01,     0.00,     0.00,     0.00,     0.00],\n",
      "        [    0.97,     0.01,     0.01,     0.01,     0.01,     0.00,     0.00],\n",
      "        [    0.97,     0.01,     0.01,     0.01,     0.01,     0.00,     0.00],\n",
      "        [    0.91,     0.02,     0.02,     0.02,     0.03,     0.00,     0.00],\n",
      "        [    0.87,     0.03,     0.03,     0.03,     0.04,     0.00,     0.00],\n",
      "        [    0.88,     0.03,     0.03,     0.03,     0.03,     0.00,     0.00],\n",
      "        [    0.89,     0.03,     0.03,     0.02,     0.03,     0.00,     0.00],\n",
      "        [    0.90,     0.02,     0.03,     0.02,     0.03,     0.00,     0.00],\n",
      "        [    0.78,     0.05,     0.06,     0.05,     0.06,     0.01,     0.00],\n",
      "        [    0.68,     0.05,     0.08,     0.07,     0.10,     0.02,     0.01],\n",
      "        [    0.57,     0.06,     0.10,     0.09,     0.13,     0.03,     0.01],\n",
      "        [    0.71,     0.06,     0.08,     0.06,     0.08,     0.01,     0.00],\n",
      "        [    0.75,     0.05,     0.07,     0.05,     0.06,     0.01,     0.00],\n",
      "        [    0.78,     0.05,     0.06,     0.05,     0.05,     0.01,     0.00],\n",
      "        [    0.85,     0.05,     0.04,     0.03,     0.03,     0.00,     0.00],\n",
      "        [    0.90,     0.03,     0.03,     0.02,     0.02,     0.00,     0.00],\n",
      "        [    0.84,     0.05,     0.05,     0.03,     0.02,     0.00,     0.00],\n",
      "        [    0.89,     0.04,     0.03,     0.02,     0.02,     0.00,     0.00],\n",
      "        [    0.78,     0.07,     0.07,     0.05,     0.04,     0.00,     0.00],\n",
      "        [    0.78,     0.07,     0.07,     0.05,     0.04,     0.00,     0.00],\n",
      "        [    0.76,     0.07,     0.07,     0.05,     0.04,     0.00,     0.00],\n",
      "        [    0.79,     0.07,     0.06,     0.04,     0.03,     0.00,     0.00],\n",
      "        [    0.82,     0.06,     0.05,     0.03,     0.03,     0.00,     0.00],\n",
      "        [    0.86,     0.05,     0.04,     0.03,     0.02,     0.00,     0.00],\n",
      "        [    0.68,     0.08,     0.10,     0.07,     0.06,     0.01,     0.00],\n",
      "        [    0.62,     0.09,     0.13,     0.08,     0.07,     0.01,     0.00],\n",
      "        [    0.72,     0.10,     0.09,     0.05,     0.03,     0.00,     0.00],\n",
      "        [    0.65,     0.10,     0.12,     0.07,     0.05,     0.00,     0.00],\n",
      "        [    0.52,     0.10,     0.17,     0.11,     0.09,     0.01,     0.00],\n",
      "        [    0.55,     0.10,     0.16,     0.10,     0.08,     0.01,     0.00],\n",
      "        [    0.57,     0.11,     0.16,     0.09,     0.07,     0.01,     0.00],\n",
      "        [    0.51,     0.11,     0.17,     0.10,     0.08,     0.01,     0.00],\n",
      "        [    0.53,     0.12,     0.17,     0.10,     0.08,     0.01,     0.00],\n",
      "        [    0.48,     0.12,     0.18,     0.11,     0.09,     0.01,     0.00],\n",
      "        [    0.41,     0.12,     0.20,     0.13,     0.12,     0.02,     0.00],\n",
      "        [    0.43,     0.11,     0.20,     0.13,     0.12,     0.01,     0.00],\n",
      "        [    0.39,     0.12,     0.20,     0.14,     0.13,     0.02,     0.00],\n",
      "        [    0.30,     0.11,     0.21,     0.16,     0.18,     0.03,     0.01],\n",
      "        [    0.25,     0.11,     0.20,     0.17,     0.21,     0.05,     0.01]])\n",
      "4.099999904632568\n",
      "2\n"
     ]
    }
   ],
   "source": [
    "stat = \"WAR\"\n",
    "GetPlayer(\"Michael Harrington\", 518769, stat)\n",
    "GetPlayer(\"Mike Trout\", 545361, stat)\n",
    "GetPlayer(\"Levi Michael\", 605381, stat)\n",
    "GetPlayer(\"Bryce Harper\", 547180, stat)\n",
    "GetPlayer(\"Mike Moustakas\", 519058, stat)\n",
    "GetPlayer(\"Max Kepler\", 596146, stat)\n",
    "GetPlayer(\"Jose Altuve\", 514888, stat)\n",
    "GetPlayer(\"Danny Santana\", 542454, stat)"
   ]
  },
  {
   "cell_type": "markdown",
   "metadata": {},
   "source": [
    "Save Model Results for Players"
   ]
  },
  {
   "cell_type": "code",
   "execution_count": 17,
   "metadata": {},
   "outputs": [],
   "source": [
    "import Output\n",
    "importlib.reload(Constants)\n",
    "importlib.reload(Player_Prep)\n",
    "importlib.reload(Output)\n",
    "from Output import Delete_Model_Run_Hitter, Generate_Model_Run_Hitter\n",
    "from Constants import db"
   ]
  },
  {
   "cell_type": "code",
   "execution_count": 18,
   "metadata": {},
   "outputs": [],
   "source": [
    "cursor = db.cursor()\n",
    "all_hitter_ids = cursor.execute(\"SELECT mlbId FROM Model_Players WHERE isHitter='1'\").fetchall()"
   ]
  },
  {
   "cell_type": "code",
   "execution_count": 19,
   "metadata": {},
   "outputs": [
    {
     "name": "stderr",
     "output_type": "stream",
     "text": [
      "Read Player Data: 100%|██████████| 17274/17274 [00:54<00:00, 318.29it/s]\n",
      "Model Run: 100%|██████████| 17274/17274 [01:23<00:00, 205.93it/s]\n"
     ]
    }
   ],
   "source": [
    "model = \"test_run_hitters\"\n",
    "Delete_Model_Run_Hitter(model)\n",
    "Generate_Model_Run_Hitter(model, all_hitter_ids, hitter_ids, network, device, leave_progress=True)"
   ]
  }
 ],
 "metadata": {
  "kernelspec": {
   "display_name": "Python 3",
   "language": "python",
   "name": "python3"
  },
  "language_info": {
   "codemirror_mode": {
    "name": "ipython",
    "version": 3
   },
   "file_extension": ".py",
   "mimetype": "text/x-python",
   "name": "python",
   "nbconvert_exporter": "python",
   "pygments_lexer": "ipython3",
   "version": "3.11.9"
  }
 },
 "nbformat": 4,
 "nbformat_minor": 2
}
