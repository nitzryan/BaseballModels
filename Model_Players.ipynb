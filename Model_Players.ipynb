{
 "cells": [
  {
   "cell_type": "code",
   "execution_count": 1,
   "metadata": {},
   "outputs": [],
   "source": [
    "START_YEAR = 2005\n",
    "CURRENT_YEAR = 2024"
   ]
  },
  {
   "cell_type": "code",
   "execution_count": 2,
   "metadata": {},
   "outputs": [],
   "source": [
    "import sqlite3\n",
    "from tqdm import tqdm"
   ]
  },
  {
   "cell_type": "code",
   "execution_count": 3,
   "metadata": {},
   "outputs": [],
   "source": [
    "db = sqlite3.connect(\"BaseballStats.db\")"
   ]
  },
  {
   "cell_type": "code",
   "execution_count": 4,
   "metadata": {},
   "outputs": [
    {
     "name": "stderr",
     "output_type": "stream",
     "text": [
      "100%|██████████| 23716/23716 [00:00<00:00, 696920.18it/s]\n"
     ]
    }
   ],
   "source": [
    "db.rollback()\n",
    "cursor = db.cursor()\n",
    "cursor.execute(\"BEGIN TRANSACTION\")\n",
    "cursor.execute(\"DELETE FROM Model_Players\")\n",
    "\n",
    "data = cursor.execute(f'''\n",
    "                      SELECT DISTINCT(pcs.mlbId), pcs.position, pcs.agedOut, pcs.serviceEndYear, pre.year, pre.month, psl.year, p.birthYear, p.birthMonth, p.birthDate, p.signingYear\n",
    "                      FROM Player_CareerStatus AS pcs\n",
    "                      LEFT JOIN Player_RookieEligibility AS pre ON pcs.mlbId = pre.mlbId\n",
    "                      LEFT JOIN Player_ServiceLapse AS psl ON pcs.mlbId = psl.mlbId\n",
    "                      INNER JOIN Player AS p ON pcs.mlbId = p.mlbId\n",
    "                      WHERE pcs.isPrimaryPosition='1'\n",
    "                      AND pcs.careerStartYear>='{START_YEAR}'\n",
    "                      AND (\n",
    "                          pcs.serviceEndYear IS NOT NULL\n",
    "                          OR pcs.agedOut>'0'\n",
    "                          OR psl.year IS NOT NULL\n",
    "                      )\n",
    "                      AND pcs.ignorePlayer IS NULL\n",
    "                      AND p.birthYear IS NOT NULL\n",
    "                      AND p.birthMonth IS NOT NULL\n",
    "                      AND p.birthDate IS NOT NULL\n",
    "                      ''').fetchall()\n",
    "\n",
    "for id, position, agedOut, serviceEndYear, rookieYear, rookieMonth, serviceLapseYear, birthYear, birthMonth, birthDate, signingYear in tqdm(data):\n",
    "    # Positions\n",
    "    if position == \"hitting\":\n",
    "        isHitter = 1\n",
    "        isPitcher = 0\n",
    "    else:\n",
    "        isHitter = 0\n",
    "        isPitcher = 1\n",
    "        \n",
    "    # Determine last MLB Season\n",
    "    if agedOut is not None and agedOut!= 0:\n",
    "        lastMLBSeason = agedOut\n",
    "    elif serviceLapseYear is not None:\n",
    "        lastMLBSeason = serviceLapseYear\n",
    "    elif serviceEndYear is not None:\n",
    "        lastMLBSeason = serviceEndYear\n",
    "    else:\n",
    "        raise Exception(f\"No valid last MLB season for id={id}\")\n",
    "    \n",
    "    # Last prospect year/month\n",
    "    if agedOut is not None and agedOut != 0:\n",
    "        lastProspectYear = agedOut\n",
    "        lastProspectMonth = 13\n",
    "    elif rookieYear is not None and rookieMonth is not None:\n",
    "        lastProspectYear = rookieYear\n",
    "        lastProspectMonth = rookieMonth\n",
    "    elif serviceLapseYear is not None:\n",
    "        lastProspectYear = serviceLapseYear\n",
    "        lastProspectMonth = 13\n",
    "    else:\n",
    "        raise Exception(f\"No valid last prospect season for id={id}\")\n",
    "    \n",
    "    # Age at signing\n",
    "    # Use 07/01/SigningYear for signing date.  Should try to get better data for this\n",
    "    signingYear += 0.5\n",
    "    signingAge = signingYear - birthYear - (birthMonth - 1) / 12 - (birthDate - 1) / 365\n",
    "    if signingAge >= 27: # Player will immediately be ineligible, so discard\n",
    "        continue\n",
    "    \n",
    "    cursor.execute(\"INSERT INTO Model_Players VALUES(?,?,?,?,?,?,?)\", (id, isHitter, isPitcher, lastProspectYear, lastProspectMonth, lastMLBSeason, signingAge))\n",
    "\n",
    "cursor.execute(\"END TRANSACTION\")\n",
    "db.commit()"
   ]
  },
  {
   "cell_type": "markdown",
   "metadata": {},
   "source": [
    "Check how many players, and percentage of players at each start year that have had usable careers\n",
    "\n",
    "Use to check what year cutoff to use for model\n",
    "\n",
    "21AUG2024 Chose 2013 as cutoff with 95.5% of players eligible in that year, overall 8183 eligible players"
   ]
  },
  {
   "cell_type": "code",
   "execution_count": 5,
   "metadata": {},
   "outputs": [
    {
     "name": "stdout",
     "output_type": "stream",
     "text": [
      "Year= 2005 Cumulative=   819 Total=  841 Percentage=0.974\n",
      "Year= 2006 Cumulative=  1953 Total= 1147 Percentage=0.989\n",
      "Year= 2007 Cumulative=  2945 Total=  994 Percentage=0.998\n",
      "Year= 2008 Cumulative=  3875 Total=  937 Percentage=0.993\n",
      "Year= 2009 Cumulative=  4777 Total=  903 Percentage=0.999\n",
      "Year= 2010 Cumulative=  5689 Total=  916 Percentage=0.996\n",
      "Year= 2011 Cumulative=  6526 Total=  849 Percentage=0.986\n",
      "Year= 2012 Cumulative=  7360 Total=  856 Percentage=0.974\n",
      "Year= 2013 Cumulative=  8183 Total=  862 Percentage=0.955\n",
      "Year= 2014 Cumulative=  8976 Total=  885 Percentage=0.896\n",
      "Year= 2015 Cumulative=  9557 Total=  880 Percentage=0.660\n",
      "Year= 2016 Cumulative= 10017 Total=  928 Percentage=0.496\n",
      "Year= 2017 Cumulative= 10422 Total=  916 Percentage=0.442\n",
      "Year= 2018 Cumulative= 10734 Total= 1033 Percentage=0.302\n",
      "Year= 2019 Cumulative= 10865 Total=  893 Percentage=0.147\n",
      "Year= 2020 Cumulative= 10865 Total=    1 Percentage=0.000\n",
      "Year= 2021 Cumulative= 10892 Total= 1277 Percentage=0.021\n",
      "Year= 2022 Cumulative= 10899 Total=  791 Percentage=0.009\n",
      "Year= 2023 Cumulative= 10900 Total=  790 Percentage=0.001\n",
      "Year= 2024 Cumulative= 10900 Total=  624 Percentage=0.000\n"
     ]
    }
   ],
   "source": [
    "cursor = db.cursor()\n",
    "cumulativePlayers = 0\n",
    "for year in range(START_YEAR, CURRENT_YEAR + 1):\n",
    "    ids = cursor.execute('''\n",
    "                         SELECT mlbId\n",
    "                         FROM Player_CareerStatus \n",
    "                         WHERE position='hitting'\n",
    "                         AND isPrimaryPosition='1'\n",
    "                         AND careerStartYear=?\n",
    "                         AND ignorePlayer IS NULL\n",
    "                         ''', (year,)).fetchall()\n",
    "    \n",
    "    foundPlayers = 0\n",
    "    totalPlayers = 0\n",
    "    for (id,) in ids:\n",
    "        if cursor.execute(\"SELECT COUNT(*) FROM Model_Players WHERE mlbId=?\", (id,)).fetchone()[0] > 0:\n",
    "            foundPlayers += 1\n",
    "        totalPlayers += 1\n",
    "        \n",
    "    cumulativePlayers += foundPlayers\n",
    "    if totalPlayers == 0:\n",
    "        totalPlayers = 1\n",
    "    print(f'Year={year:5d} Cumulative={cumulativePlayers:6d} Total={totalPlayers:5d} Percentage={(foundPlayers / totalPlayers):.3f}')"
   ]
  },
  {
   "cell_type": "code",
   "execution_count": 6,
   "metadata": {},
   "outputs": [],
   "source": [
    "CUTOFF_YEAR = 2013"
   ]
  },
  {
   "cell_type": "code",
   "execution_count": 7,
   "metadata": {},
   "outputs": [
    {
     "name": "stderr",
     "output_type": "stream",
     "text": [
      "100%|██████████| 17350/17350 [00:00<00:00, 663383.45it/s]\n"
     ]
    }
   ],
   "source": [
    "db.rollback()\n",
    "cursor = db.cursor()\n",
    "cursor.execute(\"BEGIN TRANSACTION\")\n",
    "cursor.execute(\"DELETE FROM Model_Players\")\n",
    "\n",
    "data = cursor.execute(f'''\n",
    "                      SELECT DISTINCT(pcs.mlbId), pcs.position, pcs.agedOut, pcs.serviceEndYear, pre.year, pre.month, psl.year, p.birthYear, p.birthMonth, p.birthDate, p.signingYear\n",
    "                      FROM Player_CareerStatus AS pcs\n",
    "                      LEFT JOIN Player_RookieEligibility AS pre ON pcs.mlbId = pre.mlbId\n",
    "                      LEFT JOIN Player_ServiceLapse AS psl ON pcs.mlbId = psl.mlbId\n",
    "                      INNER JOIN Player AS p ON pcs.mlbId = p.mlbId\n",
    "                      WHERE pcs.isPrimaryPosition='1'\n",
    "                      AND pcs.careerStartYear>=?\n",
    "                      AND (\n",
    "                          pcs.serviceEndYear IS NOT NULL\n",
    "                          OR pcs.agedOut>'0'\n",
    "                          OR psl.year IS NOT NULL\n",
    "                      )\n",
    "                      AND pcs.ignorePlayer IS NULL\n",
    "                      AND p.birthYear IS NOT NULL\n",
    "                      AND p.birthMonth IS NOT NULL\n",
    "                      AND p.birthDate IS NOT NULL\n",
    "                      AND pcs.careerStartYear<=?\n",
    "                      ''', (START_YEAR, CUTOFF_YEAR)).fetchall()\n",
    "\n",
    "for id, position, agedOut, serviceEndYear, rookieYear, rookieMonth, serviceLapseYear, birthYear, birthMonth, birthDate, signingYear in tqdm(data):\n",
    "    # Positions\n",
    "    if position == \"hitting\":\n",
    "        isHitter = 1\n",
    "        isPitcher = 0\n",
    "    else:\n",
    "        isHitter = 0\n",
    "        isPitcher = 1\n",
    "        \n",
    "    # Determine last MLB Season\n",
    "    if agedOut is not None and agedOut!= 0:\n",
    "        lastMLBSeason = agedOut\n",
    "    elif serviceLapseYear is not None:\n",
    "        lastMLBSeason = serviceLapseYear\n",
    "    elif serviceEndYear is not None:\n",
    "        lastMLBSeason = serviceEndYear\n",
    "    else:\n",
    "        raise Exception(f\"No valid last MLB season for id={id}\")\n",
    "    \n",
    "    # Last prospect year/month\n",
    "    if agedOut is not None and agedOut != 0:\n",
    "        lastProspectYear = agedOut\n",
    "        lastProspectMonth = 13\n",
    "    elif rookieYear is not None and rookieMonth is not None:\n",
    "        lastProspectYear = rookieYear\n",
    "        lastProspectMonth = rookieMonth\n",
    "    elif serviceLapseYear is not None:\n",
    "        lastProspectYear = serviceLapseYear\n",
    "        lastProspectMonth = 13\n",
    "    else:\n",
    "        raise Exception(f\"No valid last prospect season for id={id}\")\n",
    "    \n",
    "    # Age at signing\n",
    "    # Use 07/01/SigningYear for signing date.  Should try to get better data for this\n",
    "    signingYear += 0.5\n",
    "    signingAge = signingYear - birthYear - (birthMonth - 1) / 12 - (birthDate - 1) / 365\n",
    "    if signingAge >= 27: # Player will immediately be ineligible, so discard\n",
    "        continue\n",
    "    \n",
    "    cursor.execute(\"INSERT INTO Model_Players VALUES(?,?,?,?,?,?,?)\", (id, isHitter, isPitcher, lastProspectYear, lastProspectMonth, lastMLBSeason, signingAge))\n",
    "\n",
    "cursor.execute(\"END TRANSACTION\")\n",
    "db.commit()"
   ]
  }
 ],
 "metadata": {
  "kernelspec": {
   "display_name": "Python 3",
   "language": "python",
   "name": "python3"
  },
  "language_info": {
   "codemirror_mode": {
    "name": "ipython",
    "version": 3
   },
   "file_extension": ".py",
   "mimetype": "text/x-python",
   "name": "python",
   "nbconvert_exporter": "python",
   "pygments_lexer": "ipython3",
   "version": "3.11.9"
  }
 },
 "nbformat": 4,
 "nbformat_minor": 2
}
