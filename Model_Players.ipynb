{
 "cells": [
  {
   "cell_type": "code",
   "execution_count": 4,
   "metadata": {},
   "outputs": [],
   "source": [
    "START_YEAR = 2005\n",
    "CURRENT_YEAR = 2024"
   ]
  },
  {
   "cell_type": "code",
   "execution_count": 2,
   "metadata": {},
   "outputs": [],
   "source": [
    "import sqlite3\n",
    "from tqdm import tqdm"
   ]
  },
  {
   "cell_type": "code",
   "execution_count": 3,
   "metadata": {},
   "outputs": [],
   "source": [
    "db = sqlite3.connect(\"BaseballStats.db\")"
   ]
  },
  {
   "cell_type": "code",
   "execution_count": 26,
   "metadata": {},
   "outputs": [
    {
     "name": "stderr",
     "output_type": "stream",
     "text": [
      "100%|██████████| 23715/23715 [00:00<00:00, 613420.16it/s]\n"
     ]
    }
   ],
   "source": [
    "db.rollback()\n",
    "cursor = db.cursor()\n",
    "cursor.execute(\"BEGIN TRANSACTION\")\n",
    "cursor.execute(\"DELETE FROM Model_Players\")\n",
    "\n",
    "data = cursor.execute(f'''\n",
    "                      SELECT DISTINCT(pcs.mlbId), pcs.position, pcs.agedOut, pcs.serviceEndYear, pre.year, pre.month, psl.year, p.birthYear, p.birthMonth, p.birthDate, p.signingYear\n",
    "                      FROM Player_CareerStatus AS pcs\n",
    "                      LEFT JOIN Player_RookieEligibility AS pre ON pcs.mlbId = pre.mlbId\n",
    "                      LEFT JOIN Player_ServiceLapse AS psl ON pcs.mlbId = psl.mlbId\n",
    "                      INNER JOIN Player AS p ON pcs.mlbId = p.mlbId\n",
    "                      WHERE pcs.isPrimaryPosition='1'\n",
    "                      AND pcs.careerStartYear>='{START_YEAR}'\n",
    "                      AND (\n",
    "                          pcs.serviceEndYear IS NOT NULL\n",
    "                          OR pcs.agedOut>'0'\n",
    "                          OR psl.year IS NOT NULL\n",
    "                      )\n",
    "                      AND pcs.ignorePlayer IS NULL\n",
    "                      AND p.birthYear IS NOT NULL\n",
    "                      AND p.birthMonth IS NOT NULL\n",
    "                      AND p.birthDate IS NOT NULL\n",
    "                      ''').fetchall()\n",
    "\n",
    "for id, position, agedOut, serviceEndYear, rookieYear, rookieMonth, serviceLapseYear, birthYear, birthMonth, birthDate, signingYear in tqdm(data):\n",
    "    # Positions\n",
    "    if position == \"hitting\":\n",
    "        isHitter = 1\n",
    "        isPitcher = 0\n",
    "    else:\n",
    "        isHitter = 0\n",
    "        isPitcher = 1\n",
    "        \n",
    "    # Determine last MLB Season\n",
    "    if agedOut is not None and agedOut!= 0:\n",
    "        lastMLBSeason = agedOut\n",
    "    elif serviceLapseYear is not None:\n",
    "        lastMLBSeason = serviceLapseYear\n",
    "    elif serviceEndYear is not None:\n",
    "        lastMLBSeason = serviceEndYear\n",
    "    else:\n",
    "        raise Exception(f\"No valid last MLB season for id={id}\")\n",
    "    \n",
    "    # Last prospect year/month\n",
    "    if agedOut is not None and agedOut != 0:\n",
    "        lastProspectYear = agedOut\n",
    "        lastProspectMonth = 13\n",
    "    elif rookieYear is not None and rookieMonth is not None:\n",
    "        lastProspectYear = rookieYear\n",
    "        lastProspectMonth = rookieMonth\n",
    "    elif serviceLapseYear is not None:\n",
    "        lastProspectYear = serviceLapseYear\n",
    "        lastProspectMonth = 13\n",
    "    else:\n",
    "        raise Exception(f\"No valid last prospect season for id={id}\")\n",
    "    \n",
    "    # Age at signing\n",
    "    # Use 07/01/SigningYear for signing date.  Should try to get better data for this\n",
    "    signingYear += 0.5\n",
    "    signingAge = signingYear - birthYear - (birthMonth - 1) / 12 - (birthDate - 1) / 365\n",
    "    if signingAge >= 27: # Player will immediately be ineligible, so discard\n",
    "        continue\n",
    "    \n",
    "    cursor.execute(\"INSERT INTO Model_Players VALUES(?,?,?,?,?,?,?)\", (id, isHitter, isPitcher, lastProspectYear, lastProspectMonth, lastMLBSeason, signingAge))\n",
    "\n",
    "cursor.execute(\"END TRANSACTION\")\n",
    "db.commit()"
   ]
  }
 ],
 "metadata": {
  "kernelspec": {
   "display_name": "Python 3",
   "language": "python",
   "name": "python3"
  },
  "language_info": {
   "codemirror_mode": {
    "name": "ipython",
    "version": 3
   },
   "file_extension": ".py",
   "mimetype": "text/x-python",
   "name": "python",
   "nbconvert_exporter": "python",
   "pygments_lexer": "ipython3",
   "version": "3.11.9"
  }
 },
 "nbformat": 4,
 "nbformat_minor": 2
}
