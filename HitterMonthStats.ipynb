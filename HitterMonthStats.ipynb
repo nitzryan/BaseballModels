{
 "cells": [
  {
   "cell_type": "code",
   "execution_count": 1,
   "metadata": {},
   "outputs": [],
   "source": [
    "import sqlite3"
   ]
  },
  {
   "cell_type": "code",
   "execution_count": 2,
   "metadata": {},
   "outputs": [],
   "source": [
    "START_YEAR = 2005\n",
    "CURRENT_SEASON = 2024\n",
    "MONTHS = [4,5,6,7,8,9] # March folded into April, October into September"
   ]
  },
  {
   "cell_type": "code",
   "execution_count": 3,
   "metadata": {},
   "outputs": [],
   "source": [
    "db = sqlite3.connect(\"BaseballStats.db\")\n",
    "cursor = db.cursor()"
   ]
  },
  {
   "cell_type": "markdown",
   "metadata": {},
   "source": [
    "Get all League Factors"
   ]
  },
  {
   "cell_type": "code",
   "execution_count": 4,
   "metadata": {},
   "outputs": [],
   "source": [
    "LeagueFactors = {}\n",
    "lfData = cursor.execute(\"SELECT LeagueId, Year, RunFactor, HRFactor FROM League_Factors\").fetchall()\n",
    "for league, year, rFac, hrFac in lfData:\n",
    "    if not league in LeagueFactors.keys():\n",
    "        LeagueFactors[league] = {}\n",
    "    LeagueFactors[league][year] = {\"RunFactor\" : rFac, \"HRFactor\" : hrFac}"
   ]
  },
  {
   "cell_type": "markdown",
   "metadata": {},
   "source": [
    "Get all Park factors, adjusted by league factor"
   ]
  },
  {
   "cell_type": "code",
   "execution_count": 5,
   "metadata": {},
   "outputs": [],
   "source": [
    "ParkFactors = {}\n",
    "pfData = cursor.execute(\"SELECT TeamId, LeagueId, Year, RunFactor, HRFactor FROM Park_Factors\").fetchall()\n",
    "for team, league, year, rFac, hrFac in pfData:\n",
    "    if not team in ParkFactors:\n",
    "        ParkFactors[team] = {}\n",
    "    ParkFactors[team][year] = {\"RunFactor\" : rFac * LeagueFactors[league][year][\"RunFactor\"], \"HRFactor\" : hrFac * LeagueFactors[league][year][\"HRFactor\"]}"
   ]
  },
  {
   "cell_type": "markdown",
   "metadata": {},
   "source": [
    "Generate Month Statistics"
   ]
  },
  {
   "cell_type": "code",
   "execution_count": 6,
   "metadata": {},
   "outputs": [],
   "source": [
    "from tqdm import tqdm"
   ]
  },
  {
   "cell_type": "code",
   "execution_count": 7,
   "metadata": {},
   "outputs": [
    {
     "name": "stderr",
     "output_type": "stream",
     "text": [
      "100%|█████████▉| 999/1000 [01:39<00:00, 10.01it/s]"
     ]
    }
   ],
   "source": [
    "db.rollback()\n",
    "cursor = db.cursor()\n",
    "cursor.execute(\"DELETE FROM Player_Hitter_MonthStats\")\n",
    "db.commit()\n",
    "cursor = db.cursor()\n",
    "\n",
    "PROGRESS_TOTAL = 1000\n",
    "progressBar = tqdm(total=PROGRESS_TOTAL)\n",
    "\n",
    "for i, year in enumerate(range(START_YEAR, CURRENT_SEASON + 1)):\n",
    "    playerLevels = cursor.execute(f\"SELECT DISTINCT mlbId, Level FROM Player_Hitter_GameLog WHERE Year='{year}'\").fetchall()\n",
    "    dbData = []\n",
    "    for j, (mlbId, level) in enumerate(playerLevels):\n",
    "        for month in MONTHS:\n",
    "            if month == 4:\n",
    "                gameLogs = cursor.execute(f'SELECT AB,H,\"2B\",\"3B\",HR,K,BB,SB,CS,HBP,Position,HomeTeamId FROM Player_Hitter_GameLog WHERE mlbId=? AND Year=? AND Month<=? AND Level=?', (mlbId, year, 4, level)).fetchall()\n",
    "            elif month == 8 and level == 16:\n",
    "                gameLogs = cursor.execute(f'SELECT AB,H,\"2B\",\"3B\",HR,K,BB,SB,CS,HBP,Position,HomeTeamId FROM Player_Hitter_GameLog WHERE mlbId=? AND Year=? AND Month>=? AND Level=?', (mlbId, year, 8, level)).fetchall()\n",
    "            elif month > 8 and level == 16: # Rookie ball has few games after this month, roll september into august\n",
    "                continue\n",
    "            elif month == 9:\n",
    "                gameLogs = cursor.execute(f'SELECT AB,H,\"2B\",\"3B\",HR,K,BB,SB,CS,HBP,Position,HomeTeamId FROM Player_Hitter_GameLog WHERE mlbId=? AND Year=? AND Month>=? AND Level=?', (mlbId, year, 9, level)).fetchall()\n",
    "            else:\n",
    "                gameLogs = cursor.execute(f'SELECT AB,H,\"2B\",\"3B\",HR,K,BB,SB,CS,HBP,Position,HomeTeamId FROM Player_Hitter_GameLog WHERE mlbId=? AND Year=? AND Month=? AND Level=?', (mlbId, year, month, level)).fetchall()\n",
    "            \n",
    "            if len(gameLogs) == 0:\n",
    "                continue\n",
    "            totalAb = 0\n",
    "            totalH = 0\n",
    "            total2B = 0\n",
    "            total3B = 0\n",
    "            totalHR = 0\n",
    "            totalK = 0\n",
    "            totalBB = 0\n",
    "            totalHBP = 0\n",
    "            totalSB = 0\n",
    "            totalCS = 0\n",
    "            totalPositions = [0] * 9\n",
    "            totalRunFactor = 0\n",
    "            totalHRFactor = 0\n",
    "            \n",
    "            for ab, h, doubles, triples, hr, k, bb, sb, cs, hbp, position, homeTeamId in gameLogs:\n",
    "                totalAb += ab\n",
    "                totalH += h\n",
    "                total2B += doubles\n",
    "                total3B += triples\n",
    "                totalHR += hr\n",
    "                totalK += k\n",
    "                totalBB += bb\n",
    "                totalHBP += hbp\n",
    "                totalSB += sb\n",
    "                totalCS += cs\n",
    "                if position > 1 and position <= 9:\n",
    "                    totalPositions[position - 2] += 1\n",
    "                else:\n",
    "                    totalPositions[-1] += 1\n",
    "                    \n",
    "                try:\n",
    "                    totalRunFactor += ab * ParkFactors[homeTeamId][year][\"RunFactor\"]\n",
    "                    totalHRFactor += ab * ParkFactors[homeTeamId][year][\"HRFactor\"]\n",
    "                except: # Not enough data on this park\n",
    "                    totalRunFactor += ab\n",
    "                    totalHRFactor += ab\n",
    "            \n",
    "            if totalAb > 0:\n",
    "                totalRunFactor /= totalAb\n",
    "                totalHRFactor /= totalAb\n",
    "            else:\n",
    "                totalRunFactor = 1\n",
    "                totalHRFactor = 1\n",
    "            dbData.append((mlbId, year, month, level, totalAb, totalH, total2B, total3B, totalHR, totalK, totalBB, totalSB, totalCS, totalHBP, totalRunFactor, totalHRFactor, totalPositions[0], totalPositions[1], totalPositions[2], totalPositions[3], totalPositions[4], totalPositions[5], totalPositions[6], totalPositions[7], totalPositions[8]))\n",
    "    \n",
    "        progressBar.n = int(PROGRESS_TOTAL * (i + j / len(playerLevels)) / len(range(START_YEAR, CURRENT_SEASON + 1)))\n",
    "        progressBar.last_print_n = progressBar.n\n",
    "        progressBar.refresh()\n",
    "    \n",
    "    cursor.execute(\"BEGIN TRANSACTION\")\n",
    "    cursor.executemany(\"INSERT INTO Player_Hitter_MonthStats VALUES(?,?,?,?,?,?,?,?,?,?,?,?,?,?,?,?,?,?,?,?,?,?,?,?,?)\", dbData)\n",
    "    cursor.execute(\"END TRANSACTION\")\n",
    "    db.commit()\n",
    "    cursor = db.cursor()"
   ]
  }
 ],
 "metadata": {
  "kernelspec": {
   "display_name": "Python 3",
   "language": "python",
   "name": "python3"
  },
  "language_info": {
   "codemirror_mode": {
    "name": "ipython",
    "version": 3
   },
   "file_extension": ".py",
   "mimetype": "text/x-python",
   "name": "python",
   "nbconvert_exporter": "python",
   "pygments_lexer": "ipython3",
   "version": "3.11.9"
  }
 },
 "nbformat": 4,
 "nbformat_minor": 2
}
