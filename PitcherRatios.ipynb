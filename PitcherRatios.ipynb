{
 "cells": [
  {
   "cell_type": "code",
   "execution_count": 1,
   "metadata": {},
   "outputs": [],
   "source": [
    "import sqlite3"
   ]
  },
  {
   "cell_type": "code",
   "execution_count": 2,
   "metadata": {},
   "outputs": [],
   "source": [
    "START_YEAR = 2005\n",
    "CURRENT_SEASON = 2024\n",
    "COMPLETE_CURRENT_SEASON = False\n",
    "SPORT_IDS = [1,11,12,13,14,15,16]\n",
    "MONTHS = [4,5,6,7,8,9] # March folded into April, October into September"
   ]
  },
  {
   "cell_type": "code",
   "execution_count": 3,
   "metadata": {},
   "outputs": [],
   "source": [
    "db = sqlite3.connect(\"BaseballStats.db\")\n",
    "cursor = db.cursor()"
   ]
  },
  {
   "cell_type": "code",
   "execution_count": 4,
   "metadata": {},
   "outputs": [],
   "source": [
    "from tqdm import tqdm"
   ]
  },
  {
   "cell_type": "code",
   "execution_count": 7,
   "metadata": {},
   "outputs": [
    {
     "name": "stderr",
     "output_type": "stream",
     "text": [
      "100%|██████████| 397353/397353 [16:59<00:00, 389.60it/s]\n"
     ]
    }
   ],
   "source": [
    "db.rollback()\n",
    "cursor = db.cursor()\n",
    "\n",
    "playerData = cursor.execute(\"SELECT * FROM Player_Pitcher_MonthStats ORDER BY mlbId DESC, Year DESC, Month DESC, Level DESC\").fetchall()\n",
    "\n",
    "for mlbId, year, month, level, pa, outs, go, ao, r, er, h, k, bb, hbp, double, triple, hr, _, _ in tqdm(playerData):\n",
    "    if cursor.execute(\"SELECT COUNT(*) FROM Player_Pitcher_MonthlyRatios WHERE mlbId=? AND Year=? AND Month=? and Level=?\", (mlbId, year, month, level)).fetchone()[0] > 0:\n",
    "        continue\n",
    "    \n",
    "    try:\n",
    "        _, _, _, levelEra, levelRA, levelFipConstant, levelWOBA, levelHRPerc, levelBBPerc, levelKPerc, levelGOPerc, levelAvg, levelIso = cursor.execute(\"SELECT * FROM Level_PitcherStats WHERE Level=? AND Year=? AND Month=?\", (level, year, month)).fetchone()\n",
    "    except: # No Data\n",
    "        continue\n",
    "    \n",
    "    singles = h - double - triple - hr\n",
    "    if pa == 0:\n",
    "        hrPerc = levelHRPerc\n",
    "        bbPerc = levelBBPerc\n",
    "        kPerc = levelKPerc\n",
    "        wOBA = levelWOBA\n",
    "    else:\n",
    "        # https://library.fangraphs.com/offense/woba/\n",
    "        wOBA = (0.69 * bb + 0.72 * hbp + 0.89 * singles + 1.27 * double + 1.62 * triple + 2.10 * hr) / (pa)\n",
    "        hrPerc = hr / pa\n",
    "        bbPerc = bb / pa\n",
    "        kPerc = k / pa\n",
    "    \n",
    "    if outs == 0:\n",
    "        goPerc = levelGOPerc\n",
    "        if er == 0:\n",
    "            era = levelEra\n",
    "        else:\n",
    "            era = er * 27\n",
    "        fip = era\n",
    "    else:\n",
    "        if (go + ao) == 0:\n",
    "            goPerc = levelGOPerc\n",
    "        else:\n",
    "            goPerc = go / (go + ao)\n",
    "        era = (er / outs) * 27\n",
    "        fip = (13 * hr + 3 * (bb + hbp) - 2 * k) / (outs / 3) + levelFipConstant\n",
    "    \n",
    "    wobaRatio = wOBA / levelWOBA\n",
    "    hrPercRatio = hrPerc / levelHRPerc\n",
    "    bbPercRatio = bbPerc / levelBBPerc\n",
    "    kPercRatio = kPerc / levelKPerc\n",
    "    gbPercRatio = goPerc / levelGOPerc\n",
    "    eraRatio = era / levelEra\n",
    "    fipRatio = fip / levelEra\n",
    "    \n",
    "    cursor.execute(\"INSERT INTO Player_Pitcher_MonthlyRatios VALUES(?,?,?,?,?,?,?,?,?,?,?)\", (mlbId, year, month, level, gbPercRatio, eraRatio, fipRatio, wobaRatio, hrPercRatio, bbPercRatio, kPercRatio))\n",
    "    db.commit()\n",
    "    cursor = db.cursor()"
   ]
  }
 ],
 "metadata": {
  "kernelspec": {
   "display_name": "Python 3",
   "language": "python",
   "name": "python3"
  },
  "language_info": {
   "codemirror_mode": {
    "name": "ipython",
    "version": 3
   },
   "file_extension": ".py",
   "mimetype": "text/x-python",
   "name": "python",
   "nbconvert_exporter": "python",
   "pygments_lexer": "ipython3",
   "version": "3.11.9"
  }
 },
 "nbformat": 4,
 "nbformat_minor": 2
}
