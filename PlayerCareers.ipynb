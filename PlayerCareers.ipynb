{
 "cells": [
  {
   "cell_type": "code",
   "execution_count": 2,
   "metadata": {},
   "outputs": [],
   "source": [
    "START_YEAR = 2005\n",
    "CURRENT_SEASON = 2024\n",
    "ONLY_CURRENT_SEASON = False\n",
    "SPORT_IDS = [1,11,12,13,14,15,16]"
   ]
  },
  {
   "cell_type": "markdown",
   "metadata": {},
   "source": [
    "Get FangraphsIds From Chadwick Register"
   ]
  },
  {
   "cell_type": "code",
   "execution_count": 3,
   "metadata": {},
   "outputs": [],
   "source": [
    "FILE_NAME = \"https://github.com/chadwickbureau/register/raw/master/data/people-\"\n",
    "FILE_EXT = \".csv\"\n",
    "FILE_NUM = [0,1,2,3,4,5,6,7,8,9,\"a\",\"b\",\"c\",\"d\",\"e\",\"f\"]"
   ]
  },
  {
   "cell_type": "code",
   "execution_count": 3,
   "metadata": {},
   "outputs": [],
   "source": [
    "import requests\n",
    "import sqlite3\n",
    "import pandas as pd\n",
    "import io\n",
    "from tqdm import tqdm"
   ]
  },
  {
   "cell_type": "code",
   "execution_count": 4,
   "metadata": {},
   "outputs": [],
   "source": [
    "db = sqlite3.connect(\"BaseballStats.db\")"
   ]
  },
  {
   "cell_type": "code",
   "execution_count": 5,
   "metadata": {},
   "outputs": [
    {
     "name": "stderr",
     "output_type": "stream",
     "text": [
      "  0%|          | 0/16 [00:00<?, ?it/s]C:\\Users\\nitzr\\AppData\\Local\\Temp\\ipykernel_6624\\1149116774.py:13: DtypeWarning: Columns (9) have mixed types. Specify dtype option on import or set low_memory=False.\n",
      "  df = pd.read_csv(io.StringIO(reqData.decode('utf-8')), on_bad_lines=\"skip\")\n",
      "C:\\Users\\nitzr\\AppData\\Local\\Temp\\ipykernel_6624\\1149116774.py:14: UserWarning: Boolean Series key will be reindexed to match DataFrame index.\n",
      "  df = df[df['key_fangraphs'].notna()][df['key_mlbam'].notna()]\n",
      "  6%|▋         | 1/16 [00:03<00:49,  3.31s/it]C:\\Users\\nitzr\\AppData\\Local\\Temp\\ipykernel_6624\\1149116774.py:13: DtypeWarning: Columns (9) have mixed types. Specify dtype option on import or set low_memory=False.\n",
      "  df = pd.read_csv(io.StringIO(reqData.decode('utf-8')), on_bad_lines=\"skip\")\n",
      "C:\\Users\\nitzr\\AppData\\Local\\Temp\\ipykernel_6624\\1149116774.py:14: UserWarning: Boolean Series key will be reindexed to match DataFrame index.\n",
      "  df = df[df['key_fangraphs'].notna()][df['key_mlbam'].notna()]\n",
      " 12%|█▎        | 2/16 [00:05<00:36,  2.61s/it]C:\\Users\\nitzr\\AppData\\Local\\Temp\\ipykernel_6624\\1149116774.py:13: DtypeWarning: Columns (9,10) have mixed types. Specify dtype option on import or set low_memory=False.\n",
      "  df = pd.read_csv(io.StringIO(reqData.decode('utf-8')), on_bad_lines=\"skip\")\n",
      "C:\\Users\\nitzr\\AppData\\Local\\Temp\\ipykernel_6624\\1149116774.py:14: UserWarning: Boolean Series key will be reindexed to match DataFrame index.\n",
      "  df = df[df['key_fangraphs'].notna()][df['key_mlbam'].notna()]\n",
      " 19%|█▉        | 3/16 [00:07<00:29,  2.31s/it]C:\\Users\\nitzr\\AppData\\Local\\Temp\\ipykernel_6624\\1149116774.py:13: DtypeWarning: Columns (9) have mixed types. Specify dtype option on import or set low_memory=False.\n",
      "  df = pd.read_csv(io.StringIO(reqData.decode('utf-8')), on_bad_lines=\"skip\")\n",
      "C:\\Users\\nitzr\\AppData\\Local\\Temp\\ipykernel_6624\\1149116774.py:14: UserWarning: Boolean Series key will be reindexed to match DataFrame index.\n",
      "  df = df[df['key_fangraphs'].notna()][df['key_mlbam'].notna()]\n",
      " 25%|██▌       | 4/16 [00:09<00:26,  2.18s/it]C:\\Users\\nitzr\\AppData\\Local\\Temp\\ipykernel_6624\\1149116774.py:13: DtypeWarning: Columns (8,10) have mixed types. Specify dtype option on import or set low_memory=False.\n",
      "  df = pd.read_csv(io.StringIO(reqData.decode('utf-8')), on_bad_lines=\"skip\")\n",
      "C:\\Users\\nitzr\\AppData\\Local\\Temp\\ipykernel_6624\\1149116774.py:14: UserWarning: Boolean Series key will be reindexed to match DataFrame index.\n",
      "  df = df[df['key_fangraphs'].notna()][df['key_mlbam'].notna()]\n",
      " 31%|███▏      | 5/16 [00:11<00:23,  2.12s/it]C:\\Users\\nitzr\\AppData\\Local\\Temp\\ipykernel_6624\\1149116774.py:13: DtypeWarning: Columns (9,10) have mixed types. Specify dtype option on import or set low_memory=False.\n",
      "  df = pd.read_csv(io.StringIO(reqData.decode('utf-8')), on_bad_lines=\"skip\")\n",
      "C:\\Users\\nitzr\\AppData\\Local\\Temp\\ipykernel_6624\\1149116774.py:14: UserWarning: Boolean Series key will be reindexed to match DataFrame index.\n",
      "  df = df[df['key_fangraphs'].notna()][df['key_mlbam'].notna()]\n",
      " 38%|███▊      | 6/16 [00:13<00:21,  2.15s/it]C:\\Users\\nitzr\\AppData\\Local\\Temp\\ipykernel_6624\\1149116774.py:13: DtypeWarning: Columns (9) have mixed types. Specify dtype option on import or set low_memory=False.\n",
      "  df = pd.read_csv(io.StringIO(reqData.decode('utf-8')), on_bad_lines=\"skip\")\n",
      "C:\\Users\\nitzr\\AppData\\Local\\Temp\\ipykernel_6624\\1149116774.py:14: UserWarning: Boolean Series key will be reindexed to match DataFrame index.\n",
      "  df = df[df['key_fangraphs'].notna()][df['key_mlbam'].notna()]\n",
      " 44%|████▍     | 7/16 [00:15<00:19,  2.12s/it]C:\\Users\\nitzr\\AppData\\Local\\Temp\\ipykernel_6624\\1149116774.py:13: DtypeWarning: Columns (9) have mixed types. Specify dtype option on import or set low_memory=False.\n",
      "  df = pd.read_csv(io.StringIO(reqData.decode('utf-8')), on_bad_lines=\"skip\")\n",
      "C:\\Users\\nitzr\\AppData\\Local\\Temp\\ipykernel_6624\\1149116774.py:14: UserWarning: Boolean Series key will be reindexed to match DataFrame index.\n",
      "  df = df[df['key_fangraphs'].notna()][df['key_mlbam'].notna()]\n",
      " 50%|█████     | 8/16 [00:17<00:16,  2.09s/it]C:\\Users\\nitzr\\AppData\\Local\\Temp\\ipykernel_6624\\1149116774.py:14: UserWarning: Boolean Series key will be reindexed to match DataFrame index.\n",
      "  df = df[df['key_fangraphs'].notna()][df['key_mlbam'].notna()]\n",
      " 56%|█████▋    | 9/16 [00:19<00:13,  1.99s/it]C:\\Users\\nitzr\\AppData\\Local\\Temp\\ipykernel_6624\\1149116774.py:13: DtypeWarning: Columns (8,10) have mixed types. Specify dtype option on import or set low_memory=False.\n",
      "  df = pd.read_csv(io.StringIO(reqData.decode('utf-8')), on_bad_lines=\"skip\")\n",
      "C:\\Users\\nitzr\\AppData\\Local\\Temp\\ipykernel_6624\\1149116774.py:14: UserWarning: Boolean Series key will be reindexed to match DataFrame index.\n",
      "  df = df[df['key_fangraphs'].notna()][df['key_mlbam'].notna()]\n",
      " 62%|██████▎   | 10/16 [00:21<00:11,  1.91s/it]C:\\Users\\nitzr\\AppData\\Local\\Temp\\ipykernel_6624\\1149116774.py:13: DtypeWarning: Columns (9,10) have mixed types. Specify dtype option on import or set low_memory=False.\n",
      "  df = pd.read_csv(io.StringIO(reqData.decode('utf-8')), on_bad_lines=\"skip\")\n",
      "C:\\Users\\nitzr\\AppData\\Local\\Temp\\ipykernel_6624\\1149116774.py:14: UserWarning: Boolean Series key will be reindexed to match DataFrame index.\n",
      "  df = df[df['key_fangraphs'].notna()][df['key_mlbam'].notna()]\n",
      " 69%|██████▉   | 11/16 [00:23<00:10,  2.01s/it]C:\\Users\\nitzr\\AppData\\Local\\Temp\\ipykernel_6624\\1149116774.py:14: UserWarning: Boolean Series key will be reindexed to match DataFrame index.\n",
      "  df = df[df['key_fangraphs'].notna()][df['key_mlbam'].notna()]\n",
      " 75%|███████▌  | 12/16 [00:25<00:08,  2.07s/it]C:\\Users\\nitzr\\AppData\\Local\\Temp\\ipykernel_6624\\1149116774.py:13: DtypeWarning: Columns (9,10) have mixed types. Specify dtype option on import or set low_memory=False.\n",
      "  df = pd.read_csv(io.StringIO(reqData.decode('utf-8')), on_bad_lines=\"skip\")\n",
      "C:\\Users\\nitzr\\AppData\\Local\\Temp\\ipykernel_6624\\1149116774.py:14: UserWarning: Boolean Series key will be reindexed to match DataFrame index.\n",
      "  df = df[df['key_fangraphs'].notna()][df['key_mlbam'].notna()]\n",
      " 81%|████████▏ | 13/16 [00:27<00:06,  2.01s/it]C:\\Users\\nitzr\\AppData\\Local\\Temp\\ipykernel_6624\\1149116774.py:13: DtypeWarning: Columns (9,10) have mixed types. Specify dtype option on import or set low_memory=False.\n",
      "  df = pd.read_csv(io.StringIO(reqData.decode('utf-8')), on_bad_lines=\"skip\")\n",
      "C:\\Users\\nitzr\\AppData\\Local\\Temp\\ipykernel_6624\\1149116774.py:14: UserWarning: Boolean Series key will be reindexed to match DataFrame index.\n",
      "  df = df[df['key_fangraphs'].notna()][df['key_mlbam'].notna()]\n",
      " 88%|████████▊ | 14/16 [00:29<00:04,  2.14s/it]C:\\Users\\nitzr\\AppData\\Local\\Temp\\ipykernel_6624\\1149116774.py:13: DtypeWarning: Columns (9) have mixed types. Specify dtype option on import or set low_memory=False.\n",
      "  df = pd.read_csv(io.StringIO(reqData.decode('utf-8')), on_bad_lines=\"skip\")\n",
      "C:\\Users\\nitzr\\AppData\\Local\\Temp\\ipykernel_6624\\1149116774.py:14: UserWarning: Boolean Series key will be reindexed to match DataFrame index.\n",
      "  df = df[df['key_fangraphs'].notna()][df['key_mlbam'].notna()]\n",
      " 94%|█████████▍| 15/16 [00:32<00:02,  2.14s/it]C:\\Users\\nitzr\\AppData\\Local\\Temp\\ipykernel_6624\\1149116774.py:13: DtypeWarning: Columns (9,10) have mixed types. Specify dtype option on import or set low_memory=False.\n",
      "  df = pd.read_csv(io.StringIO(reqData.decode('utf-8')), on_bad_lines=\"skip\")\n",
      "C:\\Users\\nitzr\\AppData\\Local\\Temp\\ipykernel_6624\\1149116774.py:14: UserWarning: Boolean Series key will be reindexed to match DataFrame index.\n",
      "  df = df[df['key_fangraphs'].notna()][df['key_mlbam'].notna()]\n",
      "100%|██████████| 16/16 [00:34<00:00,  2.15s/it]\n"
     ]
    }
   ],
   "source": [
    "db.rollback()\n",
    "cursor = db.cursor()\n",
    "cursor.execute(\"BEGIN TRANSACTION\")\n",
    "\n",
    "for num in tqdm(FILE_NUM):\n",
    "    file = FILE_NAME + str(num) + FILE_EXT\n",
    "    response = requests.get(file)\n",
    "    if response.status_code != 200:\n",
    "        print(f\"Failed to Get {file} : {response.status_code}\")\n",
    "        continue\n",
    "    \n",
    "    reqData = response.content\n",
    "    df = pd.read_csv(io.StringIO(reqData.decode('utf-8')), on_bad_lines=\"skip\")\n",
    "    df = df[df['key_fangraphs'].notna()][df['key_mlbam'].notna()]\n",
    "    df['key_mlbam'] = df['key_mlbam'].astype('Int64')\n",
    "    df['key_fangraphs'] = df['key_fangraphs'].astype('Int64')\n",
    "    for row in df.itertuples():\n",
    "        cursor.execute(f\"UPDATE Player Set fangraphsId='{row.key_fangraphs}' WHERE mlbId='{row.key_mlbam}'\")\n",
    "    \n",
    "cursor.execute(\"END TRANSACTION\")\n",
    "db.commit()"
   ]
  },
  {
   "cell_type": "markdown",
   "metadata": {},
   "source": [
    "Get War From Fangraphs"
   ]
  },
  {
   "cell_type": "code",
   "execution_count": 6,
   "metadata": {},
   "outputs": [],
   "source": [
    "import pybaseball"
   ]
  },
  {
   "cell_type": "code",
   "execution_count": 7,
   "metadata": {},
   "outputs": [
    {
     "name": "stderr",
     "output_type": "stream",
     "text": [
      "100%|██████████| 19/19 [01:49<00:00,  5.76s/it]\n"
     ]
    }
   ],
   "source": [
    "db.rollback()\n",
    "cursor = db.cursor()\n",
    "cursor.execute(\"BEGIN TRANSACTION\")\n",
    "\n",
    "for year in tqdm(range(START_YEAR, CURRENT_SEASON)):\n",
    "    if ONLY_CURRENT_SEASON and year != CURRENT_SEASON:\n",
    "        continue\n",
    "    \n",
    "    # For some reason no OPS breaks it\n",
    "    hittingStats = pybaseball.batting_stats(year, qual=0, stat_columns=[\"PA\", \"BsR\", \"Off\", \"Def\", \"WAR\", \"OPS\"])\n",
    "    for row in hittingStats.itertuples():\n",
    "        mlbId = cursor.execute(\"SELECT mlbId FROM Player WHERE fangraphsId=?\", (row.IDfg,)).fetchone()[0]\n",
    "        if mlbId == None or cursor.execute(\"SELECT COUNT(*) FROM Player_YearlyWar WHERE mlbId=? AND year=? AND position=?\", (mlbId, year, \"hitting\")).fetchone()[0] > 0:\n",
    "            continue\n",
    "        \n",
    "        cursor.execute(\"INSERT INTO Player_YearlyWar VALUES(?,?,?,?,?,?,?,?)\", (mlbId, year, \"hitting\", row.PA, row.WAR, row.Off, row.Def, row.BsR))\n",
    "    \n",
    "    \n",
    "    # Similar to above, W is needed\n",
    "    pitchingStats = pybaseball.pitching_stats(year, qual=0, stat_columns = [\"IP\", \"WAR\", \"W\"])\n",
    "    for row in pitchingStats.itertuples():\n",
    "        mlbId = cursor.execute(\"SELECT mlbId FROM Player WHERE fangraphsId=?\", (row.IDfg,)).fetchone()[0]\n",
    "        if mlbId == None or cursor.execute(\"SELECT COUNT(*) FROM Player_YearlyWar WHERE mlbId=? AND year=? and position=?\", (mlbId, year, \"pitching\")).fetchone()[0] > 0:\n",
    "            continue\n",
    "        \n",
    "        innings, subinnings = str(row.IP).split('.')\n",
    "        outs = 3 * innings + subinnings\n",
    "        \n",
    "        cursor.execute(\"INSERT INTO Player_YearlyWar VALUES(?,?,?,?,?,?,?,?)\", (mlbId, year, \"pitching\", outs, row.WAR, 0, 0, 0))\n",
    "        \n",
    "cursor.execute(\"END TRANSACTION\")\n",
    "db.commit()"
   ]
  },
  {
   "cell_type": "markdown",
   "metadata": {},
   "source": [
    "Update the status of player careers"
   ]
  },
  {
   "cell_type": "code",
   "execution_count": 8,
   "metadata": {},
   "outputs": [],
   "source": [
    "UPDATE_YEAR = 2023"
   ]
  },
  {
   "cell_type": "code",
   "execution_count": 9,
   "metadata": {},
   "outputs": [],
   "source": [
    "NUM_EMPTY_YEARS = 2 # Players who have not played in last N years are considered retired\n",
    "SERVICE_TIME_CUTOFF = 6 # Players who have reached this service time have reached FA and no longer accrue prospect value\n",
    "AGED_OUT_AGE = 27 # If a player has not made the MLB by this age, the prospect value becomes \n",
    "AGED_OUT_MONTH = 4\n",
    "ROOKIE_CUTTOFF_DAYS = 60"
   ]
  },
  {
   "cell_type": "markdown",
   "metadata": {},
   "source": [
    "Insert any players that do not exist"
   ]
  },
  {
   "cell_type": "code",
   "execution_count": 10,
   "metadata": {},
   "outputs": [
    {
     "name": "stderr",
     "output_type": "stream",
     "text": [
      "  0%|          | 0/52095 [00:00<?, ?it/s]"
     ]
    },
    {
     "name": "stderr",
     "output_type": "stream",
     "text": [
      "100%|██████████| 52095/52095 [00:00<00:00, 314405.32it/s]\n"
     ]
    }
   ],
   "source": [
    "db.rollback()\n",
    "cursor = db.cursor()\n",
    "cursor.execute(\"BEGIN TRANSACTION\")\n",
    "idDatas = cursor.execute(\"SELECT mlbId, position FROM Player ORDER BY mlbId DESC\").fetchall()\n",
    "for id, position in tqdm(idDatas):\n",
    "    if cursor.execute(\"SELECT COUNT(*) FROM Player_CareerStatus WHERE mlbId=? AND position=?\", (id, position)).fetchone()[0] > 0:\n",
    "        continue\n",
    "    \n",
    "    cursor.execute(\"INSERT INTO Player_CareerStatus('mlbId','position') VALUES(?,?)\", (id, position))\n",
    "    \n",
    "cursor.execute(\"END TRANSACTION\")\n",
    "db.commit()"
   ]
  },
  {
   "cell_type": "markdown",
   "metadata": {},
   "source": [
    "Update primary position for players who don't have one"
   ]
  },
  {
   "cell_type": "code",
   "execution_count": 11,
   "metadata": {},
   "outputs": [
    {
     "name": "stderr",
     "output_type": "stream",
     "text": [
      "100%|██████████| 52095/52095 [00:01<00:00, 42877.62it/s]\n"
     ]
    }
   ],
   "source": [
    "db.rollback()\n",
    "cursor = db.cursor()\n",
    "cursor.execute(\"BEGIN TRANSACTION\")\n",
    "unknownPositions = cursor.execute(\"SELECT mlbId, position FROM Player_CareerStatus WHERE isPrimaryPosition IS NULL\").fetchall()\n",
    "for id, position in tqdm(unknownPositions):\n",
    "    sumBF = cursor.execute(\"SELECT SUM(battersFaced) FROM Player_Pitcher_MonthStats WHERE mlbId=?\", (id,)).fetchone()[0]\n",
    "    sumPA = cursor.execute(\"SELECT SUM(AB) FROM Player_Hitter_MonthStats WHERE mlbId=?\", (id,)).fetchone()[0]\n",
    "    \n",
    "    # If not found at all, need to set to zero\n",
    "    if sumBF == None:\n",
    "        sumBF = 0\n",
    "    if sumPA == None:\n",
    "        sumPA = 0\n",
    "\n",
    "    # Set to whichever position has more\n",
    "    # Only player this doesn't work for is Ohtani, who will be excluded for being a NPB signee\n",
    "    if (sumBF == 0) and (sumPA == 0):\n",
    "        continue\n",
    "    isHitter = sumPA > sumBF\n",
    "    if (isHitter and position==\"hitting\") or (not isHitter and position==\"pitching\"):\n",
    "        isPrimary = 1\n",
    "    else:\n",
    "        isPrimary = 0\n",
    "        \n",
    "    cursor.execute(\"UPDATE Player_CareerStatus SET isPrimaryPosition=? WHERE mlbId=? AND position=?\", (isPrimary, id, position))\n",
    "    \n",
    "cursor.execute(\"END TRANSACTION\")\n",
    "db.commit()"
   ]
  },
  {
   "cell_type": "markdown",
   "metadata": {},
   "source": [
    "Check if player is currently active"
   ]
  },
  {
   "cell_type": "code",
   "execution_count": 12,
   "metadata": {},
   "outputs": [
    {
     "name": "stderr",
     "output_type": "stream",
     "text": [
      "100%|██████████| 42524/42524 [00:00<00:00, 229937.76it/s]\n"
     ]
    }
   ],
   "source": [
    "db.rollback()\n",
    "cursor = db.cursor()\n",
    "cursor.execute(\"BEGIN TRANSACTION\")\n",
    "idDatas = cursor.execute(\"SELECT mlbId, position FROM Player_CareerStatus WHERE isPrimaryPosition='1'\").fetchall()\n",
    "for id, position in tqdm(idDatas):\n",
    "    if position == \"hitting\":\n",
    "        table = \"Player_Hitter_MonthStats\"\n",
    "    else:\n",
    "        table = \"Player_Pitcher_MonthStats\"\n",
    "        \n",
    "    lastYear = cursor.execute(f\"SELECT Year FROM {table} WHERE mlbId=? ORDER BY Year DESC LIMIT 1\", (id,)).fetchone()[0]\n",
    "    if (UPDATE_YEAR - lastYear) >= 2:\n",
    "        isActive = 0\n",
    "    else:\n",
    "        isActive = 1\n",
    "        \n",
    "    cursor.execute(\"UPDATE Player_CareerStatus SET isActive=? WHERE mlbId=?\", (isActive, id))\n",
    "    \n",
    "cursor.execute(\"END TRANSACTION\")\n",
    "db.commit()"
   ]
  },
  {
   "cell_type": "markdown",
   "metadata": {},
   "source": [
    "Check if player has had their service time reached"
   ]
  },
  {
   "cell_type": "code",
   "execution_count": 13,
   "metadata": {},
   "outputs": [
    {
     "name": "stderr",
     "output_type": "stream",
     "text": [
      "100%|██████████| 42524/42524 [00:00<00:00, 265810.90it/s]\n"
     ]
    }
   ],
   "source": [
    "db.rollback()\n",
    "cursor = db.cursor()\n",
    "cursor.execute(\"BEGIN TRANSACTION\")\n",
    "for id, position in tqdm(idDatas):\n",
    "    serviceYears = cursor.execute(\"SELECT serviceYear FROM Player_ServiceTime WHERE mlbId=? ORDER BY serviceYear DESC\", (id,)).fetchone()\n",
    "    if serviceYears == None:\n",
    "        serviceReached = 0\n",
    "    elif serviceYears[0] < SERVICE_TIME_CUTOFF:\n",
    "        serviceReached = 0\n",
    "    else:\n",
    "        serviceReached = 1\n",
    "        \n",
    "    cursor.execute(\"UPDATE Player_CareerStatus SET serviceReached=? WHERE mlbId=?\", (serviceReached, id))\n",
    "\n",
    "cursor.execute(\"END TRANSACTION\")\n",
    "db.commit()"
   ]
  },
  {
   "cell_type": "markdown",
   "metadata": {},
   "source": [
    "Set MLB Start Year"
   ]
  },
  {
   "cell_type": "code",
   "execution_count": 14,
   "metadata": {},
   "outputs": [
    {
     "name": "stderr",
     "output_type": "stream",
     "text": [
      "MLB Start Year Check: 100%|██████████| 42524/42524 [00:00<00:00, 307063.20it/s]\n"
     ]
    }
   ],
   "source": [
    "db.rollback()\n",
    "cursor = db.cursor()\n",
    "cursor.execute(\"BEGIN TRANSACTION\")\n",
    "for id, _ in tqdm(idDatas, desc=\"MLB Start Year Check\"):\n",
    "    pitchingYear = cursor.execute(\"SELECT year FROM Player_Pitcher_MonthStats WHERE mlbId=? AND level=? ORDER BY year ASC LIMIT 1\", (id, 1)).fetchone()\n",
    "    hittingYear = cursor.execute(\"SELECT year FROM Player_Hitter_MonthStats WHERE mlbId=? AND levelId=? ORDER BY year ASC LIMIT 1\", (id, 1)).fetchone()\n",
    "    if pitchingYear == None:\n",
    "        if hittingYear == None: #Never made mlb\n",
    "            continue\n",
    "        \n",
    "        # only made as hitter\n",
    "        startYear = hittingYear[0]\n",
    "    else:\n",
    "        if hittingYear == None: # only made as pitcher\n",
    "            startYear = pitchingYear[0]\n",
    "        else: # made as both\n",
    "            if hittingYear[0] < pitchingYear[0]:\n",
    "                startYear = hittingYear[0]\n",
    "            else:\n",
    "                startYear = pitchingYear[0]\n",
    "            \n",
    "    \n",
    "    #startYear = cursor.execute(\"SELECT year FROM Player_YearlyWar WHERE mlbId=? ORDER BY year ASC\", (id,)).fetchone()\n",
    "    if startYear is not None:\n",
    "        cursor.execute(\"UPDATE Player_CareerStatus SET mlbStartYear=? WHERE mlbId=?\", (startYear, id))\n",
    "\n",
    "cursor.execute(\"END TRANSACTION\")\n",
    "db.commit()"
   ]
  },
  {
   "cell_type": "markdown",
   "metadata": {},
   "source": [
    "Set Service End Year"
   ]
  },
  {
   "cell_type": "code",
   "execution_count": 15,
   "metadata": {},
   "outputs": [
    {
     "name": "stderr",
     "output_type": "stream",
     "text": [
      "100%|██████████| 42524/42524 [00:00<00:00, 635775.61it/s]\n"
     ]
    }
   ],
   "source": [
    "db.rollback()\n",
    "cursor = db.cursor()\n",
    "mlbIdDatas = cursor.execute(\"SELECT mlbId, position FROM Player_CareerStatus WHERE mlbStartYear IS NOT NULL\").fetchall()\n",
    "cursor.execute(\"BEGIN TRANSACTION\")\n",
    "for id, position in tqdm(idDatas):\n",
    "    serviceData = cursor.execute(\"SELECT year, serviceYear, serviceDays FROM Player_ServiceTime WHERE mlbId=? ORDER BY year DESC\", (id,)).fetchall()\n",
    "    if serviceData == None or len(serviceData) == 0:\n",
    "        continue\n",
    "    \n",
    "    if serviceData[0][1] < 6: # Service time has not been reached\n",
    "        continue \n",
    "    \n",
    "    for year, sy, sd in serviceData:\n",
    "        if sy < SERVICE_TIME_CUTOFF or (sy == SERVICE_TIME_CUTOFF and sd == 0):\n",
    "            cursor.execute(\"UPDATE Player_CareerStatus SET serviceEndYear=? WHERE mlbId=?\", (year, id))\n",
    "            break\n",
    "        \n",
    "cursor.execute(\"END TRANSACTION\")\n",
    "db.commit()"
   ]
  },
  {
   "cell_type": "markdown",
   "metadata": {},
   "source": [
    "Get first year of career\n",
    "\n",
    "Need to check if any pre-05 data exists to exclude"
   ]
  },
  {
   "cell_type": "code",
   "execution_count": 18,
   "metadata": {},
   "outputs": [
    {
     "name": "stderr",
     "output_type": "stream",
     "text": [
      "  3%|▎         | 1/33 [00:00<00:10,  3.11it/s]"
     ]
    },
    {
     "name": "stdout",
     "output_type": "stream",
     "text": [
      "Error for id=0: 404\n"
     ]
    },
    {
     "name": "stderr",
     "output_type": "stream",
     "text": [
      "100%|██████████| 33/33 [00:12<00:00,  2.55it/s]\n"
     ]
    }
   ],
   "source": [
    "db.rollback()\n",
    "cursor = db.cursor()\n",
    "file = open(\"errors/error.txt\", \"w\")\n",
    "\n",
    "noCareerStartData = cursor.execute(\"SELECT mlbId FROM Player_CareerStatus WHERE careerStartYear IS NULL ORDER BY mlbId ASC\").fetchall()\n",
    "for i, id in enumerate(tqdm(noCareerStartData)):\n",
    "    id = id[0]\n",
    "    response = requests.get(f\"https://statsapi.mlb.com/api/v1/people/{id}?hydrate=currentTeam,team,stats(type=[yearByYear](team(league)),leagueListId=mlb_milb)&site=en\")\n",
    "    if response.status_code != 200:\n",
    "        print(f\"Error for id={id}: {response.status_code}\")\n",
    "        continue\n",
    "    \n",
    "    jsonData = response.json()\n",
    "    try:\n",
    "        year = jsonData[\"people\"][0][\"stats\"][0][\"splits\"][0][\"season\"]\n",
    "        cursor.execute(\"UPDATE Player_CareerStatus SET careerStartYear=? WHERE mlbId=?\", (year, id))\n",
    "    except Exception as e:\n",
    "        file.write(f\"{id}\\n\")\n",
    "        \n",
    "    if i % 100 == 0:\n",
    "        db.commit()\n",
    "        \n",
    "file.close()\n",
    "db.commit()"
   ]
  },
  {
   "cell_type": "markdown",
   "metadata": {},
   "source": [
    "Use Selenium to get the players from error.txt to manually populate"
   ]
  },
  {
   "cell_type": "code",
   "execution_count": 37,
   "metadata": {},
   "outputs": [],
   "source": [
    "from selenium import webdriver"
   ]
  },
  {
   "cell_type": "code",
   "execution_count": null,
   "metadata": {},
   "outputs": [],
   "source": [
    "db.rollback()\n",
    "cursor = db.cursor()\n",
    "\n",
    "file = open(\"errors/error.txt\", \"r\")\n",
    "driver = webdriver.Chrome()\n",
    "\n",
    "for id in file:\n",
    "    driver.get(f\"https://www.milb.com/player/{id}\")\n",
    "    year = input(\"Start Year\")\n",
    "    cursor.execute(\"UPDATE Player_CareerStatus SET careerStartYear=? WHERE mlbId=?\", (year, id))\n",
    "    db.commit()\n",
    "    cursor = db.cursor()\n"
   ]
  },
  {
   "cell_type": "markdown",
   "metadata": {},
   "source": [
    "Check if player did not reach MLB before certain age\n",
    "\n",
    "First, check players who have not made MLB"
   ]
  },
  {
   "cell_type": "code",
   "execution_count": 19,
   "metadata": {},
   "outputs": [
    {
     "name": "stderr",
     "output_type": "stream",
     "text": [
      "100%|██████████| 42714/42714 [00:00<00:00, 240010.05it/s]\n"
     ]
    }
   ],
   "source": [
    "db.rollback()\n",
    "cursor = db.cursor()\n",
    "\n",
    "noMlbPlayers = cursor.execute(\"SELECT mlbId FROM Player_CareerStatus WHERE mlbStartYear IS NULL\").fetchall()\n",
    "cursor.execute(\"BEGIN TRANSACTION\")\n",
    "cutoffYear = CURRENT_SEASON + 1 - AGED_OUT_AGE\n",
    "for id in tqdm(noMlbPlayers):\n",
    "    id = id[0]\n",
    "    birthYear, birthMonth = cursor.execute(\"SELECT birthYear, birthMonth FROM Player WHERE mlbId=?\", (id,)).fetchone()\n",
    "    \n",
    "    # Need to eliminate any players who don't have a listed birth date\n",
    "    if birthYear == None or birthMonth == None:\n",
    "        cursor.execute(\"UPDATE Player_CareerStatus SET agedOut=?, ignorePlayer=? WHERE mlbId=?\", (1, 1, id))\n",
    "        continue\n",
    "    \n",
    "    if birthMonth >= 4:\n",
    "        birthYear += 1\n",
    "    if birthYear < cutoffYear:\n",
    "        agedOut = birthYear + AGED_OUT_AGE\n",
    "    else:\n",
    "        agedOut = 0\n",
    "        \n",
    "    cursor.execute(\"UPDATE Player_CareerStatus SET agedOut=? WHERE mlbId=?\", (agedOut, id))\n",
    "\n",
    "cursor.execute(\"END TRANSACTION\")\n",
    "db.commit()"
   ]
  },
  {
   "cell_type": "markdown",
   "metadata": {},
   "source": [
    "Next, check that players who made the MLB didn't have their first year after 27"
   ]
  },
  {
   "cell_type": "code",
   "execution_count": 20,
   "metadata": {},
   "outputs": [
    {
     "name": "stderr",
     "output_type": "stream",
     "text": [
      "100%|██████████| 9381/9381 [00:00<00:00, 193220.12it/s]\n"
     ]
    }
   ],
   "source": [
    "db.rollback()\n",
    "cursor = db.cursor()\n",
    "\n",
    "noMlbPlayers = cursor.execute(\"SELECT mlbId, mlbStartYear FROM Player_CareerStatus WHERE mlbStartYear IS NOT NULL\").fetchall()\n",
    "cursor.execute(\"BEGIN TRANSACTION\")\n",
    "for id, startYear in tqdm(noMlbPlayers):\n",
    "    birthYear, birthMonth = cursor.execute(\"SELECT birthYear, birthMonth FROM Player WHERE mlbId=?\", (id,)).fetchone()\n",
    "    if birthMonth >= 4:\n",
    "        birthYear += 1\n",
    "    \n",
    "    if startYear - birthYear > AGED_OUT_AGE:\n",
    "        agedOut = birthYear + AGED_OUT_AGE\n",
    "    else:\n",
    "        agedOut = 0\n",
    "        \n",
    "    cursor.execute(\"UPDATE Player_CareerStatus SET agedOut=? WHERE mlbId=?\", (agedOut, id))\n",
    "\n",
    "cursor.execute(\"END TRANSACTION\")\n",
    "db.commit()"
   ]
  },
  {
   "cell_type": "markdown",
   "metadata": {},
   "source": [
    "Check to see when a player reached rookie eligibility (60 service days)\n",
    "\n",
    "After this point, the player is no longer a prospect by the model"
   ]
  },
  {
   "cell_type": "code",
   "execution_count": 26,
   "metadata": {},
   "outputs": [
    {
     "name": "stderr",
     "output_type": "stream",
     "text": [
      "100%|██████████| 9381/9381 [00:00<00:00, 212960.34it/s]\n"
     ]
    }
   ],
   "source": [
    "db.rollback()\n",
    "cursor = db.cursor()\n",
    "mlbIdDatas = cursor.execute(\"SELECT mlbId FROM Player_CareerStatus WHERE mlbStartYear IS NOT NULL\").fetchall()\n",
    "cursor.execute(\"BEGIN TRANSACTION\")\n",
    "for id in tqdm(mlbIdDatas):\n",
    "    id = id[0]\n",
    "    serviceData = cursor.execute(\"SELECT year, serviceYear, serviceDays FROM Player_ServiceTime WHERE mlbId=? ORDER BY year ASC\", (id,)).fetchall()\n",
    "    if serviceData == None or len(serviceData) == 0:\n",
    "        continue\n",
    "    \n",
    "    # Check that the last element (first entry) has service time <= 1 year.  Don't have full data\n",
    "    if serviceData[0][1] > 1 or (serviceData[0][1] == 1 and serviceData[0][2] > 0):\n",
    "        continue\n",
    "    \n",
    "    for year, sy, sd in serviceData:\n",
    "        if sy > 0 or sd >= SERVICE_TIME_CUTOFF:\n",
    "            cursor.execute(\"UPDATE Player_CareerStatus SET mlbRookieYear=? WHERE mlbId=?\", (year, id))\n",
    "            break\n",
    "        \n",
    "cursor.execute(\"END TRANSACTION\")\n",
    "db.commit()"
   ]
  },
  {
   "cell_type": "markdown",
   "metadata": {},
   "source": [
    "Last column is ignorePlayer.  This is intended for players that the model doesn't have good data to predict (eg players from Japan/Korea that go directly to the MLB)\n",
    "\n",
    "The file with the player list will be edited manually"
   ]
  },
  {
   "cell_type": "code",
   "execution_count": 22,
   "metadata": {},
   "outputs": [],
   "source": [
    "db.rollback()\n",
    "cursor = db.cursor()\n",
    "cursor.execute(\"BEGIN TRANSACTION\")\n",
    "cursor.execute(\"UPDATE Player_CareerStatus SET ignorePlayer=NULL\")\n",
    "\n",
    "file = open(\"ignorePlayers.txt\", \"r\")\n",
    "for id in file:\n",
    "    cursor.execute(\"UPDATE Player_CareerStatus SET ignorePlayer=? WHERE mlbId=?\", (1, id))\n",
    "\n",
    "cursor.execute(\"END TRANSACTION\")\n",
    "db.commit()"
   ]
  },
  {
   "cell_type": "markdown",
   "metadata": {},
   "source": [
    "Set the highest level the player has reached"
   ]
  },
  {
   "cell_type": "code",
   "execution_count": 33,
   "metadata": {},
   "outputs": [
    {
     "name": "stderr",
     "output_type": "stream",
     "text": [
      "100%|██████████| 42524/42524 [00:00<00:00, 86337.66it/s]\n"
     ]
    }
   ],
   "source": [
    "db.rollback()\n",
    "cursor = db.cursor()\n",
    "cursor.execute(\"BEGIN TRANSACTION\")\n",
    "for id, _ in tqdm(idDatas):\n",
    "    # Determine if age cuttoff is needed\n",
    "    cutoffYear = cursor.execute(\"SELECT agedOut FROM Player_CareerStatus WHERE mlbId=?\", (id,)).fetchone()[0]\n",
    "    if cutoffYear == 0:\n",
    "        cutoffYear = 9000\n",
    "    \n",
    "    pitchingLevel = cursor.execute(\"SELECT Level FROM Player_Pitcher_MonthStats WHERE mlbId=? AND Year<=? ORDER BY Level ASC LIMIT 1\", (id, cutoffYear)).fetchone()\n",
    "    hittingLevel = cursor.execute(\"SELECT LevelId FROM Player_Hitter_MonthStats WHERE mlbId=? AND Year<=? ORDER BY LevelId ASC LIMIT 1\", (id, cutoffYear)).fetchone()\n",
    "    \n",
    "    if pitchingLevel == None:\n",
    "        if hittingLevel == None: \n",
    "            continue\n",
    "        \n",
    "        # Only hitting stats\n",
    "        highestLevel = hittingLevel[0]\n",
    "    else:\n",
    "        if hittingLevel == None: # Only pitching stats\n",
    "            highestLevel = pitchingLevel[0]\n",
    "        else: # both stats, choose highest level\n",
    "            if pitchingLevel[0] < pitchingLevel[0]:\n",
    "                highestLevel = pitchingLevel[0]\n",
    "            else:\n",
    "                highestLevel = hittingLevel[0]\n",
    "            \n",
    "    \n",
    "    #startYear = cursor.execute(\"SELECT year FROM Player_YearlyWar WHERE mlbId=? ORDER BY year ASC\", (id,)).fetchone()\n",
    "    if highestLevel is not None:\n",
    "        cursor.execute(\"UPDATE Player_CareerStatus SET highestLevel=? WHERE mlbId=?\", (highestLevel, id))\n",
    "\n",
    "cursor.execute(\"END TRANSACTION\")\n",
    "db.commit()"
   ]
  },
  {
   "cell_type": "markdown",
   "metadata": {},
   "source": [
    "Mising some service time data.  First check is just to find players that, in their debut year, had >50 innings or >130AB to set their rookie year"
   ]
  },
  {
   "cell_type": "code",
   "execution_count": 41,
   "metadata": {},
   "outputs": [
    {
     "name": "stderr",
     "output_type": "stream",
     "text": [
      "100%|██████████| 3746/3746 [00:01<00:00, 2712.84it/s]\n"
     ]
    }
   ],
   "source": [
    "db.rollback()\n",
    "cursor = db.cursor()\n",
    "cursor.execute(\"BEGIN TRANSACTION\")\n",
    "\n",
    "ids = cursor.execute('''\n",
    "                     SELECT pcs.mlbID, pcs.position, pcs.mlbStartYear FROM Player_CareerStatus AS pcs \n",
    "                     INNER JOIN Player_ServiceTime AS pst ON pst.mlbId = pcs.mlbId \n",
    "                     AND pcs.mlbRookieYear IS NULL\n",
    "                     AND pcs.agedOut='0'\n",
    "                     AND pcs.ignorePlayer IS NULL\n",
    "                     AND pcs.careerStartYear>='2005'\n",
    "                     AND pcs.isPrimaryPosition='1'\n",
    "                     ''').fetchall()\n",
    "\n",
    "for id, position, year in tqdm(ids):\n",
    "    if position == 'pitching':\n",
    "        outs = cursor.execute(\"SELECT SUM(outs) FROM Player_Pitcher_MonthStats WHERE mlbId=? AND year=? AND level='1'\", (id, year)).fetchone()[0]\n",
    "        if outs is not None and outs >= 150:\n",
    "            cursor.execute(\"UPDATE Player_CareerStatus SET mlbRookieYear=? WHERE mlbId=?\", (year, id))\n",
    "    \n",
    "    else: # hitting\n",
    "        ab = cursor.execute(\"SELECT SUM(AB) FROM Player_Hitter_MonthStats WHERE mlbId=? AND year=? AND levelId='1'\", (id, year)).fetchone()[0]\n",
    "        if ab is not None and ab >= 130:\n",
    "            cursor.execute(\"UPDATE Player_CareerStatus SET mlbRookieYear=? WHERE mlbId=?\", (year, id))\n",
    "    \n",
    "cursor.execute(\"END TRANSACTION\")\n",
    "db.commit()"
   ]
  },
  {
   "cell_type": "markdown",
   "metadata": {},
   "source": [
    "Missing some service time data.  Need to manually determine when a player had their rookie year"
   ]
  },
  {
   "cell_type": "code",
   "execution_count": 48,
   "metadata": {},
   "outputs": [
    {
     "name": "stderr",
     "output_type": "stream",
     "text": [
      "100%|██████████| 465/465 [00:03<00:00, 134.55it/s]\n"
     ]
    }
   ],
   "source": [
    "db.rollback()\n",
    "cursor = db.cursor()\n",
    "cursor.execute(\"BEGIN TRANSACTION\")\n",
    "\n",
    "# First pass is players that have 150 career outs.  Determine what year they reached that milestone\n",
    "ids = cursor.execute('''\n",
    "                     SELECT pcs.mlbId, SUM(pms.outs) FROM Player_CareerStatus AS pcs\n",
    "                     INNER JOIN Player_Pitcher_MonthStats AS pms ON pms.mlbId = pcs.mlbId\n",
    "                     WHERE pms.level='1'\n",
    "                     AND pcs.mlbRookieYear IS NULL\n",
    "                     AND pcs.agedOut='0'\n",
    "                     AND pcs.ignorePlayer IS NULL\n",
    "                     AND pcs.careerStartYear>='2005'\n",
    "                     GROUP BY pcs.mlbId\n",
    "                     ''').fetchall()\n",
    "\n",
    "for id, outs in tqdm(ids):\n",
    "    if outs < 150:\n",
    "        continue\n",
    "    \n",
    "    yearlyOuts = cursor.execute(\"SELECT outs, year FROM Player_Pitcher_MonthStats WHERE mlbId=? AND level=? ORDER BY year ASC\", (id,1)).fetchall()\n",
    "    cumOuts = 0\n",
    "    for outs, year in yearlyOuts:\n",
    "        if cumOuts < 150:\n",
    "            cumOuts += outs\n",
    "            if cumOuts >= 150:\n",
    "                cursor.execute(\"UPDATE Player_CareerStatus SET mlbRookieYear=? WHERE mlbId=?\", (year, id))\n",
    "            \n",
    "cursor.execute(\"END TRANSACTION\")\n",
    "db.commit()"
   ]
  },
  {
   "cell_type": "code",
   "execution_count": 50,
   "metadata": {},
   "outputs": [
    {
     "name": "stderr",
     "output_type": "stream",
     "text": [
      "100%|██████████| 356/356 [00:02<00:00, 144.23it/s]\n"
     ]
    }
   ],
   "source": [
    "db.rollback()\n",
    "cursor = db.cursor()\n",
    "cursor.execute(\"BEGIN TRANSACTION\")\n",
    "\n",
    "# Second pass is players that have 130 career ab.  Determine what year they reached that milestone\n",
    "ids = cursor.execute('''\n",
    "                     SELECT pcs.mlbId, SUM(hms.ab) FROM Player_CareerStatus AS pcs\n",
    "                     INNER JOIN Player_Hitter_MonthStats AS hms ON hms.mlbId = pcs.mlbId\n",
    "                     WHERE hms.levelId='1'\n",
    "                     AND pcs.mlbRookieYear IS NULL\n",
    "                     AND pcs.agedOut='0'\n",
    "                     AND pcs.ignorePlayer IS NULL\n",
    "                     AND pcs.careerStartYear>='2005'\n",
    "                     GROUP BY pcs.mlbId\n",
    "                     ''').fetchall()\n",
    "\n",
    "for id, ab in tqdm(ids):\n",
    "    if ab < 130:\n",
    "        continue\n",
    "    \n",
    "    yearlyOuts = cursor.execute(\"SELECT outs, year FROM Player_Pitcher_MonthStats WHERE mlbId=? AND level=? ORDER BY year ASC\", (id,1)).fetchall()\n",
    "    cumAb = 0\n",
    "    for ab, year in yearlyOuts:\n",
    "        if cumAb < 130:\n",
    "            cumAb += ab\n",
    "            if cumAb >= 130:\n",
    "                cursor.execute(\"UPDATE Player_CareerStatus SET mlbRookieYear=? WHERE mlbId=?\", (year, id))\n",
    "            \n",
    "cursor.execute(\"END TRANSACTION\")\n",
    "db.commit()"
   ]
  },
  {
   "cell_type": "code",
   "execution_count": 8,
   "metadata": {},
   "outputs": [
    {
     "name": "stderr",
     "output_type": "stream",
     "text": [
      "100%|██████████| 173/173 [00:00<00:00, 172971.30it/s]\n"
     ]
    }
   ],
   "source": [
    "db.rollback()\n",
    "cursor = db.cursor()\n",
    "cursor.execute(\"BEGIN TRANSACTION\")\n",
    "\n",
    "# Third pass is players that have reached rookie service time, but not had enough ab/outs\n",
    "# Choose last mlb year as rookie year\n",
    "ids = cursor.execute('''\n",
    "                     SELECT DISTINCT pcs.mlbID FROM Player_CareerStatus AS pcs \n",
    "                     INNER JOIN Player_ServiceTime AS pst ON pst.mlbId = pcs.mlbId \n",
    "                     WHERE (pst.serviceYear>='1' OR pst.serviceDays>='60')\n",
    "                     AND pcs.mlbRookieYear IS NULL\n",
    "                     AND pcs.agedOut='0'\n",
    "                     AND pcs.ignorePlayer IS NULL\n",
    "                     AND pcs.careerStartYear>='2005'\n",
    "                     ''').fetchall()\n",
    "\n",
    "for (id,) in tqdm(ids):\n",
    "    lastYear = cursor.execute(\"SELECT year FROM Player_ServiceTime WHERE mlbId=? ORDER BY year DESC LIMIT 1\", (id,)).fetchone()[0]\n",
    "    if lastYear is not None:\n",
    "        cursor.execute(\"UPDATE Player_CareerStatus SET mlbRookieYear=? WHERE mlbId=?\", (lastYear, id))\n",
    "        \n",
    "cursor.execute(\"END TRANSACTION\")\n",
    "db.commit()"
   ]
  },
  {
   "cell_type": "markdown",
   "metadata": {},
   "source": [
    "Set the month that rookie status was exhausted\n",
    "\n",
    "If refactored, this should be in same table"
   ]
  },
  {
   "cell_type": "code",
   "execution_count": 10,
   "metadata": {},
   "outputs": [
    {
     "name": "stderr",
     "output_type": "stream",
     "text": [
      "100%|██████████| 3634/3634 [00:29<00:00, 121.29it/s]\n"
     ]
    }
   ],
   "source": [
    "db.rollback()\n",
    "cursor = db.cursor()\n",
    "cursor.execute(\"BEGIN TRANSACTION\")\n",
    "cursor.execute(\"DELETE FROM Player_RookieEligibility\")\n",
    "idData = cursor.execute(\"SELECT mlbId, position, mlbRookieYear FROM Player_CareerStatus WHERE isPrimaryPosition='1' AND mlbRookieYear IS NOT NULL\").fetchall()\n",
    "\n",
    "for id, position, rookieYear in tqdm(idData):\n",
    "    if position == 'hitting':\n",
    "        monthData = cursor.execute(\"SELECT year, month, AB FROM Player_Hitter_MonthStats WHERE mlbId=? AND LevelId=?\", (id, 1)).fetchall()\n",
    "        cumAb = 0\n",
    "        rYear = 0\n",
    "        rMonth = 0\n",
    "        for year, month, ab in monthData:\n",
    "            cumAb += ab\n",
    "            if cumAb > 130:\n",
    "                rYear = year\n",
    "                rMonth = month\n",
    "                break\n",
    "            \n",
    "        # Check if the year is the same\n",
    "        if rYear == rookieYear:\n",
    "            cursor.execute(\"INSERT INTO Player_RookieEligibility VALUES(?,?,?)\", (id, rYear, rMonth))\n",
    "        else: # The years don't match, so set the eligibility to the end of the year that Player_CareerStatus has their rookie year\n",
    "            cursor.execute(\"INSERT INTO Player_RookieEligibility VALUES(?,?,?)\", (id, rookieYear, 13))\n",
    "    else:\n",
    "        monthData = cursor.execute(\"SELECT year, month, outs FROM Player_Pitcher_MonthStats WHERE mlbId=? AND Level=?\", (id, 1)).fetchall()\n",
    "        cumPa = 0\n",
    "        rYear = 0\n",
    "        rMonth = 0\n",
    "        for year, month, pa in monthData:\n",
    "            cumPa += pa\n",
    "            if cumPa > 150:\n",
    "                rYear = year\n",
    "                rMonth = month\n",
    "                break\n",
    "            \n",
    "        # Check if the year is the same\n",
    "        if rYear == rookieYear:\n",
    "            cursor.execute(\"INSERT INTO Player_RookieEligibility VALUES(?,?,?)\", (id, rYear, rMonth))\n",
    "        else: # The years don't match, so set the eligibility to the end of the year that Player_CareerStatus has their rookie year\n",
    "            cursor.execute(\"INSERT INTO Player_RookieEligibility VALUES(?,?,?)\", (id, rookieYear, 13))\n",
    "\n",
    "cursor.execute(\"END TRANSACTION\")\n",
    "db.commit()"
   ]
  },
  {
   "cell_type": "markdown",
   "metadata": {},
   "source": [
    "Add a check for an MLB player that has not played in the MLB in 2 years\n",
    "\n",
    "Also check for more than 9 years of MLB career\n",
    "\n",
    "Also check for year where player was over 34\n",
    "\n",
    "After this, player is likely not accruing value to the team that had him as a prospect"
   ]
  },
  {
   "cell_type": "code",
   "execution_count": 31,
   "metadata": {},
   "outputs": [
    {
     "name": "stderr",
     "output_type": "stream",
     "text": [
      "  0%|          | 0/3795 [00:00<?, ?it/s]"
     ]
    },
    {
     "name": "stderr",
     "output_type": "stream",
     "text": [
      "100%|██████████| 3795/3795 [00:00<00:00, 99710.49it/s]\n"
     ]
    }
   ],
   "source": [
    "db.rollback()\n",
    "cursor = db.cursor()\n",
    "cursor.execute(\"BEGIN TRANSACTION\")\n",
    "cursor.execute(\"DELETE FROM Player_ServiceLapse\")\n",
    "\n",
    "ids = cursor.execute('''SELECT DISTINCT(pcs.mlbId), pcs.position, p.birthYear, p.birthMonth\n",
    "                     FROM Player_CareerStatus as pcs\n",
    "                     INNER JOIN Player AS p ON pcs.mlbId = p.mlbID\n",
    "                     WHERE pcs.isPrimaryPosition='1' AND pcs.serviceReached='0' AND pcs.mlbStartYear IS NOT NULL AND pcs.agedOut='0' AND pcs.ignorePlayer IS NULL''').fetchall()\n",
    "for id, position, birthYear, birthMonth in tqdm(ids):\n",
    "    if position == \"hitting\":\n",
    "        years = cursor.execute(\"SELECT DISTINCT Year FROM Player_Hitter_MonthStats WHERE mlbId=? AND LevelId=? ORDER BY Year ASC\", (id, 1)).fetchall()\n",
    "    else:\n",
    "        years = cursor.execute(\"SELECT DISTINCT Year FROM Player_Pitcher_MonthStats WHERE mlbId=? AND Level=? ORDER BY Year ASC\", (id, 1)).fetchall()\n",
    "    \n",
    "    if len(years) == 0:\n",
    "        continue\n",
    "        \n",
    "    # Calculate age at which player should stop accruing value\n",
    "    if birthMonth < 4:\n",
    "        birthYear -= 1\n",
    "    stopYear = 34 + birthYear\n",
    "        \n",
    "    startYear = years[0][0]\n",
    "    prevYear = startYear\n",
    "    logged = False\n",
    "    for (year,) in years:\n",
    "        if (year - startYear >= 9) or (year - prevYear > 2) or year > stopYear:\n",
    "            cursor.execute(\"INSERT INTO Player_ServiceLapse VALUES(?,?)\", (id, year - 1))\n",
    "            logged = True\n",
    "            break\n",
    "        prevYear = year\n",
    "        \n",
    "    # Check if the last year is not recent enough for the 2 year rule\n",
    "    lastYear = years[-1][0]\n",
    "    if not logged:\n",
    "        if lastYear < CURRENT_SEASON - 1:\n",
    "            cursor.execute(\"INSERT INTO Player_ServiceLapse VALUES(?,?)\", (id, lastYear + 2))\n",
    "\n",
    "cursor.execute(\"END TRANSACTION\")\n",
    "db.commit()"
   ]
  },
  {
   "cell_type": "markdown",
   "metadata": {},
   "source": [
    "Update signing date for players without one"
   ]
  },
  {
   "cell_type": "code",
   "execution_count": 5,
   "metadata": {},
   "outputs": [
    {
     "name": "stderr",
     "output_type": "stream",
     "text": [
      "100%|██████████| 28396/28396 [00:00<00:00, 498182.37it/s]\n"
     ]
    }
   ],
   "source": [
    "db.rollback()\n",
    "cursor = db.cursor()\n",
    "cursor.execute(\"BEGIN TRANSACTION\")\n",
    "\n",
    "startYearData = cursor.execute('''\n",
    "                               SELECT p.mlbId, pcs.careerStartYear\n",
    "                               FROM Player AS p\n",
    "                               INNER JOIN Player_CareerStatus as pcs ON p.mlbId = pcs.mlbId\n",
    "                               WHERE pcs.isPrimaryPosition='1'\n",
    "                               AND p.signingYear IS NULL\n",
    "                               ''').fetchall()\n",
    "\n",
    "for id, year in tqdm(startYearData):\n",
    "    cursor.execute(\"UPDATE Player SET signingYear=?, signingMonth='1', signingDate='1' WHERE mlbId=?\", (year, id))\n",
    "\n",
    "cursor.execute(\"END TRANSACTION\")\n",
    "db.commit()"
   ]
  }
 ],
 "metadata": {
  "kernelspec": {
   "display_name": "Python 3",
   "language": "python",
   "name": "python3"
  },
  "language_info": {
   "codemirror_mode": {
    "name": "ipython",
    "version": 3
   },
   "file_extension": ".py",
   "mimetype": "text/x-python",
   "name": "python",
   "nbconvert_exporter": "python",
   "pygments_lexer": "ipython3",
   "version": "3.11.9"
  }
 },
 "nbformat": 4,
 "nbformat_minor": 2
}
