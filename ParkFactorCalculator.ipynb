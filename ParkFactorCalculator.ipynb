{
 "cells": [
  {
   "cell_type": "code",
   "execution_count": 1,
   "metadata": {},
   "outputs": [],
   "source": [
    "END_YEAR = 2024"
   ]
  },
  {
   "cell_type": "code",
   "execution_count": 2,
   "metadata": {},
   "outputs": [],
   "source": [
    "teamRunCounts = {}\n",
    "gameData = {}"
   ]
  },
  {
   "cell_type": "code",
   "execution_count": 3,
   "metadata": {},
   "outputs": [],
   "source": [
    "import sqlite3\n",
    "from tqdm import tqdm"
   ]
  },
  {
   "cell_type": "markdown",
   "metadata": {},
   "source": [
    "Empty out so don't have to deal with duplicates"
   ]
  },
  {
   "cell_type": "code",
   "execution_count": 4,
   "metadata": {},
   "outputs": [],
   "source": [
    "db = sqlite3.connect(\"BaseballStats.db\")\n",
    "db.rollback()\n",
    "cursor = db.cursor()\n",
    "cursor.execute(\"DELETE FROM Park_Factors\")\n",
    "cursor.execute(\"DELETE FROM Park_ScoringData\")\n",
    "cursor.execute(\"DELETE FROM League_Factors\")\n",
    "cursor.execute(\"DELETE FROM Level_Factors\")\n",
    "cursor.execute(\"DELETE FROM Player_Hitter_GameLog WHERE Level>?\", (17,))\n",
    "cursor.execute(\"DELETE FROM Player_Pitcher_GameLog WHERE Level>?\", (17,))\n",
    "db.commit()"
   ]
  },
  {
   "cell_type": "markdown",
   "metadata": {},
   "source": [
    "Handle dictionary adds"
   ]
  },
  {
   "cell_type": "code",
   "execution_count": 5,
   "metadata": {},
   "outputs": [],
   "source": [
    "def CheckForKeysAndAddIfNecessary(t, l, year, level, teamRunCounts):\n",
    "    if not l in teamRunCounts.keys():\n",
    "        teamRunCounts[l] = {}\n",
    "    if not t in teamRunCounts[l].keys():\n",
    "        teamRunCounts[l][t] = {}\n",
    "    if not year in teamRunCounts[l][t].keys():\n",
    "        teamRunCounts[l][t][year] = {\"home\": {\"outs\":0,\"pa\":0,\"runs\":0,\"hrs\":0}, \"away\": {\"outs\":0,\"pa\":0,\"runs\":0,\"hrs\":0}, \"level\": level, \"league\": l, \"team\":t}"
   ]
  },
  {
   "cell_type": "code",
   "execution_count": 6,
   "metadata": {},
   "outputs": [],
   "source": [
    "def UpdateGameData(gameId, pa, outs, r, hr, homeTeamId, teamId, leagueId, year, level):\n",
    "    global gameData\n",
    "    if not gameId in gameData.keys():\n",
    "        gameData[gameId] = {\"homeTeamId\":homeTeamId, \"awayTeamId\":0, \"r\":0,\"hr\":0,\"pa\":0,\"outs\":0, \"league\":leagueId, \"level\":level, \"year\":year}\n",
    "    \n",
    "    gd = gameData[gameId]\n",
    "    if homeTeamId != teamId:\n",
    "        gd[\"awayTeamId\"] = teamId\n",
    "        \n",
    "    gd[\"pa\"] += pa\n",
    "    gd[\"outs\"] += outs\n",
    "    gd[\"hr\"] += hr\n",
    "    gd[\"r\"] += r"
   ]
  },
  {
   "cell_type": "markdown",
   "metadata": {},
   "source": [
    "Create dictionary of all games to track home/away runs"
   ]
  },
  {
   "cell_type": "code",
   "execution_count": 7,
   "metadata": {},
   "outputs": [
    {
     "name": "stderr",
     "output_type": "stream",
     "text": [
      "100%|██████████| 1906167/1906167 [00:01<00:00, 1397494.29it/s]\n"
     ]
    }
   ],
   "source": [
    "cursor = db.cursor()\n",
    "gameLogs = cursor.execute(\"SELECT gameId, year, month, level, homeTeamId, TeamId, LeagueId, battersFaced, outs, r, hr FROM Player_Pitcher_GameLog\").fetchall()\n",
    "for gameId, year, month, level, homeTeamId, teamId, leagueId, battersFaced, outs, r, hr in tqdm(gameLogs):\n",
    "    UpdateGameData(gameId, battersFaced, outs, r, hr, homeTeamId, teamId, leagueId, year, level)"
   ]
  },
  {
   "cell_type": "markdown",
   "metadata": {},
   "source": [
    "Track how many runs each team gives up in home/away games"
   ]
  },
  {
   "cell_type": "code",
   "execution_count": 8,
   "metadata": {},
   "outputs": [],
   "source": [
    "db.rollback()\n",
    "cursor = db.cursor()\n",
    "for val in gameData.values():\n",
    "    # Get values\n",
    "    leagueId = val[\"league\"]\n",
    "    homeTeamId = val[\"homeTeamId\"]\n",
    "    awayTeamId = val[\"awayTeamId\"]\n",
    "    runs = val[\"r\"]\n",
    "    hrs = val[\"hr\"]\n",
    "    pa = val[\"pa\"]\n",
    "    outs = val[\"outs\"]\n",
    "    year = val[\"year\"]\n",
    "    level = val[\"level\"]\n",
    "    \n",
    "    if awayTeamId == 0:\n",
    "        continue\n",
    "    \n",
    "    # Update for each time\n",
    "    CheckForKeysAndAddIfNecessary(homeTeamId, leagueId, year, level, teamRunCounts)\n",
    "    teamRunCounts[leagueId][homeTeamId][year][\"home\"][\"outs\"] += outs\n",
    "    teamRunCounts[leagueId][homeTeamId][year][\"home\"][\"pa\"] += pa\n",
    "    teamRunCounts[leagueId][homeTeamId][year][\"home\"][\"runs\"] += runs\n",
    "    teamRunCounts[leagueId][homeTeamId][year][\"home\"][\"hrs\"] += hrs\n",
    "    \n",
    "    CheckForKeysAndAddIfNecessary(awayTeamId, leagueId, year, level, teamRunCounts)\n",
    "    teamRunCounts[leagueId][awayTeamId][year][\"away\"][\"outs\"] += outs\n",
    "    teamRunCounts[leagueId][awayTeamId][year][\"away\"][\"pa\"] += pa\n",
    "    teamRunCounts[leagueId][awayTeamId][year][\"away\"][\"runs\"] += runs\n",
    "    teamRunCounts[leagueId][awayTeamId][year][\"away\"][\"hrs\"] += hrs"
   ]
  },
  {
   "cell_type": "markdown",
   "metadata": {},
   "source": [
    "Insert home/away scores for each teams at home/away"
   ]
  },
  {
   "cell_type": "code",
   "execution_count": 9,
   "metadata": {},
   "outputs": [
    {
     "name": "stderr",
     "output_type": "stream",
     "text": [
      "100%|██████████| 20/20 [00:00<00:00, 460.06it/s]\n"
     ]
    }
   ],
   "source": [
    "db.rollback()\n",
    "cursor = db.cursor()\n",
    "cursor.execute(\"BEGIN TRANSACTION\")\n",
    "insertionData = []\n",
    "for leagueId, teamData in tqdm(teamRunCounts.items()):\n",
    "    for teamid, yearData in teamData.items():\n",
    "        for year, parkData in yearData.items():\n",
    "            valueExists = cursor.execute(f\"SELECT COUNT(*) FROM Park_ScoringData WHERE TeamId='{teamid}' AND Year='{year}'\").fetchone()[0] > 0\n",
    "            if valueExists:\n",
    "                continue\n",
    "                \n",
    "            homePA = parkData[\"home\"][\"pa\"]\n",
    "            homeOuts = parkData[\"home\"][\"outs\"]\n",
    "            homeRuns = parkData[\"home\"][\"runs\"]\n",
    "            homeHRs = parkData[\"home\"][\"hrs\"]\n",
    "            awayPA = parkData[\"away\"][\"pa\"]\n",
    "            awayOuts = parkData[\"away\"][\"outs\"]\n",
    "            awayRuns = parkData[\"away\"][\"runs\"]\n",
    "            awayHRs = parkData[\"away\"][\"hrs\"]\n",
    "            levelId = parkData[\"level\"]\n",
    "            insertionData.append([teamid, year, levelId, leagueId, homePA, homeOuts, homeRuns, homeHRs, awayPA, awayOuts, awayRuns, awayHRs])\n",
    "cursor.executemany(\"INSERT INTO Park_ScoringData('TeamId','Year','LevelId','LeagueId','HomePA','HomeOuts','HomeRuns','HomeHRs','AwayPA','AwayOuts','AwayRuns','AwayHRs') VALUES (?,?,?,?,?,?,?,?,?,?,?,?)\", insertionData)\n",
    "cursor.execute(\"END TRANSACTION\")\n",
    "db.commit()"
   ]
  },
  {
   "cell_type": "markdown",
   "metadata": {},
   "source": [
    "Calculate Park Factors"
   ]
  },
  {
   "cell_type": "code",
   "execution_count": 10,
   "metadata": {},
   "outputs": [
    {
     "name": "stderr",
     "output_type": "stream",
     "text": [
      "100%|██████████| 4808/4808 [00:05<00:00, 911.00it/s]\n"
     ]
    }
   ],
   "source": [
    "ROLLING_PERIOD = 3\n",
    "INNING_CUTOFF = 100\n",
    "\n",
    "db = sqlite3.connect(\"BaseballStats.db\")\n",
    "cursor = db.cursor()\n",
    "scoringData = cursor.execute(\"SELECT DISTINCT TeamId, Year FROM Park_ScoringData\").fetchall()\n",
    "\n",
    "for team, year in tqdm(scoringData):\n",
    "    # Check if data already exists\n",
    "    if cursor.execute(f\"SELECT COUNT(*) FROM Park_Factors WHERE year='{year}' AND TeamId='{team}'\").fetchone()[0] > 0:\n",
    "        #print(\"Continuing\")\n",
    "        continue\n",
    "    \n",
    "    parkRunData = cursor.execute(f\"SELECT * FROM Park_ScoringData WHERE TeamId='{team}' AND year > '{year - ROLLING_PERIOD}' AND year <= '{year}' ORDER BY Year DESC, HomeOuts DESC\").fetchall()\n",
    "    # Check if data exists\n",
    "    if len(parkRunData) == 0:\n",
    "        continue\n",
    "    \n",
    "    # Make sure there is some data from the current year\n",
    "    if parkRunData[0][1] != year:\n",
    "        continue\n",
    "    \n",
    "    # Get current league from first entry\n",
    "    leagueId = parkRunData[0][2]\n",
    "    levelId = parkRunData[0][3]\n",
    "    \n",
    "    awayOuts = 0\n",
    "    awayPa = 0\n",
    "    awayRuns = 0\n",
    "    awayHRs = 0\n",
    "    homeOuts = 0\n",
    "    homePa = 0\n",
    "    homeRuns = 0\n",
    "    homeHRs = 0\n",
    "    for _,_,_,_,hpa, ho,hr,hhr,apa,ao,ar,ahr in parkRunData:\n",
    "        awayOuts += ao\n",
    "        awayPa += apa\n",
    "        awayRuns += ar\n",
    "        awayHRs += ahr\n",
    "        homeOuts += ho\n",
    "        homePa += hpa\n",
    "        homeRuns += hr\n",
    "        homeHRs += hhr\n",
    "        \n",
    "    # Ensure enough data to actually calculate park factors\n",
    "    if awayOuts * 3 < INNING_CUTOFF or homeOuts * 3 < INNING_CUTOFF:\n",
    "        continue\n",
    "    \n",
    "    runFactor = (homeRuns / homeOuts) / (awayRuns / awayOuts)\n",
    "    hrFactor = (homeHRs / homePA) / (awayHRs / awayPa)\n",
    "    params = [(team, leagueId, levelId, year, runFactor, hrFactor)]\n",
    "    cursor.executemany(\"INSERT INTO Park_Factors('TeamId','LeagueId','LevelId','Year','RunFactor','HRFactor') VALUES(?,?,?,?,?,?)\", params)\n",
    "    db.commit()"
   ]
  },
  {
   "cell_type": "markdown",
   "metadata": {},
   "source": [
    "Calculate Level Factors"
   ]
  },
  {
   "cell_type": "code",
   "execution_count": 11,
   "metadata": {},
   "outputs": [],
   "source": [
    "db.rollback()\n",
    "cursor = db.cursor()\n",
    "\n",
    "for year in cursor.execute(\"SELECT DISTINCT Year FROM Park_Factors\").fetchall():\n",
    "    year = year[0]\n",
    "    data = []\n",
    "    totalOuts = 0\n",
    "    totalPa = 0\n",
    "    totalRuns = 0\n",
    "    totalHrs = 0\n",
    "    for level in cursor.execute(f\"SELECT DISTINCT LevelId FROM Park_Factors WHERE Year='{year}'\").fetchall():\n",
    "        level = level[0]\n",
    "        # Covid check\n",
    "        if year == 2020 and level != 1:\n",
    "            continue\n",
    "        if year > 2020 and level == 15:\n",
    "            continue\n",
    "        pa, outs, runs, hrs = cursor.execute(f\"SELECT SUM(HomePa), SUM(HomeOuts), SUM(HomeRuns), SUM(HomeHRs) FROM Park_ScoringData WHERE Year='{year}' AND LevelId='{level}'\").fetchone()\n",
    "        \n",
    "        data.append((level, runs/outs, hrs/pa))\n",
    "        totalOuts += outs\n",
    "        totalPa += pa\n",
    "        totalRuns += runs\n",
    "        totalHrs += hrs\n",
    "        \n",
    "    baseRunFactor = totalRuns / totalOuts\n",
    "    baseHRFactor = totalHrs / totalPa\n",
    "    cursor.execute(\"BEGIN TRANSACTION\")\n",
    "    for d in data:\n",
    "        if cursor.execute(f\"SELECT COUNT(*) FROM Level_Factors WHERE LevelId='{d[0]}' AND Year='{year}'\").fetchone()[0] == 0:\n",
    "            cursor.execute(\"INSERT INTO Level_Factors('LevelId','Year','RunFactor','HRFactor') VALUES(?,?,?,?)\", [d[0], year, d[1] / baseRunFactor, d[2] / baseHRFactor])\n",
    "    cursor.execute(\"END TRANSACTION\")\n",
    "    db.commit()\n",
    "    cursor = db.cursor()"
   ]
  },
  {
   "cell_type": "markdown",
   "metadata": {},
   "source": [
    "Calculate League Factors"
   ]
  },
  {
   "cell_type": "code",
   "execution_count": 12,
   "metadata": {},
   "outputs": [],
   "source": [
    "leagues = cursor.execute(\"SELECT DISTINCT LeagueId FROM Park_Factors\").fetchall()\n",
    "db.rollback()\n",
    "cursor = db.cursor()\n",
    "\n",
    "for year in range(2005, END_YEAR + 1):\n",
    "    # Check if data already exists for year\n",
    "    if cursor.execute(f\"SELECT COUNT(*) FROM League_Factors WHERE Year='{year}'\").fetchone()[0] > 0:\n",
    "        continue\n",
    "    \n",
    "    # Get data for each league\n",
    "    yearlyLeagueData = []\n",
    "    for league in leagues:\n",
    "        league = league[0]\n",
    "        \n",
    "        data = cursor.execute(f\"SELECT HomePa, HomeOuts, HomeRuns, HomeHRs, LevelId FROM Park_ScoringData WHERE LeagueId='{league}' AND Year='{year}'\").fetchall()\n",
    "        homePa = 0\n",
    "        homeOuts = 0\n",
    "        homeRuns = 0\n",
    "        homeHRs = 0\n",
    "        for pa, outs, runs, hrs, _ in data:\n",
    "            homePa += pa\n",
    "            homeOuts += outs\n",
    "            homeRuns += runs\n",
    "            homeHRs += hrs\n",
    "            \n",
    "        # if league == 134:\n",
    "        #     print(f\"Year={year} HomeInnings={homeInnings}\")\n",
    "            \n",
    "        if len(data) > 0:\n",
    "            yearlyLeagueData.append((league, homePa, homeOuts, homeRuns, homeHRs, data[0][4]))\n",
    "        \n",
    "    # Get Average of all leagues\n",
    "    totalOuts = 0\n",
    "    totalPa = 0\n",
    "    totalRuns = 0\n",
    "    totalHr = 0\n",
    "    for _, pa, outs, r, hr, _ in yearlyLeagueData:\n",
    "        totalPa += pa\n",
    "        totalOuts += outs\n",
    "        totalRuns += r\n",
    "        totalHr += hr\n",
    "        \n",
    "    # Normalize each league to the average\n",
    "    cursor.execute(\"BEGIN TRANSACTION\")\n",
    "    dbData = []\n",
    "    for leagueId, leaguePa, leagueOuts, leagueRuns, leagueHRs, levelId in yearlyLeagueData:\n",
    "        levelRunFactor, levelHRFactor = cursor.execute(f\"SELECT RunFactor, HRFactor FROM Level_Factors WHERE LevelId='{levelId}' AND Year='{year}'\").fetchone()\n",
    "        if leagueOuts * 3 > INNING_CUTOFF:\n",
    "            dbData.append((leagueId, year, (leagueRuns / leagueOuts)/(totalRuns / totalOuts)/levelRunFactor, (leagueHRs / leaguePa)/(totalHr / totalPa)/levelHRFactor))\n",
    "        else:\n",
    "            dbData.append((leagueId, year, 1, 1))\n",
    "    \n",
    "    cursor.executemany(\"INSERT INTO League_Factors('LeagueId','Year','RunFactor','HRFactor') VALUES(?,?,?,?)\", dbData)\n",
    "    cursor.execute(\"END TRANSACTION\")\n",
    "    db.commit()"
   ]
  }
 ],
 "metadata": {
  "kernelspec": {
   "display_name": "Python 3",
   "language": "python",
   "name": "python3"
  },
  "language_info": {
   "codemirror_mode": {
    "name": "ipython",
    "version": 3
   },
   "file_extension": ".py",
   "mimetype": "text/x-python",
   "name": "python",
   "nbconvert_exporter": "python",
   "pygments_lexer": "ipython3",
   "version": "3.11.9"
  }
 },
 "nbformat": 4,
 "nbformat_minor": 2
}
