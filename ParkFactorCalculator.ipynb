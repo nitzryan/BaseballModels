{
 "cells": [
  {
   "cell_type": "code",
   "execution_count": 20,
   "metadata": {},
   "outputs": [],
   "source": [
    "import requests"
   ]
  },
  {
   "cell_type": "code",
   "execution_count": 53,
   "metadata": {},
   "outputs": [],
   "source": [
    "END_YEAR = 2024"
   ]
  },
  {
   "cell_type": "code",
   "execution_count": 21,
   "metadata": {},
   "outputs": [],
   "source": [
    "teamRunCounts = {}"
   ]
  },
  {
   "cell_type": "code",
   "execution_count": 22,
   "metadata": {},
   "outputs": [],
   "source": [
    "import time"
   ]
  },
  {
   "cell_type": "code",
   "execution_count": 23,
   "metadata": {},
   "outputs": [],
   "source": [
    "def CheckForKeysAndAddIfNecessary(t, l, year, level, teamRunCounts):\n",
    "    if not l in teamRunCounts.keys():\n",
    "        teamRunCounts[l] = {}\n",
    "    if not t in teamRunCounts[l].keys():\n",
    "        teamRunCounts[l][t] = {}\n",
    "    if not year in teamRunCounts[l][t].keys():\n",
    "        teamRunCounts[l][t][year] = {\"home\": {\"innings\":0,\"runs\":0,\"hrs\":0}, \"away\": {\"innings\":0,\"runs\":0,\"hrs\":0}, \"level\": level}\n",
    "\n",
    "\n",
    "def GetGameRequest(id, year, level, teamRunCounts, session, repeat=True):\n",
    "    req = session.get(f'https://ws.statsapi.mlb.com/api/v1.1/game/{id}/feed/live')\n",
    "    if req.status_code == 200:\n",
    "        data = req.json()\n",
    "        htId = data[\"gameData\"][\"teams\"][\"home\"][\"id\"]\n",
    "        atId = data[\"gameData\"][\"teams\"][\"away\"][\"id\"]\n",
    "        leagueId = data[\"gameData\"][\"teams\"][\"home\"][\"league\"][\"id\"]\n",
    "        if not \"currentInning\" in data[\"liveData\"][\"linescore\"].keys():\n",
    "            return\n",
    "        innings = data[\"liveData\"][\"linescore\"][\"currentInning\"]\n",
    "        tmp = data[\"liveData\"][\"linescore\"][\"teams\"]\n",
    "        # Check if any data on home exists.  Will be empty if game is cancelled\n",
    "        if not \"runs\" in tmp[\"home\"].keys() or not \"runs\" in tmp[\"away\"].keys():\n",
    "            return\n",
    "        runs = tmp[\"home\"][\"runs\"] + tmp[\"away\"][\"runs\"]\n",
    "        #innings = data[\"liveData\"][\"linescore\"][\"currentInning\"]\n",
    "        tmp = data[\"liveData\"][\"boxscore\"][\"teams\"]\n",
    "        hrs = tmp[\"away\"][\"teamStats\"][\"batting\"][\"homeRuns\"] + tmp[\"home\"][\"teamStats\"][\"batting\"][\"homeRuns\"]\n",
    "\n",
    "        CheckForKeysAndAddIfNecessary(htId, leagueId, year, level, teamRunCounts)\n",
    "        teamRunCounts[leagueId][htId][year][\"home\"][\"innings\"] += innings\n",
    "        teamRunCounts[leagueId][htId][year][\"home\"][\"runs\"] += runs\n",
    "        teamRunCounts[leagueId][htId][year][\"home\"][\"hrs\"] += hrs\n",
    "        \n",
    "        CheckForKeysAndAddIfNecessary(atId, leagueId, year, level, teamRunCounts)\n",
    "        teamRunCounts[leagueId][atId][year][\"away\"][\"innings\"] += innings\n",
    "        teamRunCounts[leagueId][atId][year][\"away\"][\"runs\"] += runs\n",
    "        teamRunCounts[leagueId][atId][year][\"away\"][\"hrs\"] += hrs\n",
    "    else:\n",
    "        #print(f\"Incorrect Code: {req.status_code} : L{level} Y{year} {req.content}\")\n",
    "        time.sleep(1)\n",
    "        if repeat:\n",
    "            GetGameRequest(id, year, level, teamRunCounts, session, False)"
   ]
  },
  {
   "cell_type": "code",
   "execution_count": 24,
   "metadata": {},
   "outputs": [],
   "source": [
    "def GetGames(leagueId, year):\n",
    "    req = requests.get(f\"https://ws.statsapi.mlb.com/api/v1/schedule/games/?sportId={leagueId}&startDate={year}-01-01&endDate={year}-12-30\")\n",
    "    if req.status_code == 200:\n",
    "        data = req.json()\n",
    "        dates = data[\"dates\"]\n",
    "        games = []\n",
    "        for date in dates:\n",
    "            gs = date[\"games\"]\n",
    "            for g in gs:\n",
    "                games.append(g)\n",
    "        return games\n",
    "    else:\n",
    "        print(f\"Incorrect Code: {req.status_code} : L{leagueId} Y{year} {req.content}\")\n",
    "        return GetGames(leagueId, year)"
   ]
  },
  {
   "cell_type": "code",
   "execution_count": 25,
   "metadata": {},
   "outputs": [],
   "source": [
    "from tqdm import tqdm"
   ]
  },
  {
   "cell_type": "code",
   "execution_count": 26,
   "metadata": {},
   "outputs": [],
   "source": [
    "import sqlite3"
   ]
  },
  {
   "cell_type": "code",
   "execution_count": 27,
   "metadata": {},
   "outputs": [],
   "source": [
    "import threading"
   ]
  },
  {
   "cell_type": "code",
   "execution_count": 28,
   "metadata": {},
   "outputs": [],
   "source": [
    "dbWriteLock = threading.Lock()\n",
    "UpdateProcessLock = threading.Lock()\n",
    "CompleteProcessLock = threading.Lock()\n",
    "GetNewDataLock = threading.Lock()"
   ]
  },
  {
   "cell_type": "code",
   "execution_count": 29,
   "metadata": {},
   "outputs": [],
   "source": [
    "def UpdateDatabase(db, teamRunCounts):\n",
    "    global dbWriteLock\n",
    "    with dbWriteLock:\n",
    "        db.rollback()\n",
    "        cursor = db.cursor()\n",
    "        cursor.execute(\"BEGIN TRANSACTION\")\n",
    "        insertionData = []\n",
    "        for leagueId, teamData in teamRunCounts.items():\n",
    "            for teamid, yearData in teamData.items():\n",
    "                for year, parkData in yearData.items():\n",
    "                    valueExists = cursor.execute(f\"SELECT COUNT(*) FROM ParkRunData WHERE TeamId={teamid} AND Year={year}\").fetchone()[0] > 0\n",
    "                    if valueExists:\n",
    "                        continue\n",
    "                    homeInnings = parkData[\"home\"][\"innings\"]\n",
    "                    homeRuns = parkData[\"home\"][\"runs\"]\n",
    "                    homeHRs = parkData[\"home\"][\"hrs\"]\n",
    "                    awayInnings = parkData[\"away\"][\"innings\"]\n",
    "                    awayRuns = parkData[\"away\"][\"runs\"]\n",
    "                    awayHRs = parkData[\"away\"][\"hrs\"]\n",
    "                    levelId = parkData[\"level\"]\n",
    "                    insertionData.append([teamid, year, levelId, leagueId, homeInnings, homeRuns, homeHRs, awayInnings, awayRuns, awayHRs])\n",
    "        cursor.executemany(\"INSERT INTO ParkRunData('TeamId','Year','LevelId','LeagueId','HomeInnings','HomeRuns','HomeHRs','AwayInnings','AwayRuns','AwayHRs') VALUES (?,?,?,?,?,?,?,?,?,?)\", insertionData)\n",
    "        cursor.execute(\"END TRANSACTION\")\n",
    "        db.commit()"
   ]
  },
  {
   "cell_type": "code",
   "execution_count": 30,
   "metadata": {},
   "outputs": [],
   "source": [
    "NUM_THREADS = 16\n",
    "threadProcess = [0] * NUM_THREADS\n",
    "completedThreads = 0\n",
    "threads = []"
   ]
  },
  {
   "cell_type": "code",
   "execution_count": 31,
   "metadata": {},
   "outputs": [],
   "source": [
    "years = range(2005, END_YEAR)\n",
    "levels = [1,11,12,13,14,15,16]\n",
    "nextYearIdx = 0\n",
    "nextLevelIdx = 0"
   ]
  },
  {
   "cell_type": "code",
   "execution_count": 32,
   "metadata": {},
   "outputs": [
    {
     "name": "stderr",
     "output_type": "stream",
     "text": [
      " 98%|█████████▊| 9838/10000 [5:39:22<05:35,  2.07s/it]\n"
     ]
    }
   ],
   "source": [
    "totalSteps = 10000\n",
    "progressBar = tqdm(total=totalSteps)"
   ]
  },
  {
   "cell_type": "code",
   "execution_count": 33,
   "metadata": {},
   "outputs": [],
   "source": [
    "def UpdateProgressBar():\n",
    "    completed = completedThreads\n",
    "    for p in threadProcess:\n",
    "        completed += p\n",
    "    possible = len(years) * len(levels)\n",
    "    progress = completed / possible\n",
    "    progressBar.n = int(progress * totalSteps)\n",
    "    progressBar.last_print_n = progressBar.n\n",
    "    progressBar.refresh()"
   ]
  },
  {
   "cell_type": "code",
   "execution_count": 34,
   "metadata": {},
   "outputs": [],
   "source": [
    "def GetNextYearLevel():\n",
    "    global nextYearIdx\n",
    "    global nextLevelIdx\n",
    "    global years\n",
    "    global levels\n",
    "    with GetNewDataLock:\n",
    "        if (nextYearIdx == -1): # Data has been exhausted\n",
    "            return (-1,-1)\n",
    "        year = years[nextYearIdx]\n",
    "        level = levels[nextLevelIdx]\n",
    "        nextLevelIdx += 1\n",
    "        if (nextLevelIdx >= len(levels)):\n",
    "            nextYearIdx += 1\n",
    "            nextLevelIdx = 0\n",
    "            if (nextYearIdx >= len(years)):\n",
    "                nextYearIdx = -1\n",
    "        return (year, level)"
   ]
  },
  {
   "cell_type": "code",
   "execution_count": 35,
   "metadata": {},
   "outputs": [],
   "source": [
    "def CompleteThread(threadId):\n",
    "    global threadProcess\n",
    "    global completedThreads\n",
    "    with UpdateProcessLock:\n",
    "        threadProcess[threadId] = 0\n",
    "    with CompleteProcessLock:\n",
    "        completedThreads += 1\n",
    "    \n",
    "\n",
    "def LogYearLevel(db, threadId, year, level):\n",
    "    if db == None:\n",
    "        # Create DB Connection\n",
    "        db = sqlite3.connect(\"playerData.db\")\n",
    "        cursor = db.cursor()\n",
    "        cursor.execute(\"PRAGMA journal_mode = WAL\")\n",
    "        db.commit()\n",
    "        cursor = db.cursor()\n",
    "    \n",
    "    # Check if data already exists\n",
    "    cursor = db.cursor()\n",
    "    if cursor.execute(f\"SELECT COUNT(*) FROM ParkRunData WHERE Year={year} AND LevelId={level}\").fetchone()[0] > 0:\n",
    "        # Get next data\n",
    "        CompleteThread(threadId)\n",
    "        year, level = GetNextYearLevel()\n",
    "        if year != -1:\n",
    "            LogYearLevel(db, threadId, year, level)\n",
    "        return\n",
    "    \n",
    "    #\n",
    "    teamRunCounts = {}\n",
    "    games = GetGames(level,year)\n",
    "    yearString = str(year)\n",
    "    session = requests.Session()\n",
    "    for k, game in enumerate(games):\n",
    "        try:\n",
    "            GetGameRequest(game[\"gamePk\"], yearString, level, teamRunCounts, session)\n",
    "        finally:\n",
    "            threadProcess[threadId] = k / len(games)\n",
    "    print(f\"Completed Year: {year} Level: {level}\")\n",
    "    UpdateDatabase(db, teamRunCounts)\n",
    "        \n",
    "    CompleteThread(threadId)\n",
    "    year, level = GetNextYearLevel()\n",
    "    if year != -1:\n",
    "        LogYearLevel(db, threadId, year, level)"
   ]
  },
  {
   "cell_type": "code",
   "execution_count": 36,
   "metadata": {},
   "outputs": [],
   "source": [
    "# Create Threads\n",
    "for i in range(NUM_THREADS):\n",
    "    year, level = GetNextYearLevel()\n",
    "    thread = threading.Thread(target=LogYearLevel, args=[None, i, year, level])\n",
    "    threads.append(thread)\n",
    "    thread.start()"
   ]
  },
  {
   "cell_type": "code",
   "execution_count": 37,
   "metadata": {},
   "outputs": [
    {
     "name": "stderr",
     "output_type": "stream",
     "text": []
    }
   ],
   "source": [
    "# Start progress bar\n",
    "keepTimerRunning = True\n",
    "def UpdateTimer():\n",
    "    if keepTimerRunning:\n",
    "        threading.Timer(5.0, UpdateTimer).start()\n",
    "    UpdateProgressBar()\n",
    "    \n",
    "UpdateTimer()"
   ]
  },
  {
   "cell_type": "code",
   "execution_count": 39,
   "metadata": {},
   "outputs": [],
   "source": [
    "for thread in threads:\n",
    "    thread.join()\n",
    "keepTimerRunning = False"
   ]
  },
  {
   "cell_type": "code",
   "execution_count": 52,
   "metadata": {},
   "outputs": [],
   "source": [
    "ROLLING_PERIOD = 3\n",
    "INNING_CUTOFF = 150\n",
    "\n",
    "db = sqlite3.connect(\"playerData.db\")\n",
    "cursor = db.cursor()\n",
    "teams = cursor.execute(\"SELECT DISTINCT TeamId FROM ParkRunData\").fetchall()\n",
    "\n",
    "for year in range(2005, END_YEAR):\n",
    "    for team in teams:\n",
    "        team = team[0]\n",
    "        # Check if data already exists\n",
    "        if cursor.execute(f\"SELECT COUNT(*) FROM ParkFactors WHERE year='{year}' AND TeamId='{team}'\").fetchone()[0] > 0:\n",
    "            #print(\"Continuing\")\n",
    "            continue\n",
    "        \n",
    "        parkRunData = cursor.execute(f\"SELECT * FROM ParkRunData WHERE TeamId='{team}' AND year > '{year - ROLLING_PERIOD}' AND year <= '{year}' ORDER BY Year DESC, HomeInnings DESC\").fetchall()\n",
    "        # Check if data exists\n",
    "        if len(parkRunData) == 0:\n",
    "            continue\n",
    "        # Get current league from first entry\n",
    "        leagueId = parkRunData[0][2]\n",
    "        \n",
    "        awayInnings = 0\n",
    "        awayRuns = 0\n",
    "        awayHRs = 0\n",
    "        homeInnings = 0\n",
    "        homeRuns = 0\n",
    "        homeHRs = 0\n",
    "        for data in parkRunData:\n",
    "            homeInnings += data[4]\n",
    "            homeRuns += data[5]\n",
    "            homeHRs += data[6]\n",
    "            awayInnings += data[7]\n",
    "            awayRuns += data[8]\n",
    "            awayHRs += data[9]\n",
    "            \n",
    "        # Ensure enough data to actually calculate park factors\n",
    "        if awayInnings < INNING_CUTOFF or homeInnings < INNING_CUTOFF:\n",
    "            continue\n",
    "        \n",
    "        runFactor = (homeRuns / homeInnings) / (awayRuns / awayInnings)\n",
    "        hrFactor = (homeHRs / homeInnings) / (awayHRs / awayInnings)\n",
    "        params = [(team, leagueId, year, runFactor, hrFactor)]\n",
    "        cursor.executemany(\"INSERT INTO ParkFactors('TeamId','LeagueId','Year','RunFactor','HRFactor') VALUES(?,?,?,?,?)\", params)\n",
    "        db.commit()"
   ]
  },
  {
   "cell_type": "code",
   "execution_count": 60,
   "metadata": {},
   "outputs": [],
   "source": [
    "leagues = cursor.execute(\"SELECT DISTINCT LeagueId FROM ParkFactors\").fetchall()\n",
    "db.rollback()\n",
    "cursor = db.cursor()\n",
    "\n",
    "for year in range(2005, END_YEAR):\n",
    "    # Check if data already exists for year\n",
    "    if cursor.execute(f\"SELECT COUNT(*) FROM LeagueFactors WHERE Year='{year}'\").fetchone()[0] > 0:\n",
    "        continue\n",
    "    \n",
    "    # Get data for each league\n",
    "    yearlyLeagueData = []\n",
    "    for league in leagues:\n",
    "        league = league[0]\n",
    "        \n",
    "        data = cursor.execute(f\"SELECT HomeInnings, HomeRuns, HomeHRs FROM ParkRunData WHERE LeagueId='{league}' AND Year='{year}'\").fetchall()\n",
    "        homeInnings = 0\n",
    "        homeRuns = 0\n",
    "        homeHRs = 0\n",
    "        for innings, runs, hrs in data:\n",
    "            homeInnings += innings\n",
    "            homeRuns += runs\n",
    "            homeHRs += hrs\n",
    "        yearlyLeagueData.append((league, homeInnings, homeRuns, homeHRs))\n",
    "        \n",
    "    # Get Average of all leagues\n",
    "    innings = 0\n",
    "    runs = 0\n",
    "    hrs = 0\n",
    "    for _, inn, r, hr in yearlyLeagueData:\n",
    "        innings += inn\n",
    "        runs += r\n",
    "        hrs += hr\n",
    "        \n",
    "    # Normalize each league to the average\n",
    "    cursor.execute(\"BEGIN TRANSACTION\")\n",
    "    dbData = []\n",
    "    for leagueId, leagueInnings, leagueRuns, leagueHRs in yearlyLeagueData:\n",
    "        if leagueInnings > INNING_CUTOFF:\n",
    "            dbData.append((leagueId, year, (leagueRuns / leagueInnings)/(runs / innings), (leagueHRs / leagueInnings)/(hrs / innings)))\n",
    "        else:\n",
    "            dbData.append((leagueId, year, 1, 1))\n",
    "    cursor.executemany(\"INSERT INTO LeagueFactors('LeagueId','Year','RunFactor','HRFactor') VALUES(?,?,?,?)\", dbData)\n",
    "    cursor.execute(\"END TRANSACTION\")\n",
    "    db.commit()"
   ]
  }
 ],
 "metadata": {
  "kernelspec": {
   "display_name": "Python 3",
   "language": "python",
   "name": "python3"
  },
  "language_info": {
   "codemirror_mode": {
    "name": "ipython",
    "version": 3
   },
   "file_extension": ".py",
   "mimetype": "text/x-python",
   "name": "python",
   "nbconvert_exporter": "python",
   "pygments_lexer": "ipython3",
   "version": "3.11.9"
  }
 },
 "nbformat": 4,
 "nbformat_minor": 2
}
