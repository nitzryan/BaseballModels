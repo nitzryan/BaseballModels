{
 "cells": [
  {
   "cell_type": "code",
   "execution_count": 1,
   "metadata": {},
   "outputs": [],
   "source": [
    "import sqlite3\n",
    "from tqdm import tqdm"
   ]
  },
  {
   "cell_type": "code",
   "execution_count": 2,
   "metadata": {},
   "outputs": [],
   "source": [
    "START_YEAR = 2005\n",
    "CURRENT_SEASON = 2024\n",
    "SPORT_IDS = [1,11,12,13,14,15,16,17]\n",
    "MONTHS = [4,5,6,7,8,9] # March folded into April, October into September"
   ]
  },
  {
   "cell_type": "code",
   "execution_count": 3,
   "metadata": {},
   "outputs": [],
   "source": [
    "db = sqlite3.connect(\"BaseballStats.db\")\n",
    "cursor = db.cursor()"
   ]
  },
  {
   "cell_type": "code",
   "execution_count": 4,
   "metadata": {},
   "outputs": [
    {
     "name": "stderr",
     "output_type": "stream",
     "text": [
      "100%|██████████| 20/20 [00:00<00:00, 20.73it/s]\n"
     ]
    }
   ],
   "source": [
    "cursor.execute(\"DELETE FROM Level_HitterStats\")\n",
    "for year in tqdm(range(START_YEAR, CURRENT_SEASON + 1)):\n",
    "    for level in SPORT_IDS:\n",
    "        for month in MONTHS:\n",
    "            \n",
    "            ab, h, doubles, triples, hr, k, bb, sb, cs, hbp = cursor.execute('SELECT SUM(AB), SUM(H), SUM(\"2B\"), SUM(\"3B\"), SUM(HR), SUM(K), SUM(BB), SUM(SB), SUM(CS), SUM(HBP) FROM Player_Hitter_MonthStats WHERE Year=? AND Month=? AND LevelId=?', (year, month, level)).fetchone()\n",
    "            \n",
    "            # Some year/level combos do not have any games\n",
    "            if ab == 0 or ab == None:\n",
    "                continue\n",
    "            \n",
    "            # Calculate stats\n",
    "            pa = ab + bb + hbp\n",
    "            singles = h - doubles - triples - hr\n",
    "            iso = (doubles + 2 * triples + 3 * hr) / ab\n",
    "            avg = h / ab\n",
    "            obp = (h + bb + hbp) / pa\n",
    "            slg = (singles + 2 * doubles + 3 * triples + 4 * hr) / ab\n",
    "            hrPerc = hr / pa\n",
    "            bbPerc = bb / pa\n",
    "            kPerc = k / pa\n",
    "            sbRate = sb / pa\n",
    "            sbPerc = sb / (sb + cs)\n",
    "            # https://library.fangraphs.com/offense/woba/\n",
    "            wOBA = (0.69 * bb + 0.72 * hbp + 0.89 * singles + 1.27 * doubles + 1.62 * triples + 2.10 * hr) / (pa)\n",
    "            \n",
    "            # Insert data\n",
    "            cursor.execute(\"INSERT INTO Level_HitterStats VALUES(?,?,?,?,?,?,?,?,?,?,?,?,?)\", (level, year, month, avg, obp, slg, iso, wOBA, hrPerc, bbPerc, kPerc, sbRate, sbPerc))\n",
    "            db.commit()\n",
    "            cursor = db.cursor()"
   ]
  }
 ],
 "metadata": {
  "kernelspec": {
   "display_name": "Python 3",
   "language": "python",
   "name": "python3"
  },
  "language_info": {
   "codemirror_mode": {
    "name": "ipython",
    "version": 3
   },
   "file_extension": ".py",
   "mimetype": "text/x-python",
   "name": "python",
   "nbconvert_exporter": "python",
   "pygments_lexer": "ipython3",
   "version": "3.11.9"
  }
 },
 "nbformat": 4,
 "nbformat_minor": 2
}
