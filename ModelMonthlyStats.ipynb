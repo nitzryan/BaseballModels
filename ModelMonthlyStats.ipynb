{
 "cells": [
  {
   "cell_type": "code",
   "execution_count": 17,
   "metadata": {},
   "outputs": [],
   "source": [
    "import sqlite3\n",
    "from tqdm import tqdm\n",
    "import numpy as np"
   ]
  },
  {
   "cell_type": "code",
   "execution_count": 18,
   "metadata": {},
   "outputs": [],
   "source": [
    "db = sqlite3.connect(\"BaseballStats.db\")"
   ]
  },
  {
   "cell_type": "markdown",
   "metadata": {},
   "source": [
    "Eliminate gap in levels, so that there is less between MLB (1) and AAA(11 vs 2)"
   ]
  },
  {
   "cell_type": "code",
   "execution_count": 19,
   "metadata": {},
   "outputs": [],
   "source": [
    "START_MONTH = 4\n",
    "LAST_MONTH = 9"
   ]
  },
  {
   "cell_type": "code",
   "execution_count": 20,
   "metadata": {},
   "outputs": [],
   "source": [
    "levelMap = {1:0,11:1,12:2,13:3,14:4,15:5,16:6,17:7}"
   ]
  },
  {
   "cell_type": "markdown",
   "metadata": {},
   "source": [
    "Hitter Model Stats"
   ]
  },
  {
   "cell_type": "code",
   "execution_count": 21,
   "metadata": {},
   "outputs": [
    {
     "name": "stderr",
     "output_type": "stream",
     "text": [
      "100%|██████████| 17274/17274 [00:03<00:00, 5336.77it/s]\n"
     ]
    }
   ],
   "source": [
    "db.rollback()\n",
    "cursor = db.cursor()\n",
    "cursor.execute(\"BEGIN TRANSACTION\")\n",
    "cursor.execute(\"DELETE FROM Model_HitterStats\")\n",
    "\n",
    "playerData = cursor.execute('''\n",
    "                            SELECT DISTINCT(m.mlbId), m.lastProspectYear, m.lastProspectMonth, p.birthYear, p.birthMonth, p.birthDate\n",
    "                            FROM Model_Players AS m\n",
    "                            INNER JOIN Player AS p on m.mlbId = p.mlbId\n",
    "                            WHERE m.isHitter='1'\n",
    "                            ''').fetchall()\n",
    "\n",
    "for id, lastYear, lastMonth, birthYear, birthMonth, birthDate in tqdm(playerData):\n",
    "    hittingData = cursor.execute('''\n",
    "                                 SELECT stats.Year, stats.Month, stats.AB+stats.BB+stats.HBP, stats.LevelId, stats.ParkRunFactor, stats.ParkHRFactor,\n",
    "                                 r.avgRatio, r.obpRatio, r.isoRatio, r.wOBARatio, r.sbRateRatio, r.sbPercRatio, r.hrPercRatio, r.bbPercRatio, r.kPercRatio,\n",
    "                                 r.PercC, r.Perc1B, r.Perc2B, r.Perc3B, r.PercSS, r.PercLF, r.PercCF, r.PercRF, r.PercDH\n",
    "                                 FROM Player_Hitter_MonthStats AS stats\n",
    "                                 INNER JOIN Player_hitter_MonthlyRatios AS r ON stats.mlbId = r.mlbId AND stats.Year = r.Year AND stats.Month = r.Month AND stats.LevelId = r.Level\n",
    "                                 WHERE stats.mlbId=?\n",
    "                                 AND (\n",
    "                                     stats.Year<?\n",
    "                                     OR (stats.Year=? AND stats.Month<=?)\n",
    "                                 )\n",
    "                                 ORDER BY r.Year ASC, r.Month ASC, r.Level ASC\n",
    "                                 ''', (id, lastYear, lastYear, lastMonth)).fetchall()\n",
    "    \n",
    "    prevYear = 0\n",
    "    prevMonth = 0\n",
    "    totalPa = 0\n",
    "    currentLog = None\n",
    "    for log in hittingData:\n",
    "        year = log[0]\n",
    "        month = log[1]\n",
    "        # Get data for this month\n",
    "        thisPa = log[2]\n",
    "        \n",
    "        log = np.array(log[3:])\n",
    "        log[0] = levelMap[log[0]]\n",
    "        \n",
    "        if year == prevYear and month == prevMonth: # Take weighted average\n",
    "            try:\n",
    "                currentLog = (thisPa / (thisPa + totalPa)) * log + (totalPa / (thisPa + totalPa)) * currentLog\n",
    "            except: # A few players that only stole bases\n",
    "                currentLog = 0.5 * log + 0.5 * currentLog\n",
    "            totalPa += thisPa\n",
    "        \n",
    "        else: # new month\n",
    "            if currentLog is not None: # Log all but first for a player\n",
    "                cursor.execute(\"INSERT INTO Model_HitterStats VALUES(?,?,?,?,?,?,?,?,?,?,?,?,?,?,?,?,?,?,?,?,?,?,?,?,?,?)\",\n",
    "                               (id, prevYear, prevMonth, (prevYear + prevMonth/12) - (birthYear + birthMonth/12 + birthDate/365), totalPa,\n",
    "                                currentLog[0],currentLog[1],currentLog[2],currentLog[3],currentLog[4],currentLog[5],currentLog[6],\n",
    "                                currentLog[7],currentLog[8],currentLog[9],currentLog[10],currentLog[11],currentLog[12],currentLog[13],\n",
    "                                currentLog[14],currentLog[15],currentLog[16],currentLog[17],currentLog[18],currentLog[19],currentLog[20])\n",
    "                               )\n",
    "            totalPa = thisPa\n",
    "            currentLog = log\n",
    "            prevYear = year\n",
    "            prevMonth = month\n",
    "            \n",
    "    # Have 1 last entry to do\n",
    "    if currentLog is not None:\n",
    "        cursor.execute(\"INSERT INTO Model_HitterStats VALUES(?,?,?,?,?,?,?,?,?,?,?,?,?,?,?,?,?,?,?,?,?,?,?,?,?,?)\",\n",
    "                                (id, prevYear, prevMonth, (prevYear + prevMonth/12) - (birthYear + birthMonth/12 + birthDate/365), totalPa,\n",
    "                                    currentLog[0],currentLog[1],currentLog[2],currentLog[3],currentLog[4],currentLog[5],currentLog[6],\n",
    "                                    currentLog[7],currentLog[8],currentLog[9],currentLog[10],currentLog[11],currentLog[12],currentLog[13],\n",
    "                                    currentLog[14],currentLog[15],currentLog[16],currentLog[17],currentLog[18],currentLog[19],currentLog[20])\n",
    "                               )\n",
    "\n",
    "cursor.execute(\"END TRANSACTION\")\n",
    "db.commit()"
   ]
  },
  {
   "cell_type": "markdown",
   "metadata": {},
   "source": [
    "Fill in any gaps for hitters\n",
    "\n",
    "From the start until the end, there should be 1 entry every month (4...9 inclusive).  For empty months, use last level, 0PA, 1 for all ratios, 0 for fielding positions"
   ]
  },
  {
   "cell_type": "code",
   "execution_count": 22,
   "metadata": {},
   "outputs": [
    {
     "name": "stderr",
     "output_type": "stream",
     "text": [
      "100%|██████████| 17274/17274 [00:00<00:00, 20993.44it/s]\n"
     ]
    }
   ],
   "source": [
    "db.rollback()\n",
    "cursor = db.cursor()\n",
    "cursor.execute(\"BEGIN TRANSACTION\")\n",
    "\n",
    "ids = cursor.execute(\"SELECT DISTINCT mlbId FROM Model_HitterStats\").fetchall()\n",
    "for (id,) in tqdm(ids):\n",
    "    statDates = cursor.execute(\"SELECT Year, Month FROM Model_HitterStats WHERE mlbId=? ORDER BY Year ASC, Month ASC\", (id,)).fetchall()\n",
    "    birthYear, birthMonth, birthDate = cursor.execute(\"SELECT BirthYear, BirthMonth, BirthDate FROM Player WHERE mlbId=?\", (id,)).fetchone()\n",
    "    \n",
    "    currentStatIdx = 0\n",
    "    currentMonth = statDates[0][1] - 1\n",
    "    currentYear = statDates[0][0]\n",
    "    for year, month in statDates:\n",
    "        currentMonth += 1\n",
    "        if currentMonth > LAST_MONTH:\n",
    "            currentMonth = START_MONTH\n",
    "            currentYear += 1\n",
    "        \n",
    "        if currentMonth != month or currentYear != year:\n",
    "            # Get last level\n",
    "            level = levelMap[cursor.execute(\"SELECT Level FROM Player_Hitter_GameLog WHERE mlbId=? AND ((Year<=? AND Month<=?) OR Year<?) ORDER BY Year DESC, Month DESC, Day DESC LIMIT 1\", (id, currentYear, currentMonth, currentYear)).fetchone()[0]]\n",
    "            while currentMonth != month or currentYear != year:\n",
    "                rookie_ball_check = (level < 5) or (currentMonth > 5 and currentMonth < 9)\n",
    "                minors_check = (level == 0) or (currentMonth > 4 and currentMonth < 9)\n",
    "                if currentYear != 2020 and rookie_ball_check and minors_check: # Covid Check\n",
    "                    # Add entry\n",
    "                    currentAge = (currentYear + currentMonth/12) - (birthYear + birthMonth/12 + birthDate/365)\n",
    "                    cursor.execute(\"INSERT INTO Model_HitterStats VALUES(?,?,?,?,?,?,?,?,?,?,?,?,?,?,?,?,?,?,?,?,?,?,?,?,?,?)\",\n",
    "                                (id, currentYear, currentMonth, currentAge, 0, level,\n",
    "                                    1,1,1,1,1,1,1,1,1,1,1,\n",
    "                                    0,0,0,0,0,0,0,0,0))\n",
    "                \n",
    "                # Update Month\n",
    "                currentMonth += 1\n",
    "                if currentMonth > LAST_MONTH:\n",
    "                    currentMonth = START_MONTH\n",
    "                    currentYear += 1\n",
    "                    \n",
    "        currentMonth = month\n",
    "        currentYear = year\n",
    "\n",
    "cursor.execute(\"END TRANSACTION\")\n",
    "db.commit()"
   ]
  },
  {
   "cell_type": "markdown",
   "metadata": {},
   "source": [
    "Pitcher Model Stats"
   ]
  },
  {
   "cell_type": "code",
   "execution_count": 23,
   "metadata": {},
   "outputs": [
    {
     "name": "stderr",
     "output_type": "stream",
     "text": [
      "100%|██████████| 19839/19839 [00:02<00:00, 7912.88it/s] \n"
     ]
    }
   ],
   "source": [
    "db.rollback()\n",
    "cursor = db.cursor()\n",
    "cursor.execute(\"BEGIN TRANSACTION\")\n",
    "cursor.execute(\"DELETE FROM Model_PitcherStats\")\n",
    "\n",
    "playerData = cursor.execute('''\n",
    "                            SELECT DISTINCT(m.mlbId), m.lastProspectYear, m.lastProspectMonth, p.birthYear, p.birthMonth, p.birthDate\n",
    "                            FROM Model_Players AS m\n",
    "                            INNER JOIN Player AS p on m.mlbId = p.mlbId\n",
    "                            WHERE m.isPitcher='1'\n",
    "                            ''').fetchall()\n",
    "\n",
    "for id, lastYear, lastMonth, birthYear, birthMonth, birthDate in tqdm(playerData):\n",
    "    hittingData = cursor.execute('''\n",
    "                                 SELECT stats.Year, stats.Month, stats.battersFaced, stats.level, stats.RunFactor, stats.HRFactor,\n",
    "                                 r.gbPercRatio, r.eraRatio, r.fipRatio, r.wobaRatio, r.hrPercRatio, r.bbPercRatio, r.kPercRatio\n",
    "                                 FROM Player_Pitcher_MonthStats AS stats\n",
    "                                 INNER JOIN Player_Pitcher_MonthlyRatios AS r ON stats.mlbId = r.mlbId AND stats.Year = r.Year AND stats.Month = r.Month AND stats.Level = r.Level\n",
    "                                 WHERE stats.mlbId=?\n",
    "                                 AND (\n",
    "                                     stats.Year<?\n",
    "                                     OR (stats.Year=? AND stats.Month<=?)\n",
    "                                 )\n",
    "                                 ORDER BY r.Year ASC, r.Month ASC, r.Level ASC\n",
    "                                 ''', (id, lastYear, lastYear, lastMonth)).fetchall()\n",
    "    \n",
    "    prevYear = 0\n",
    "    prevMonth = 0\n",
    "    totalPa = 0\n",
    "    currentLog = None\n",
    "    # if len(hittingData) == 0:\n",
    "    #     print(f\"I didn't get any data for id={id}\")\n",
    "    for log in hittingData:\n",
    "        year = log[0]\n",
    "        month = log[1]\n",
    "        # Get data for this month\n",
    "        thisPa = log[2]\n",
    "        \n",
    "        log = np.array(log[3:])\n",
    "        log[0] = levelMap[log[0]]\n",
    "        \n",
    "        if year == prevYear and month == prevMonth: # Take weighted average\n",
    "            # try:\n",
    "            currentLog = (thisPa / (thisPa + totalPa)) * log + (totalPa / (thisPa + totalPa)) * currentLog\n",
    "            # except: # A few players that only stole bases\n",
    "            #     currentLog = 0.5 * log + 0.5 * currentLog\n",
    "            totalPa += thisPa\n",
    "        \n",
    "        else: # new month\n",
    "            if currentLog is not None: # Log all but first for a player\n",
    "                cursor.execute(\"INSERT INTO Model_PitcherStats VALUES(?,?,?,?,?,?,?,?,?,?,?,?,?,?,?)\",\n",
    "                               (id, prevYear, prevMonth, (year + month/12) - (birthYear + birthMonth/12 + birthDate/365), totalPa,\n",
    "                                currentLog[0],currentLog[1],currentLog[2],currentLog[3],currentLog[4],currentLog[5],currentLog[6],\n",
    "                                currentLog[7],currentLog[8],currentLog[9])\n",
    "                               )\n",
    "            totalPa = thisPa\n",
    "            currentLog = log\n",
    "            prevYear = year\n",
    "            prevMonth = month\n",
    "            \n",
    "    # Have 1 last entry to do\n",
    "    if currentLog is not None:\n",
    "        cursor.execute(\"INSERT INTO Model_PitcherStats VALUES(?,?,?,?,?,?,?,?,?,?,?,?,?,?,?)\",\n",
    "                                (id, prevYear, prevMonth, (year + month/12) - (birthYear + birthMonth/12 + birthDate/365), totalPa,\n",
    "                                    currentLog[0],currentLog[1],currentLog[2],currentLog[3],currentLog[4],currentLog[5],currentLog[6],\n",
    "                                    currentLog[7],currentLog[8],currentLog[9]))\n",
    "\n",
    "cursor.execute(\"END TRANSACTION\")\n",
    "db.commit()"
   ]
  },
  {
   "cell_type": "markdown",
   "metadata": {},
   "source": [
    "Fill in any gaps for pitchers\n",
    "\n",
    "From the start until the end, there should be 1 entry every month (4...9 inclusive).  For empty months, use last level, 0PA, 1 for all ratios, 0 for fielding positions"
   ]
  },
  {
   "cell_type": "code",
   "execution_count": 24,
   "metadata": {},
   "outputs": [
    {
     "name": "stderr",
     "output_type": "stream",
     "text": [
      "100%|██████████| 19837/19837 [00:00<00:00, 27762.47it/s]\n"
     ]
    }
   ],
   "source": [
    "db.rollback()\n",
    "cursor = db.cursor()\n",
    "cursor.execute(\"BEGIN TRANSACTION\")\n",
    "\n",
    "ids = cursor.execute(\"SELECT DISTINCT mlbId FROM Model_PitcherStats\").fetchall()\n",
    "for (id,) in tqdm(ids):\n",
    "    statDates = cursor.execute(\"SELECT Year, Month FROM Model_PitcherStats WHERE mlbId=? ORDER BY Year ASC, Month ASC\", (id,)).fetchall()\n",
    "    birthYear, birthMonth, birthDate = cursor.execute(\"SELECT BirthYear, BirthMonth, BirthDate FROM Player WHERE mlbId=?\", (id,)).fetchone()\n",
    "    \n",
    "    currentStatIdx = 0\n",
    "    currentMonth = statDates[0][1] - 1\n",
    "    currentYear = statDates[0][0]\n",
    "    for year, month in statDates:\n",
    "        currentMonth += 1\n",
    "        if currentMonth > LAST_MONTH:\n",
    "            currentMonth = START_MONTH\n",
    "            currentYear += 1\n",
    "        \n",
    "        if currentMonth != month or currentYear != year:\n",
    "            # Get last level\n",
    "            \n",
    "            level = levelMap[cursor.execute(\"SELECT Level FROM Player_Pitcher_GameLog WHERE mlbId=? AND ((Year<=? AND Month<=?) OR Year<?) ORDER BY Year DESC, Month DESC, Day DESC LIMIT 1\", (id, currentYear, currentMonth, currentYear)).fetchone()[0]]\n",
    "            while currentMonth != month or currentYear != year:\n",
    "                rookie_ball_check = (level < 5) or (currentMonth > 5 and currentMonth < 9)\n",
    "                minors_check = (level == 0) or (currentMonth > 4 and currentMonth < 9)\n",
    "                if currentYear != 2020 and rookie_ball_check and minors_check: # Covid Check\n",
    "                    # Add entry\n",
    "                    currentAge = (currentYear + currentMonth/12) - (birthYear + birthMonth/12 + birthDate/365)\n",
    "                    cursor.execute(\"INSERT INTO Model_PitcherStats VALUES(?,?,?,?,?,?,?,?,?,?,?,?,?,?,?)\",\n",
    "                                (id, currentYear, currentMonth, currentAge, 0, level,\n",
    "                                    1,1,1,1,1,1,1,1,1)\n",
    "                                )\n",
    "                \n",
    "                # Update Month\n",
    "                currentMonth += 1\n",
    "                if currentMonth > LAST_MONTH:\n",
    "                    currentMonth = START_MONTH\n",
    "                    currentYear += 1\n",
    "                    \n",
    "        currentMonth = month\n",
    "        currentYear = year\n",
    "\n",
    "cursor.execute(\"END TRANSACTION\")\n",
    "db.commit()"
   ]
  }
 ],
 "metadata": {
  "kernelspec": {
   "display_name": "Python 3",
   "language": "python",
   "name": "python3"
  },
  "language_info": {
   "codemirror_mode": {
    "name": "ipython",
    "version": 3
   },
   "file_extension": ".py",
   "mimetype": "text/x-python",
   "name": "python",
   "nbconvert_exporter": "python",
   "pygments_lexer": "ipython3",
   "version": "3.11.9"
  }
 },
 "nbformat": 4,
 "nbformat_minor": 2
}
