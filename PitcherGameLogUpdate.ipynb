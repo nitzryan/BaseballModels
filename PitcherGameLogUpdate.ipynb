{
 "cells": [
  {
   "cell_type": "code",
   "execution_count": 1,
   "metadata": {},
   "outputs": [],
   "source": [
    "START_YEAR = 2005\n",
    "SPORT_IDS = [1,11,12,13,14,15,16]\n",
    "MEXICAN_LEAGUE_ID = 125 # For some years, mlb returns it for AAA level, which I do not want\n",
    "DSL_LEAGUE_ID = 130 # Set this to level 17"
   ]
  },
  {
   "cell_type": "code",
   "execution_count": 2,
   "metadata": {},
   "outputs": [],
   "source": [
    "CURRENT_SEASON = 2024\n",
    "ONLY_UPDATE_CURRENT_SEASON = False"
   ]
  },
  {
   "cell_type": "code",
   "execution_count": 3,
   "metadata": {},
   "outputs": [],
   "source": [
    "STOP_MONTH = 8"
   ]
  },
  {
   "cell_type": "code",
   "execution_count": 2,
   "metadata": {},
   "outputs": [],
   "source": [
    "import requests\n",
    "import sqlite3"
   ]
  },
  {
   "cell_type": "code",
   "execution_count": 5,
   "metadata": {},
   "outputs": [],
   "source": [
    "from tqdm import tqdm\n",
    "import threading"
   ]
  },
  {
   "cell_type": "code",
   "execution_count": 6,
   "metadata": {},
   "outputs": [],
   "source": [
    "import traceback"
   ]
  },
  {
   "cell_type": "markdown",
   "metadata": {},
   "source": [
    "Generate Game Log Data"
   ]
  },
  {
   "cell_type": "code",
   "execution_count": 7,
   "metadata": {},
   "outputs": [],
   "source": [
    "dbWriteLock = threading.Lock()"
   ]
  },
  {
   "cell_type": "code",
   "execution_count": 8,
   "metadata": {},
   "outputs": [],
   "source": [
    "def GeneratePitcherYearGameLogs(db, mlbId, year, startMonth=0, endMonth=13):\n",
    "    cursor = db.cursor()\n",
    "    # Check if data already exists\n",
    "    if cursor.execute(f\"SELECT COUNT(*) FROM Player_Pitcher_GameLog WHERE mlbId='{mlbId}' AND Year='{year}' AND Month >'{startMonth}'\").fetchone()[0] > 0:\n",
    "        return\n",
    "    \n",
    "    gameLogs = []\n",
    "    response = requests.get(f\"https://statsapi.mlb.com/api/v1/people/{mlbId}/stats?stats=gameLog&leagueListId=mlb_milb&group=pitching&gameType=R&sitCodes=1,2,3,4,5,6,7,8,9,10,11,12&hydrate=team&language=en&season={year}\")\n",
    "    if response.status_code != 200:\n",
    "        print(f\"Status code {response.status_code} for id={mlbId} year={year}\")\n",
    "        return\n",
    "    try:\n",
    "        # Make sure any data exists\n",
    "        try:\n",
    "            games = response.json()[\"stats\"][0][\"splits\"]\n",
    "        except:\n",
    "            return\n",
    "        \n",
    "        # Add each game\n",
    "        for game in games:\n",
    "            if game[\"team\"][\"league\"][\"id\"] == MEXICAN_LEAGUE_ID:\n",
    "                continue\n",
    "            \n",
    "            _, month, day = game[\"date\"].split(\"-\")\n",
    "            if int(month) < int(startMonth) or int(month) >= int(endMonth):\n",
    "                continue\n",
    "            \n",
    "            gameId = int(game[\"game\"][\"gamePk\"])\n",
    "            isHomeGame = int(game[\"isHome\"])\n",
    "            if isHomeGame:\n",
    "                homeTeamId = int(game[\"team\"][\"id\"])\n",
    "            else:\n",
    "                homeTeamId = int(game[\"opponent\"][\"id\"])\n",
    "            level = int(game[\"sport\"][\"id\"])\n",
    "            stats = game[\"stat\"]\n",
    "            bf = int(stats[\"battersFaced\"])\n",
    "            outs = int(stats[\"outs\"])\n",
    "            groundOuts = int(stats[\"groundOuts\"])\n",
    "            airOuts = int(stats[\"airOuts\"])\n",
    "            r = int(stats[\"runs\"])\n",
    "            er = int(stats[\"earnedRuns\"])\n",
    "            h = int(stats[\"hits\"])\n",
    "            k = int(stats[\"strikeOuts\"])\n",
    "            bb = int(stats[\"baseOnBalls\"])\n",
    "            hbp = int(stats[\"hitByPitch\"])\n",
    "            double = int(stats[\"doubles\"])\n",
    "            triples = int(stats[\"triples\"])\n",
    "            hr = int(stats[\"homeRuns\"])\n",
    "            teamId = game[\"team\"][\"id\"]\n",
    "            leagueId = game[\"league\"][\"id\"]\n",
    "            gameLogs.append((gameId, int(mlbId), int(day), int(month), int(year), bf, outs, groundOuts, airOuts, r, er, h, k, bb, hbp, double, triples, hr, level, homeTeamId, teamId, leagueId))\n",
    "            \n",
    "        # Write to database\n",
    "        with dbWriteLock:\n",
    "            cursor.execute(\"BEGIN TRANSACTION\")\n",
    "            cursor.executemany(\"INSERT INTO Player_Pitcher_GameLog('gameId', 'mlbId', 'Day', 'Month','Year','battersFaced','outs','go','ao','r','er','h','k','bb','hbp','2B','3B','HR','Level','HomeTeamId', 'TeamId', 'LeagueId') VALUES(?,?,?,?,?,?,?,?,?,?,?,?,?,?,?,?,?,?,?,?,?,?)\", gameLogs)\n",
    "            cursor.execute(\"END TRANSACTION\")\n",
    "            db.commit()\n",
    "            \n",
    "    except Exception as e:\n",
    "        print(f\"Exception On Id={mlbId} year={year}: {e}\")\n",
    "        traceback.print_exc()\n",
    "        return"
   ]
  },
  {
   "cell_type": "code",
   "execution_count": 9,
   "metadata": {},
   "outputs": [
    {
     "name": "stderr",
     "output_type": "stream",
     "text": [
      "100%|██████████| 20/20 [04:17<00:00, 12.87s/it]\n"
     ]
    }
   ],
   "source": [
    "# Create dictionary of player ids-year combination\n",
    "# Don't need any data, just a lookup table\n",
    "playerYearDict = {}\n",
    "for year in tqdm(range(START_YEAR, CURRENT_SEASON + 1)):\n",
    "    if ONLY_UPDATE_CURRENT_SEASON and year != CURRENT_SEASON:\n",
    "            continue\n",
    "\n",
    "    for sportId in SPORT_IDS:\n",
    "        #print(f\"Getting players for Year={year} SportId={sportId}\")\n",
    "        response = requests.get(f\"https://bdfed.stitch.mlbinfra.com/bdfed/stats/player?stitch_env=prod&season={year}&sportId={sportId}&stats=season&group=pitching&gameType=R&limit=5000&offset=0&sortStat=homeRuns&order=desc\")\n",
    "        if response.status_code != 200:\n",
    "            print(f\"Code {response.status_code} for Year={year} and sportId={sportId}\")\n",
    "            continue\n",
    "\n",
    "        responseJson = response.json()\n",
    "        jsonPlayers = responseJson['stats']\n",
    "        for player in jsonPlayers:\n",
    "            playerString = str(player[\"playerId\"]) + \",\" + str(year)\n",
    "            playerYearDict[playerString] = None"
   ]
  },
  {
   "cell_type": "code",
   "execution_count": 10,
   "metadata": {},
   "outputs": [],
   "source": [
    "NUM_THREADS = 16"
   ]
  },
  {
   "cell_type": "code",
   "execution_count": 11,
   "metadata": {},
   "outputs": [],
   "source": [
    "def PitcherGameLogThreadFunction(data, threadIdx):\n",
    "    db = sqlite3.connect(\"BaseballStats.db\")\n",
    "    cursor = db.cursor()\n",
    "    with dbWriteLock:\n",
    "        cursor.execute(\"PRAGMA journal_mode = WAL\")\n",
    "        db.commit()\n",
    "    cursor = db.cursor()\n",
    "    global threadCompleteCounts\n",
    "    for d in data:\n",
    "        try:\n",
    "            mlbId, year = d.split(\",\")\n",
    "            if year == CURRENT_SEASON:\n",
    "                months = cursor.execute(f\"SELECT DISTINCT Month FROM Player_Pitcher_GameLog WHERE mlbId='{mlbId}' AND Year='{year}' ORDER BY Month DESC\").fetchall()\n",
    "                if len(months) == 0:\n",
    "                    startMonth = 0\n",
    "                else:\n",
    "                    startMonth = months[0][0]\n",
    "                GeneratePitcherYearGameLogs(db, mlbId, year, startMonth, STOP_MONTH)\n",
    "            else:\n",
    "                if cursor.execute(f\"SELECT COUNT(*) FROM Player_Pitcher_GameLog WHERE mlbId='{mlbId}' AND Year='{year}'\").fetchone()[0] == 0:\n",
    "                    GeneratePitcherYearGameLogs(db, mlbId, year)\n",
    "        except Exception as e:\n",
    "            print(f\"Error for id={mlbId} year={year}: {e}\")\n",
    "        finally:\n",
    "            threadCompleteCounts[threadIdx] += 1\n",
    "    \n",
    "        "
   ]
  },
  {
   "cell_type": "code",
   "execution_count": 12,
   "metadata": {},
   "outputs": [
    {
     "name": "stderr",
     "output_type": "stream",
     "text": [
      " 13%|█▎        | 11761/91948 [11:21<1:17:23, 17.27it/s]"
     ]
    },
    {
     "name": "stdout",
     "output_type": "stream",
     "text": [
      "Error for id=598465 year=2017: ('Connection aborted.', ConnectionResetError(10054, 'An existing connection was forcibly closed by the remote host', None, 10054, None))\n",
      "Error for id=622380 year=2012: ('Connection aborted.', ConnectionResetError(10054, 'An existing connection was forcibly closed by the remote host', None, 10054, None))\n"
     ]
    },
    {
     "name": "stderr",
     "output_type": "stream",
     "text": [
      "100%|█████████▉| 91942/91948 [1:28:38<00:00, 17.29it/s]"
     ]
    },
    {
     "ename": "KeyboardInterrupt",
     "evalue": "",
     "output_type": "error",
     "traceback": [
      "\u001b[1;31m---------------------------------------------------------------------------\u001b[0m",
      "\u001b[1;31mKeyboardInterrupt\u001b[0m                         Traceback (most recent call last)",
      "Cell \u001b[1;32mIn[12], line 34\u001b[0m\n\u001b[0;32m     31\u001b[0m UpdateTimer()\n\u001b[0;32m     33\u001b[0m \u001b[38;5;28;01mfor\u001b[39;00m thread \u001b[38;5;129;01min\u001b[39;00m threads:\n\u001b[1;32m---> 34\u001b[0m     \u001b[43mthread\u001b[49m\u001b[38;5;241;43m.\u001b[39;49m\u001b[43mjoin\u001b[49m\u001b[43m(\u001b[49m\u001b[43m)\u001b[49m\n\u001b[0;32m     36\u001b[0m keepTimerRunning \u001b[38;5;241m=\u001b[39m \u001b[38;5;28;01mFalse\u001b[39;00m\n",
      "File \u001b[1;32mC:\\Program Files\\WindowsApps\\PythonSoftwareFoundation.Python.3.11_3.11.2544.0_x64__qbz5n2kfra8p0\\Lib\\threading.py:1119\u001b[0m, in \u001b[0;36mThread.join\u001b[1;34m(self, timeout)\u001b[0m\n\u001b[0;32m   1116\u001b[0m     \u001b[38;5;28;01mraise\u001b[39;00m \u001b[38;5;167;01mRuntimeError\u001b[39;00m(\u001b[38;5;124m\"\u001b[39m\u001b[38;5;124mcannot join current thread\u001b[39m\u001b[38;5;124m\"\u001b[39m)\n\u001b[0;32m   1118\u001b[0m \u001b[38;5;28;01mif\u001b[39;00m timeout \u001b[38;5;129;01mis\u001b[39;00m \u001b[38;5;28;01mNone\u001b[39;00m:\n\u001b[1;32m-> 1119\u001b[0m     \u001b[38;5;28;43mself\u001b[39;49m\u001b[38;5;241;43m.\u001b[39;49m\u001b[43m_wait_for_tstate_lock\u001b[49m\u001b[43m(\u001b[49m\u001b[43m)\u001b[49m\n\u001b[0;32m   1120\u001b[0m \u001b[38;5;28;01melse\u001b[39;00m:\n\u001b[0;32m   1121\u001b[0m     \u001b[38;5;66;03m# the behavior of a negative timeout isn't documented, but\u001b[39;00m\n\u001b[0;32m   1122\u001b[0m     \u001b[38;5;66;03m# historically .join(timeout=x) for x<0 has acted as if timeout=0\u001b[39;00m\n\u001b[0;32m   1123\u001b[0m     \u001b[38;5;28mself\u001b[39m\u001b[38;5;241m.\u001b[39m_wait_for_tstate_lock(timeout\u001b[38;5;241m=\u001b[39m\u001b[38;5;28mmax\u001b[39m(timeout, \u001b[38;5;241m0\u001b[39m))\n",
      "File \u001b[1;32mC:\\Program Files\\WindowsApps\\PythonSoftwareFoundation.Python.3.11_3.11.2544.0_x64__qbz5n2kfra8p0\\Lib\\threading.py:1139\u001b[0m, in \u001b[0;36mThread._wait_for_tstate_lock\u001b[1;34m(self, block, timeout)\u001b[0m\n\u001b[0;32m   1136\u001b[0m     \u001b[38;5;28;01mreturn\u001b[39;00m\n\u001b[0;32m   1138\u001b[0m \u001b[38;5;28;01mtry\u001b[39;00m:\n\u001b[1;32m-> 1139\u001b[0m     \u001b[38;5;28;01mif\u001b[39;00m \u001b[43mlock\u001b[49m\u001b[38;5;241;43m.\u001b[39;49m\u001b[43macquire\u001b[49m\u001b[43m(\u001b[49m\u001b[43mblock\u001b[49m\u001b[43m,\u001b[49m\u001b[43m \u001b[49m\u001b[43mtimeout\u001b[49m\u001b[43m)\u001b[49m:\n\u001b[0;32m   1140\u001b[0m         lock\u001b[38;5;241m.\u001b[39mrelease()\n\u001b[0;32m   1141\u001b[0m         \u001b[38;5;28mself\u001b[39m\u001b[38;5;241m.\u001b[39m_stop()\n",
      "\u001b[1;31mKeyboardInterrupt\u001b[0m: "
     ]
    }
   ],
   "source": [
    "db = sqlite3.connect(\"BaseballStats.db\")\n",
    "db.rollback()\n",
    "\n",
    "playerYears = list(playerYearDict.keys())\n",
    "\n",
    "threads = []\n",
    "threadCompleteCounts = [0] * NUM_THREADS\n",
    "for i in range(NUM_THREADS):\n",
    "    thread = threading.Thread(target=PitcherGameLogThreadFunction, args=[playerYears[len(playerYears) * i // NUM_THREADS : len(playerYears) * (i + 1) // NUM_THREADS], i])\n",
    "    threads.append(thread)\n",
    "    thread.start()\n",
    "    \n",
    "progressBar = tqdm(total=len(playerYears))\n",
    "\n",
    "# Start progress bar\n",
    "keepTimerRunning = True\n",
    "def UpdateTimer():\n",
    "    if keepTimerRunning:\n",
    "        threading.Timer(5.0, UpdateTimer).start()\n",
    "    \n",
    "    count = 0\n",
    "    global threadCompleteCounts\n",
    "    for i in range(NUM_THREADS):\n",
    "        count += threadCompleteCounts[i]\n",
    "    \n",
    "    global progressBar\n",
    "    progressBar.n = count\n",
    "    progressBar.last_print_n = progressBar.n\n",
    "    progressBar.refresh()\n",
    "    \n",
    "UpdateTimer()\n",
    "\n",
    "for thread in threads:\n",
    "    thread.join()\n",
    "    \n",
    "keepTimerRunning = False"
   ]
  },
  {
   "cell_type": "code",
   "execution_count": 3,
   "metadata": {},
   "outputs": [],
   "source": [
    "db = sqlite3.connect(\"BaseballStats.db\")\n",
    "db.rollback()\n",
    "cursor = db.cursor()\n",
    "cursor.execute(\"BEGIN TRANSACTION\")\n",
    "\n",
    "cursor.execute(\"UPDATE Player_Pitcher_GameLog SET Level=? WHERE LeagueId=?\", (17, DSL_LEAGUE_ID))\n",
    "\n",
    "cursor.execute(\"END TRANSACTION\")\n",
    "db.commit()"
   ]
  },
  {
   "cell_type": "code",
   "execution_count": 13,
   "metadata": {},
   "outputs": [
    {
     "name": "stderr",
     "output_type": "stream",
     "text": [
      "91950it [2:54:46,  8.77it/s]                           "
     ]
    }
   ],
   "source": [
    "# PitcherGameLogThreadFunction([\n",
    "#     \"598465,2017\",\n",
    "#     \"622380,2012\"\n",
    "# ], 0)"
   ]
  }
 ],
 "metadata": {
  "kernelspec": {
   "display_name": "Python 3",
   "language": "python",
   "name": "python3"
  },
  "language_info": {
   "codemirror_mode": {
    "name": "ipython",
    "version": 3
   },
   "file_extension": ".py",
   "mimetype": "text/x-python",
   "name": "python",
   "nbconvert_exporter": "python",
   "pygments_lexer": "ipython3",
   "version": "3.11.9"
  }
 },
 "nbformat": 4,
 "nbformat_minor": 2
}
