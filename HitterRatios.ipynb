{
 "cells": [
  {
   "cell_type": "code",
   "execution_count": 6,
   "metadata": {},
   "outputs": [],
   "source": [
    "import sqlite3"
   ]
  },
  {
   "cell_type": "code",
   "execution_count": 7,
   "metadata": {},
   "outputs": [],
   "source": [
    "START_YEAR = 2005\n",
    "CURRENT_SEASON = 2024\n",
    "COMPLETE_CURRENT_SEASON = False\n",
    "MONTHS = [4,5,6,7,8,9] # March folded into April, October into September"
   ]
  },
  {
   "cell_type": "code",
   "execution_count": 8,
   "metadata": {},
   "outputs": [],
   "source": [
    "db = sqlite3.connect(\"BaseballStats.db\")\n",
    "cursor = db.cursor()"
   ]
  },
  {
   "cell_type": "code",
   "execution_count": 9,
   "metadata": {},
   "outputs": [],
   "source": [
    "from tqdm import tqdm"
   ]
  },
  {
   "cell_type": "code",
   "execution_count": 10,
   "metadata": {},
   "outputs": [
    {
     "name": "stderr",
     "output_type": "stream",
     "text": [
      "100%|██████████| 430226/430226 [00:03<00:00, 129460.09it/s]\n"
     ]
    }
   ],
   "source": [
    "db.rollback()\n",
    "cursor = db.cursor()\n",
    "\n",
    "playerData = cursor.execute(\"SELECT * FROM Player_Hitter_MonthStats ORDER BY mlbId DESC, Year DESC, Month DESC, LevelId DESC\").fetchall()\n",
    "cursor.execute(\"BEGIN TRANSACTION\")\n",
    "cursor.execute(\"DELETE FROM Player_Hitter_MonthlyRatios\")\n",
    "\n",
    "for mlbId, year, month, level, ab, h, double, triple, hr, k, bb, sb, cs, hbp, parkFunFactor, ParkHRFacttor, GamesC, Games1B, Games2B, Games3B, GamesSS, GamesLF, GamesCF, GamesRF, GamesDH in tqdm(playerData):\n",
    "    try:\n",
    "        _, _, _, levelAvg, levelOBP, levelSLG, levelISO, levelWOBA, levelHRPerc, levelBBPerc, levelKPerc, levelSBRate, levelSBPerc = cursor.execute(\"SELECT * FROM Level_HitterStats WHERE LevelId=? AND Year=? AND Month=?\", (level, year, month)).fetchone()\n",
    "    except: # No Data\n",
    "        continue\n",
    "    \n",
    "    pa = ab + bb + hbp\n",
    "    singles = h - double - triple - hr\n",
    "    if ab == 0:\n",
    "        iso = levelISO\n",
    "        avg = levelAvg\n",
    "    else:\n",
    "        iso = (double + 2 * triple + 3 * hr) / ab\n",
    "        avg = h / ab\n",
    "    if pa == 0:\n",
    "        obp = levelOBP\n",
    "        hrPerc = levelHRPerc\n",
    "        bbPerc = levelBBPerc\n",
    "        kPerc = levelKPerc\n",
    "        sbRate = levelSBRate\n",
    "        wOBA = levelWOBA\n",
    "    else:\n",
    "        # https://library.fangraphs.com/offense/woba/\n",
    "        wOBA = (0.69 * bb + 0.72 * hbp + 0.89 * singles + 1.27 * double + 1.62 * triple + 2.10 * hr) / (pa)\n",
    "        obp = (h + bb + hbp) / pa\n",
    "        hrPerc = hr / pa\n",
    "        bbPerc = bb / pa\n",
    "        kPerc = k / pa\n",
    "        sbRate = sb / pa\n",
    "    \n",
    "    if (sb + cs) != 0:\n",
    "        sbPerc = sb / (sb + cs)\n",
    "    else:\n",
    "        sbPerc = levelSBPerc\n",
    "    \n",
    "    \n",
    "    avgRatio = avg / levelAvg\n",
    "    obpRatio = obp / levelOBP\n",
    "    isoRatio = iso / levelISO\n",
    "    wobaRatio = wOBA / levelWOBA\n",
    "    sbRateRatio = sbRate / levelSBRate\n",
    "    sbPercRatio = sbPerc / levelSBPerc\n",
    "    hrPercRatio = hrPerc / levelHRPerc\n",
    "    bbPercRatio = bbPerc / levelBBPerc\n",
    "    kPercRatio = kPerc / levelKPerc\n",
    "    totalGames = GamesC + Games1B + Games2B + Games3B + GamesSS + GamesLF + GamesCF + GamesRF + GamesDH\n",
    "    PercC = GamesC / totalGames\n",
    "    Perc1B = Games1B / totalGames\n",
    "    Perc2B = Games2B / totalGames\n",
    "    Perc3B = Games3B / totalGames\n",
    "    PercSS = GamesSS / totalGames\n",
    "    PercLF = GamesLF / totalGames\n",
    "    PercCF = GamesCF / totalGames\n",
    "    PercRF = GamesRF / totalGames\n",
    "    PercDH = GamesDH / totalGames\n",
    "    \n",
    "    cursor.execute(\"INSERT INTO Player_Hitter_MonthlyRatios VALUES(?,?,?,?,?,?,?,?,?,?,?,?,?,?,?,?,?,?,?,?,?,?)\", (mlbId, year, month, level, avgRatio, obpRatio, isoRatio, wobaRatio, sbRateRatio, sbPercRatio, hrPercRatio, bbPercRatio, kPercRatio, PercC, Perc1B, Perc2B, Perc3B, PercSS, PercLF, PercCF, PercRF, PercDH))\n",
    "    \n",
    "cursor.execute(\"END TRANSACTION\")\n",
    "db.commit()"
   ]
  }
 ],
 "metadata": {
  "kernelspec": {
   "display_name": "Python 3",
   "language": "python",
   "name": "python3"
  },
  "language_info": {
   "codemirror_mode": {
    "name": "ipython",
    "version": 3
   },
   "file_extension": ".py",
   "mimetype": "text/x-python",
   "name": "python",
   "nbconvert_exporter": "python",
   "pygments_lexer": "ipython3",
   "version": "3.11.9"
  }
 },
 "nbformat": 4,
 "nbformat_minor": 2
}
