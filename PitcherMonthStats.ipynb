{
 "cells": [
  {
   "cell_type": "code",
   "execution_count": 1,
   "metadata": {},
   "outputs": [],
   "source": [
    "import sqlite3"
   ]
  },
  {
   "cell_type": "code",
   "execution_count": 2,
   "metadata": {},
   "outputs": [],
   "source": [
    "START_YEAR = 2005\n",
    "CURRENT_SEASON = 2024\n",
    "SPORT_IDS = [1,11,12,13,14,15,16]\n",
    "MONTHS = [4,5,6,7,8,9] # March folded into April, October into September"
   ]
  },
  {
   "cell_type": "code",
   "execution_count": 3,
   "metadata": {},
   "outputs": [],
   "source": [
    "db = sqlite3.connect(\"BaseballStats.db\")\n",
    "cursor = db.cursor()"
   ]
  },
  {
   "cell_type": "markdown",
   "metadata": {},
   "source": [
    "Get all League Factors"
   ]
  },
  {
   "cell_type": "code",
   "execution_count": 4,
   "metadata": {},
   "outputs": [],
   "source": [
    "LeagueFactors = {}\n",
    "lfData = cursor.execute(\"SELECT LeagueId, Year, RunFactor, HRFactor FROM League_Factors\").fetchall()\n",
    "for league, year, rFac, hrFac in lfData:\n",
    "    if not league in LeagueFactors.keys():\n",
    "        LeagueFactors[league] = {}\n",
    "    LeagueFactors[league][year] = {\"RunFactor\" : rFac, \"HRFactor\" : hrFac}"
   ]
  },
  {
   "cell_type": "markdown",
   "metadata": {},
   "source": [
    "Get all Park factors, adjusted by league factor"
   ]
  },
  {
   "cell_type": "code",
   "execution_count": 5,
   "metadata": {},
   "outputs": [],
   "source": [
    "ParkFactors = {}\n",
    "pfData = cursor.execute(\"SELECT TeamId, LeagueId, Year, RunFactor, HRFactor FROM Park_Factors\").fetchall()\n",
    "for team, league, year, rFac, hrFac in pfData:\n",
    "    if not team in ParkFactors:\n",
    "        ParkFactors[team] = {}\n",
    "    ParkFactors[team][year] = {\"RunFactor\" : rFac * LeagueFactors[league][year][\"RunFactor\"], \"HRFactor\" : hrFac * LeagueFactors[league][year][\"HRFactor\"]}"
   ]
  },
  {
   "cell_type": "markdown",
   "metadata": {},
   "source": [
    "Generate Month Statistics"
   ]
  },
  {
   "cell_type": "code",
   "execution_count": 6,
   "metadata": {},
   "outputs": [],
   "source": [
    "from tqdm import tqdm"
   ]
  },
  {
   "cell_type": "code",
   "execution_count": 7,
   "metadata": {},
   "outputs": [
    {
     "name": "stderr",
     "output_type": "stream",
     "text": [
      "100%|█████████▉| 999/1000 [01:14<00:00, 13.40it/s]"
     ]
    }
   ],
   "source": [
    "db.rollback()\n",
    "cursor = db.cursor()\n",
    "cursor.execute(\"DELETE FROM Player_Pitcher_MonthStats\")\n",
    "db.commit()\n",
    "cursor = db.cursor()\n",
    "\n",
    "PROGRESS_TOTAL = 1000\n",
    "progressBar = tqdm(total=PROGRESS_TOTAL)\n",
    "\n",
    "for i, year in enumerate(range(START_YEAR, CURRENT_SEASON + 1)):\n",
    "    playerLevels = cursor.execute(f\"SELECT DISTINCT mlbId, Level FROM Player_Pitcher_GameLog WHERE Year='{year}'\").fetchall()\n",
    "    dbData = []\n",
    "    for j, (mlbId, level) in enumerate(playerLevels):\n",
    "        for month in MONTHS:\n",
    "            if month == 4:\n",
    "                gameLogs = cursor.execute(f'SELECT battersFaced,outs,go,ao,r,er,h,k,bb,hbp,\"2B\",\"3B\",HR,HomeTeamId FROM Player_Pitcher_GameLog WHERE mlbId=? AND Year=? AND Month<=? AND Level=?', (mlbId, year, 4, level)).fetchall()\n",
    "            elif month == 8 and level == 16:\n",
    "                gameLogs = cursor.execute(f'SELECT battersFaced,outs,go,ao,r,er,h,k,bb,hbp,\"2B\",\"3B\",HR,HomeTeamId FROM Player_Pitcher_GameLog WHERE mlbId=? AND Year=? AND Month>=? AND Level=?', (mlbId, year, 8, level)).fetchall()\n",
    "            elif month > 8 and level == 16: # Rookie ball has few games after this month, roll september into august\n",
    "                continue\n",
    "            elif month == 9:\n",
    "                gameLogs = cursor.execute(f'SELECT battersFaced,outs,go,ao,r,er,h,k,bb,hbp,\"2B\",\"3B\",HR,HomeTeamId FROM Player_Pitcher_GameLog WHERE mlbId=? AND Year=? AND Month>=? AND Level=?', (mlbId, year, 9, level)).fetchall()\n",
    "            else:\n",
    "                gameLogs = cursor.execute(f'SELECT battersFaced,outs,go,ao,r,er,h,k,bb,hbp,\"2B\",\"3B\",HR,HomeTeamId FROM Player_Pitcher_GameLog WHERE mlbId=? AND Year=? AND Month=? AND Level=?', (mlbId, year, month, level)).fetchall()\n",
    "            \n",
    "            if len(gameLogs) == 0:\n",
    "                continue\n",
    "            totalH = 0\n",
    "            total2B = 0\n",
    "            total3B = 0\n",
    "            totalHR = 0\n",
    "            totalK = 0\n",
    "            totalBB = 0\n",
    "            totalHBP = 0\n",
    "            totalBF = 0\n",
    "            totalOuts = 0\n",
    "            totalGO = 0\n",
    "            totalAO = 0\n",
    "            totalR = 0\n",
    "            totalER = 0\n",
    "            totalRunFactor = 0\n",
    "            totalHRFactor = 0\n",
    "            \n",
    "            for battersFaced, outs, go, ao, r, er, h, k, bb, hbp, doubles, triples, hr, homeTeamId in gameLogs:\n",
    "                totalH += h\n",
    "                total2B += doubles\n",
    "                total3B += triples\n",
    "                totalHR += hr\n",
    "                totalK += k\n",
    "                totalBB += bb\n",
    "                totalHBP += hbp\n",
    "                totalBF += battersFaced\n",
    "                totalOuts += outs\n",
    "                totalGO += go\n",
    "                totalAO += ao\n",
    "                totalR += r\n",
    "                totalER += er\n",
    "                    \n",
    "                try:\n",
    "                    totalRunFactor += battersFaced * ParkFactors[homeTeamId][year][\"RunFactor\"]\n",
    "                    totalHRFactor += battersFaced * ParkFactors[homeTeamId][year][\"HRFactor\"]\n",
    "                except: # Not enough data on this park\n",
    "                    totalRunFactor += battersFaced\n",
    "                    totalHRFactor += battersFaced\n",
    "            \n",
    "            if totalBF > 0:\n",
    "                totalRunFactor /= totalBF\n",
    "                totalHRFactor /= totalBF\n",
    "            else:\n",
    "                totalRunFactor = 1\n",
    "                totalHRFactor = 1\n",
    "            dbData.append((mlbId, year, month, level, totalBF, totalOuts, totalGO, totalAO, totalR, totalER, totalH, totalK, totalBB, totalHBP, total2B, total3B, totalHR, totalRunFactor, totalHRFactor))\n",
    "    \n",
    "        progressBar.n = int(PROGRESS_TOTAL * (i + j / len(playerLevels)) / len(range(START_YEAR, CURRENT_SEASON + 1)))\n",
    "        progressBar.last_print_n = progressBar.n\n",
    "        progressBar.refresh()\n",
    "    \n",
    "    cursor.execute(\"BEGIN TRANSACTION\")\n",
    "    cursor.executemany(\"INSERT INTO Player_Pitcher_MonthStats VALUES(?,?,?,?,?,?,?,?,?,?,?,?,?,?,?,?,?,?,?)\", dbData)\n",
    "    cursor.execute(\"END TRANSACTION\")\n",
    "    db.commit()\n",
    "    cursor = db.cursor()"
   ]
  }
 ],
 "metadata": {
  "kernelspec": {
   "display_name": "Python 3",
   "language": "python",
   "name": "python3"
  },
  "language_info": {
   "codemirror_mode": {
    "name": "ipython",
    "version": 3
   },
   "file_extension": ".py",
   "mimetype": "text/x-python",
   "name": "python",
   "nbconvert_exporter": "python",
   "pygments_lexer": "ipython3",
   "version": "3.11.9"
  }
 },
 "nbformat": 4,
 "nbformat_minor": 2
}
