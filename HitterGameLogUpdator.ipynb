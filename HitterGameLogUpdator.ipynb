{
 "cells": [
  {
   "cell_type": "code",
   "execution_count": 1,
   "metadata": {},
   "outputs": [],
   "source": [
    "START_YEAR = 2005\n",
    "SPORT_IDS = [1,11,12,13,14,15,16]\n",
    "MEXICAN_LEAGUE_ID = 125 # For some years, mlb returns it for AAA level, which I do not want"
   ]
  },
  {
   "cell_type": "code",
   "execution_count": 2,
   "metadata": {},
   "outputs": [],
   "source": [
    "CURRENT_SEASON = 2024\n",
    "ONLY_UPDATE_CURRENT_SEASON = False"
   ]
  },
  {
   "cell_type": "code",
   "execution_count": 3,
   "metadata": {},
   "outputs": [],
   "source": [
    "STOP_MONTH = 8"
   ]
  },
  {
   "cell_type": "code",
   "execution_count": 4,
   "metadata": {},
   "outputs": [],
   "source": [
    "import requests\n",
    "import sqlite3"
   ]
  },
  {
   "cell_type": "code",
   "execution_count": 5,
   "metadata": {},
   "outputs": [],
   "source": [
    "from tqdm import tqdm\n",
    "import threading"
   ]
  },
  {
   "cell_type": "code",
   "execution_count": 6,
   "metadata": {},
   "outputs": [],
   "source": [
    "import traceback"
   ]
  },
  {
   "cell_type": "markdown",
   "metadata": {},
   "source": [
    "Generate Game Log Data"
   ]
  },
  {
   "cell_type": "code",
   "execution_count": 7,
   "metadata": {},
   "outputs": [],
   "source": [
    "dbWriteLock = threading.Lock()"
   ]
  },
  {
   "cell_type": "code",
   "execution_count": 8,
   "metadata": {},
   "outputs": [],
   "source": [
    "def GenerateHitterYearGameLogs(db, mlbId, year, startMonth=0, endMonth=13):\n",
    "    cursor = db.cursor()\n",
    "    # Check if data already exists\n",
    "    if cursor.execute(f\"SELECT COUNT(*) FROM Player_Hitter_GameLog WHERE mlbId='{mlbId}' AND Year='{year}' AND Month >'{startMonth}'\").fetchone()[0] > 0:\n",
    "        return\n",
    "    \n",
    "    gameLogs = []\n",
    "    response = requests.get(f\"https://statsapi.mlb.com/api/v1/people/{mlbId}/stats?stats=gameLog&leagueListId=mlb_milb&group=hitting&gameType=R&sitCodes=1,2,3,4,5,6,7,8,9,10,11,12&hydrate=team&language=en&season={year}\")\n",
    "    if response.status_code != 200:\n",
    "        print(f\"Status code {response.status_code} for id={mlbId} year={year}\")\n",
    "        return\n",
    "    try:\n",
    "        # Make sure any data exists\n",
    "        try:\n",
    "            games = response.json()[\"stats\"][0][\"splits\"]\n",
    "        except:\n",
    "            return\n",
    "        \n",
    "        # Add each game\n",
    "        for game in games:\n",
    "            if game[\"team\"][\"league\"][\"id\"] == MEXICAN_LEAGUE_ID:\n",
    "                continue\n",
    "            \n",
    "            _, month, day = game[\"date\"].split(\"-\")\n",
    "            if int(month) < int(startMonth) or int(month) >= int(endMonth):\n",
    "                continue\n",
    "            \n",
    "            gameId = int(game[\"game\"][\"gamePk\"])\n",
    "            if len(game[\"positionsPlayed\"]) > 0:\n",
    "                pos = int(game[\"positionsPlayed\"][0][\"code\"])\n",
    "            else:\n",
    "                pos = 10\n",
    "            isHomeGame = int(game[\"isHome\"])\n",
    "            if isHomeGame:\n",
    "                homeTeamId = int(game[\"team\"][\"id\"])\n",
    "            else:\n",
    "                homeTeamId = int(game[\"opponent\"][\"id\"])\n",
    "            level = int(game[\"sport\"][\"id\"])\n",
    "            stats = game[\"stat\"]\n",
    "            ab = int(stats[\"atBats\"])\n",
    "            h = int(stats[\"hits\"])\n",
    "            double = int(stats[\"doubles\"])\n",
    "            triple = int(stats[\"triples\"])\n",
    "            hr = int(stats[\"homeRuns\"])\n",
    "            k = int(stats[\"strikeOuts\"])\n",
    "            bb = int(stats[\"baseOnBalls\"])\n",
    "            hbp = int(stats[\"hitByPitch\"])\n",
    "            sb = int(stats[\"stolenBases\"])\n",
    "            cs = int(stats[\"caughtStealing\"])\n",
    "            teamId = game[\"team\"][\"id\"]\n",
    "            leagueId = game[\"league\"][\"id\"]\n",
    "            gameLogs.append((gameId, int(mlbId), int(day), int(month), int(year), ab, h, double, triple, hr, k, bb, sb, cs, hbp, pos, level, homeTeamId, teamId, leagueId))\n",
    "            \n",
    "        # Write to database\n",
    "        with dbWriteLock:\n",
    "            cursor.execute(\"BEGIN TRANSACTION\")\n",
    "            cursor.executemany(\"INSERT INTO Player_Hitter_GameLog('gameId', 'mlbId', 'Day', 'Month','Year','AB','H','2B','3B','HR','K','BB','SB','CS','HBP','Position','Level','HomeTeamId', 'TeamId', 'LeagueId') VALUES(?,?,?,?,?,?,?,?,?,?,?,?,?,?,?,?,?,?,?,?)\", gameLogs)\n",
    "            cursor.execute(\"END TRANSACTION\")\n",
    "            db.commit()\n",
    "            \n",
    "    except Exception as e:\n",
    "        print(f\"Exception On Id={mlbId} year={year}: {e}\")\n",
    "        traceback.print_exc()\n",
    "        return"
   ]
  },
  {
   "cell_type": "code",
   "execution_count": 9,
   "metadata": {},
   "outputs": [
    {
     "name": "stderr",
     "output_type": "stream",
     "text": [
      "100%|██████████| 20/20 [02:34<00:00,  7.70s/it]\n"
     ]
    }
   ],
   "source": [
    "# Create dictionary of player ids-year combination\n",
    "# Don't need any data, just a lookup table\n",
    "playerYearDict = {}\n",
    "for year in tqdm(range(START_YEAR, CURRENT_SEASON + 1)):\n",
    "    if ONLY_UPDATE_CURRENT_SEASON and year != CURRENT_SEASON:\n",
    "            continue\n",
    "\n",
    "    for sportId in SPORT_IDS:\n",
    "        response = requests.get(f\"https://bdfed.stitch.mlbinfra.com/bdfed/stats/player?stitch_env=prod&season={year}&sportId={sportId}&stats=season&group=hitting&gameType=R&limit=5000&offset=0&sortStat=homeRuns&order=desc\")\n",
    "        if response.status_code != 200:\n",
    "            print(f\"Code {response.status_code} for Year={year} and sportId={sportId}\")\n",
    "            continue\n",
    "\n",
    "        responseJson = response.json()\n",
    "        jsonPlayers = responseJson['stats']\n",
    "        for player in jsonPlayers:\n",
    "            playerString = str(player[\"playerId\"]) + \",\" + str(year)\n",
    "            playerYearDict[playerString] = None"
   ]
  },
  {
   "cell_type": "code",
   "execution_count": 10,
   "metadata": {},
   "outputs": [],
   "source": [
    "NUM_THREADS = 16"
   ]
  },
  {
   "cell_type": "code",
   "execution_count": 11,
   "metadata": {},
   "outputs": [],
   "source": [
    "def HitterGameLogThreadFunction(data, threadIdx):\n",
    "    db = sqlite3.connect(\"BaseballStats.db\")\n",
    "    cursor = db.cursor()\n",
    "    with dbWriteLock:\n",
    "        cursor.execute(\"PRAGMA journal_mode = WAL\")\n",
    "        db.commit()\n",
    "    cursor = db.cursor()\n",
    "    global threadCompleteCounts\n",
    "    for d in data:\n",
    "        try:\n",
    "            mlbId, year = d.split(\",\")\n",
    "            if year == CURRENT_SEASON:\n",
    "                months = cursor.execute(f\"SELECT DISTINCT Month FROM Player_Hitter_GameLog WHERE mlbId='{mlbId}' AND Year='{year}' ORDER BY Month DESC\").fetchall()\n",
    "                if len(months) == 0:\n",
    "                    startMonth = 0\n",
    "                else:\n",
    "                    startMonth = months[0][0]\n",
    "                GenerateHitterYearGameLogs(db, mlbId, year, startMonth, STOP_MONTH)\n",
    "            else:\n",
    "                if cursor.execute(f\"SELECT COUNT(*) FROM Player_Hitter_GameLog WHERE mlbId='{mlbId}' AND Year='{year}'\").fetchone()[0] == 0:\n",
    "                    GenerateHitterYearGameLogs(db, mlbId, year)\n",
    "        except Exception as e:\n",
    "            print(f\"Error for id={mlbId} year={year}: {e}\")\n",
    "        finally:\n",
    "            threadCompleteCounts[threadIdx] += 1\n",
    "    \n",
    "        "
   ]
  },
  {
   "cell_type": "code",
   "execution_count": 12,
   "metadata": {},
   "outputs": [
    {
     "name": "stderr",
     "output_type": "stream",
     "text": [
      "100%|█████████▉| 99590/99595 [1:46:15<00:00, 15.62it/s]"
     ]
    },
    {
     "name": "stderr",
     "output_type": "stream",
     "text": [
      "100%|██████████| 99595/99595 [1:46:20<00:00, 15.61it/s]"
     ]
    }
   ],
   "source": [
    "db = sqlite3.connect(\"BaseballStats.db\")\n",
    "db.rollback()\n",
    "\n",
    "playerYears = list(playerYearDict.keys())\n",
    "\n",
    "threads = []\n",
    "threadCompleteCounts = [0] * NUM_THREADS\n",
    "for i in range(NUM_THREADS):\n",
    "    thread = threading.Thread(target=HitterGameLogThreadFunction, args=[playerYears[len(playerYears) * i // NUM_THREADS : len(playerYears) * (i + 1) // NUM_THREADS], i])\n",
    "    threads.append(thread)\n",
    "    thread.start()\n",
    "    \n",
    "progressBar = tqdm(total=len(playerYears))\n",
    "\n",
    "# Start progress bar\n",
    "keepTimerRunning = True\n",
    "def UpdateTimer():\n",
    "    if keepTimerRunning:\n",
    "        threading.Timer(5.0, UpdateTimer).start()\n",
    "    \n",
    "    count = 0\n",
    "    global threadCompleteCounts\n",
    "    for i in range(NUM_THREADS):\n",
    "        count += threadCompleteCounts[i]\n",
    "    \n",
    "    global progressBar\n",
    "    progressBar.n = count\n",
    "    progressBar.last_print_n = progressBar.n\n",
    "    progressBar.refresh()\n",
    "    \n",
    "UpdateTimer()\n",
    "\n",
    "for thread in threads:\n",
    "    thread.join()\n",
    "    \n",
    "keepTimerRunning = False"
   ]
  }
 ],
 "metadata": {
  "kernelspec": {
   "display_name": "Python 3",
   "language": "python",
   "name": "python3"
  },
  "language_info": {
   "codemirror_mode": {
    "name": "ipython",
    "version": 3
   },
   "file_extension": ".py",
   "mimetype": "text/x-python",
   "name": "python",
   "nbconvert_exporter": "python",
   "pygments_lexer": "ipython3",
   "version": "3.11.9"
  }
 },
 "nbformat": 4,
 "nbformat_minor": 2
}
