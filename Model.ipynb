{
 "cells": [
  {
   "cell_type": "code",
   "execution_count": 1,
   "metadata": {},
   "outputs": [],
   "source": [
    "import torch\n",
    "import torch.nn as nn\n",
    "import torch.nn.functional as F\n",
    "import sqlite3\n",
    "import numpy as np\n",
    "import matplotlib.pyplot as plt\n",
    "from tqdm import tqdm\n",
    "from sklearn.model_selection import train_test_split"
   ]
  },
  {
   "cell_type": "markdown",
   "metadata": {},
   "source": [
    "Prepare data"
   ]
  },
  {
   "cell_type": "code",
   "execution_count": 2,
   "metadata": {},
   "outputs": [],
   "source": [
    "db = sqlite3.connect(\"BaseballStats.db\")"
   ]
  },
  {
   "cell_type": "code",
   "execution_count": 3,
   "metadata": {},
   "outputs": [],
   "source": [
    "HITTER_STATS_COLS = 24 # All columns but mlbId/year\n",
    "PITCHER_STATS_COLS = 13\n",
    "PLAYER_COLS = 2 # Age at signing, draft pick\n",
    "# HITTER_COLS = HITTER_STATS_COLS + PLAYER_COLS\n",
    "# PITCHER_COLS = PITCHER_STATS_COLS + PLAYER_COLS\n",
    "\n",
    "HITTER_OUTPUT_COLS = 6\n",
    "HITTER_OUTPUT_COLS = 1"
   ]
  },
  {
   "cell_type": "code",
   "execution_count": 4,
   "metadata": {},
   "outputs": [],
   "source": [
    "D_TYPE = torch.float32"
   ]
  },
  {
   "cell_type": "code",
   "execution_count": 5,
   "metadata": {},
   "outputs": [],
   "source": [
    "levelMap = {1:0,11:1,12:2,13:3,14:4,15:5,16:6,17:7}"
   ]
  },
  {
   "cell_type": "code",
   "execution_count": 6,
   "metadata": {},
   "outputs": [],
   "source": [
    "cursor = db.cursor()\n",
    "hitters = cursor.execute('''\n",
    "                         SELECT mp.mlbId, mp.ageAtSigningYear, p.draftPick\n",
    "                         FROM Model_Players AS mp\n",
    "                         INNER JOIN Player as p ON mp.mlbId = p.mlbId\n",
    "                         WHERE mp.isHitter='1'\n",
    "                         ''').fetchall()\n",
    "\n",
    "pitchers = cursor.execute('''\n",
    "                         SELECT mp.mlbId, mp.ageAtSigningYear, p.draftPick\n",
    "                         FROM Model_Players AS mp\n",
    "                         INNER JOIN Player as p ON mp.mlbId = p.mlbId\n",
    "                         WHERE mp.isPitcher='1'\n",
    "                         ''').fetchall()"
   ]
  },
  {
   "cell_type": "code",
   "execution_count": 7,
   "metadata": {},
   "outputs": [
    {
     "name": "stderr",
     "output_type": "stream",
     "text": [
      "Hitters: 100%|██████████| 9502/9502 [00:02<00:00, 4435.28it/s]\n"
     ]
    }
   ],
   "source": [
    "hitterInput = []\n",
    "pitcherInput = []\n",
    "hitterOutput = []\n",
    "pitcherOutput = []\n",
    "\n",
    "for id, signingAge, draftPick in tqdm(hitters, desc=\"Hitters\"):\n",
    "    stats = cursor.execute(\"SELECT * FROM Model_HitterStats WHERE mlbId=? ORDER BY YEAR ASC, Month ASC\", (id,)).fetchall()\n",
    "    thisInputs = torch.zeros(len(stats) + 1, HITTER_STATS_COLS)\n",
    "    initVal = torch.zeros(HITTER_STATS_COLS, dtype=D_TYPE)\n",
    "    initVal[0] = signingAge\n",
    "    if draftPick is not None:\n",
    "        initVal[1] = draftPick\n",
    "    else:\n",
    "        draftPick = -100\n",
    "    \n",
    "    thisInputs[0] = initVal\n",
    "    for i, monthStat in enumerate(stats):\n",
    "        thisInputs[i + 1] = torch.tensor(list(monthStat[PLAYER_COLS:]), dtype=D_TYPE)\n",
    "    \n",
    "    # outcomes = cursor.execute('''\n",
    "    #                           SELECT pcs.highestLevel, mpw.pa, mpw.war, mpw.off, mpw.def, mpw.bsr\n",
    "    #                           FROM Player_CareerStatus AS pcs\n",
    "    #                           LEFT JOIN Model_PlayerWar as mpw ON pcs.mlbId = mpw.mlbId\n",
    "    #                           WHERE pcs.mlbId=?\n",
    "    #                           AND mpw.isHitter='1'\n",
    "    #                           AND pcs.position='hitting'\n",
    "    #                           AND pcs.isPrimaryPosition='1'\n",
    "    #                           ''', (id,)).fetchall()\n",
    "    \n",
    "    # thisOutputs = torch.zeros(len(outcomes), HITTER_OUTPUT_COLS)\n",
    "    # for i, (highestLevel, pa, war, off, df, bsr) in enumerate(outcomes):\n",
    "    #     if pa is not None:\n",
    "    #         thisOutputs[i] = torch.tensor([levelMap[highestLevel], pa, war, off, df, bsr], dtype=D_TYPE)\n",
    "    #     else:\n",
    "    #         thisOutputs[i] = torch.tensor([levelMap[highestLevel], 0, 0, 0, 0, 0], dtype=D_TYPE)\n",
    "    highestLevel, pa, war, off, df, bsr = cursor.execute('''\n",
    "                              SELECT pcs.highestLevel, SUM(mpw.pa), SUM(mpw.war), SUM(mpw.off), SUM(mpw.def), SUM(mpw.bsr)\n",
    "                              FROM Player_CareerStatus AS pcs\n",
    "                              LEFT JOIN Model_PlayerWar as mpw ON pcs.mlbId = mpw.mlbId\n",
    "                              WHERE pcs.mlbId=?\n",
    "                              AND (mpw.isHitter='1' or mpw.isHitter IS NULL)\n",
    "                              AND pcs.position='hitting'\n",
    "                              AND pcs.isPrimaryPosition='1'\n",
    "                              ''', (id,)).fetchone()\n",
    "            \n",
    "    hitterInput.append(thisInputs)\n",
    "    \n",
    "    thisOutputs = torch.zeros(thisInputs.size(0), HITTER_OUTPUT_COLS)\n",
    "    # out = torch.tensor([levelMap[highestLevel]], dtype=D_TYPE)\n",
    "    if pa is None:\n",
    "        # out = (torch.tensor([levelMap[highestLevel], 0, 0, 0, 0, 0], dtype=D_TYPE))\n",
    "        out = torch.tensor([0], dtype=D_TYPE)\n",
    "    else:\n",
    "        out = (torch.tensor([war], dtype=D_TYPE))\n",
    "        \n",
    "    for i in range(thisOutputs.size(0)):\n",
    "        thisOutputs[i] = out\n",
    "    hitterOutput.append(thisOutputs)"
   ]
  },
  {
   "cell_type": "code",
   "execution_count": 8,
   "metadata": {},
   "outputs": [],
   "source": [
    "x_train, x_test, y_train, y_test = train_test_split(hitterInput, hitterOutput, test_size=0.25, random_state=4980)\n",
    "\n",
    "train_lengths = torch.tensor([len(seq) for seq in x_train])\n",
    "test_lengths = torch.tensor([len(seq) for seq in x_test])\n",
    "\n",
    "x_train_padded = torch.nn.utils.rnn.pad_sequence(x_train)\n",
    "x_test_padded = torch.nn.utils.rnn.pad_sequence(x_test)\n",
    "y_train_padded = torch.nn.utils.rnn.pad_sequence(y_train)\n",
    "y_test_padded = torch.nn.utils.rnn.pad_sequence(y_test)"
   ]
  },
  {
   "cell_type": "code",
   "execution_count": 9,
   "metadata": {},
   "outputs": [
    {
     "data": {
      "text/plain": [
       "torch.Size([79, 7126, 24])"
      ]
     },
     "execution_count": 9,
     "metadata": {},
     "output_type": "execute_result"
    }
   ],
   "source": [
    "x_train_padded.shape"
   ]
  },
  {
   "cell_type": "code",
   "execution_count": 10,
   "metadata": {},
   "outputs": [
    {
     "data": {
      "text/plain": [
       "torch.Size([79, 7126, 1])"
      ]
     },
     "execution_count": 10,
     "metadata": {},
     "output_type": "execute_result"
    }
   ],
   "source": [
    "y_train_padded.shape"
   ]
  },
  {
   "cell_type": "code",
   "execution_count": 11,
   "metadata": {},
   "outputs": [
    {
     "data": {
      "text/plain": [
       "tensor([45, 36, 23,  ..., 42, 14, 17])"
      ]
     },
     "execution_count": 11,
     "metadata": {},
     "output_type": "execute_result"
    }
   ],
   "source": [
    "train_lengths"
   ]
  },
  {
   "cell_type": "markdown",
   "metadata": {},
   "source": [
    "Training Setup Code"
   ]
  },
  {
   "cell_type": "code",
   "execution_count": 12,
   "metadata": {},
   "outputs": [
    {
     "name": "stdout",
     "output_type": "stream",
     "text": [
      "Using GPU?: True\n",
      "GPU Name: NVIDIA GeForce RTX 3080\n"
     ]
    }
   ],
   "source": [
    "use_cuda = torch.cuda.is_available()\n",
    "print(\"Using GPU?:\",use_cuda)\n",
    "if (use_cuda):\n",
    "  print(\"GPU Name:\",torch.cuda.get_device_name())\n",
    "  device = torch.device(\"cuda\")\n",
    "else:\n",
    "  device = torch.device(\"cpu\")"
   ]
  },
  {
   "cell_type": "code",
   "execution_count": 13,
   "metadata": {},
   "outputs": [],
   "source": [
    "def count_parameters(model):\n",
    "    return sum(p.numel() for p in model.parameters() if p.requires_grad)\n",
    "\n",
    "def logResults(epoch, num_epochs, train_loss, train_loss_history, test_loss, test_loss_history, epoch_counter, print_interval=1000):\n",
    "  if (epoch%print_interval == 0):  print('Epoch [%d/%d], Train Loss: %.4f, Test Loss: %.4f' %(epoch+1, num_epochs, train_loss, test_loss))\n",
    "  train_loss_history.append(train_loss)\n",
    "  test_loss_history.append(test_loss)\n",
    "  epoch_counter.append(epoch)\n",
    "\n",
    "def graphLoss(epoch_counter, train_loss_hist, test_loss_hist, loss_name=\"Loss\", start = 0):\n",
    "  fig = plt.figure()\n",
    "  plt.plot(epoch_counter[start:], train_loss_hist[start:], color='blue')\n",
    "  plt.plot(epoch_counter[start:], test_loss_hist[start:], color='red')\n",
    "  plt.legend(['Train Loss', 'Test Loss'], loc='upper right')\n",
    "  plt.xlabel('#Epochs')\n",
    "  plt.ylabel(loss_name)\n",
    "\n",
    "def trainAndGraph(network, training_generator, testing_generator, loss_function, optimizer, num_epochs, learning_rate, logging_interval=1):\n",
    "  #Arrays to store training history\n",
    "  test_loss_history = []\n",
    "  epoch_counter = []\n",
    "  train_loss_history = []\n",
    "  last_loss = 999999\n",
    "  best_loss = 999999\n",
    "  for epoch in range(num_epochs):\n",
    "    avg_loss = train(network, training_generator, loss_function, optimizer)\n",
    "    test_loss = test(network, testing_generator, loss_function)\n",
    "    logResults(epoch, num_epochs, avg_loss, train_loss_history, test_loss, test_loss_history, epoch_counter, logging_interval)\n",
    "    # if (test_loss > last_loss):\n",
    "    #   break\n",
    "    if (test_loss < best_loss):\n",
    "      best_loss = test_loss\n",
    "      torch.save(network.state_dict(), 'best_model.pt')\n",
    "    last_loss = test_loss\n",
    "    old_params = network.parameters()\n",
    "\n",
    "  graphLoss(epoch_counter, train_loss_history, test_loss_history)"
   ]
  },
  {
   "cell_type": "code",
   "execution_count": 14,
   "metadata": {},
   "outputs": [],
   "source": [
    "def train(network,  data_generator, loss_function, optimizer, logging = 200):\n",
    "  network.train() #updates any network layers that behave differently in training and execution\n",
    "  avg_loss = 0\n",
    "  num_batches = 0\n",
    "  for batch, (input_data, input_length, target_output) in enumerate(data_generator):\n",
    "    input_data, target_output = input_data.to(device), target_output.to(device) #Move tensor to GPU\n",
    "    input_length = input_length.to(device)\n",
    "    optimizer.zero_grad()                            # Gradients need to be reset each batch\n",
    "    prediction = network(input_data, input_length)                 # Forward pass: compute the output class given a image\n",
    "    loss = loss_function(prediction, target_output, input_length)  # Compute the loss: difference between the output and correct result\n",
    "    loss.backward()                                  # Backward pass: compute the gradients of the model with respect to the loss\n",
    "    optimizer.step()\n",
    "    avg_loss += loss.item()\n",
    "    num_batches += 1\n",
    "    if ((batch+1)%logging == 0): print('Batch [%d/%d], Train Loss: %.4f' %(batch+1, len(data_generator.dataset)/len(target_output), avg_loss/num_batches))\n",
    "  return avg_loss/num_batches\n",
    "\n",
    "def test(network, test_loader, loss_function):\n",
    "  network.eval() #updates any network layers that behave differently in training and execution\n",
    "  test_loss = 0\n",
    "  num_batches = 0\n",
    "  with torch.no_grad():\n",
    "    for data, length, target in test_loader:\n",
    "      data, length, target = data.to(device), length.to(device), target.to(device)\n",
    "      output = network(data, length)\n",
    "      test_loss += loss_function(output, target, length).item()\n",
    "      num_batches += 1\n",
    "  test_loss /= num_batches\n",
    "  #print('\\nTest set: Avg. loss: {:.4f})\\n'.format(test_loss))\n",
    "  return test_loss"
   ]
  },
  {
   "cell_type": "markdown",
   "metadata": {},
   "source": [
    "Model"
   ]
  },
  {
   "cell_type": "code",
   "execution_count": 15,
   "metadata": {},
   "outputs": [],
   "source": [
    "class LSTM_Model(nn.Module):\n",
    "    def __init__(self):\n",
    "        super().__init__()\n",
    "        HIDDEN_SIZE = 400\n",
    "        \n",
    "        self.lstm = nn.LSTM(input_size=HITTER_STATS_COLS, hidden_size=HIDDEN_SIZE, num_layers=5, batch_first=False)\n",
    "        self.linear = nn.Linear(HIDDEN_SIZE, HITTER_OUTPUT_COLS)\n",
    "        \n",
    "    def forward(self, x, lengths):\n",
    "        lengths = lengths.to(torch.device(\"cpu\")).long()\n",
    "        packedInput = nn.utils.rnn.pack_padded_sequence(x, lengths, batch_first=True, enforce_sorted=False)\n",
    "        packedOutput, (h_n, c_n) = self.lstm(packedInput)\n",
    "        output, _ = nn.utils.rnn.pad_packed_sequence(packedOutput, batch_first=True)\n",
    "            \n",
    "        output = self.linear(output)\n",
    "        return output"
   ]
  },
  {
   "cell_type": "markdown",
   "metadata": {},
   "source": [
    "Dataset"
   ]
  },
  {
   "cell_type": "code",
   "execution_count": 16,
   "metadata": {},
   "outputs": [],
   "source": [
    "class CustomDataset(torch.utils.data.Dataset):\n",
    "    def __init__(self, data, lengths, labels):\n",
    "        self.data = data\n",
    "        self.lengths = lengths\n",
    "        self.labels = labels\n",
    "        \n",
    "    def __len__(self):\n",
    "        return self.data.size(dim=1)\n",
    "    \n",
    "    def __getitem__(self, idx):\n",
    "        return self.data[:,idx], self.lengths[idx], self.labels[:,idx]"
   ]
  },
  {
   "cell_type": "code",
   "execution_count": 17,
   "metadata": {},
   "outputs": [],
   "source": [
    "trainHittersDataset = CustomDataset(x_train_padded, train_lengths, y_train_padded)\n",
    "testHittersDataset = CustomDataset(x_test_padded, test_lengths, y_test_padded)"
   ]
  },
  {
   "cell_type": "markdown",
   "metadata": {},
   "source": [
    "Training"
   ]
  },
  {
   "cell_type": "code",
   "execution_count": 18,
   "metadata": {},
   "outputs": [],
   "source": [
    "def LSTM_MSELoss(pred, actual, lengths):\n",
    "    actual = actual[:,:pred.size(1),:]\n",
    "    loss = F.mse_loss(pred, actual, reduction='none')\n",
    "    #loss = F.l1_loss(pred, actual, reduction='none')\n",
    "    \n",
    "    # Create a mask based on lengths\n",
    "    batch_size, max_steps, _ = loss.size()\n",
    "    mask = torch.arange(max_steps, device=lengths.device).unsqueeze(0) < lengths.unsqueeze(1)\n",
    "    mask = mask.unsqueeze(-1).expand_as(loss)\n",
    "    maskedLoss = loss * mask\n",
    "    lossSums = maskedLoss.sum(dim=1)\n",
    "    lengths = lengths.float()\n",
    "    lossMeans = lossSums / lengths.unsqueeze(1)\n",
    "    \n",
    "    return lossMeans.mean()\n",
    "\n",
    "    maskedLoss = loss * lengths.unsqueeze(0)\n",
    "    loss = maskedLoss.sum() / lengths.sum()"
   ]
  },
  {
   "cell_type": "code",
   "execution_count": 19,
   "metadata": {},
   "outputs": [
    {
     "name": "stdout",
     "output_type": "stream",
     "text": [
      "Num. Parameters: 5814801\n",
      "Epoch [1/101], Train Loss: 5.4409, Test Loss: 3.8427\n",
      "Epoch [11/101], Train Loss: 4.2588, Test Loss: 3.7134\n",
      "Epoch [21/101], Train Loss: 3.8226, Test Loss: 2.9933\n",
      "Epoch [31/101], Train Loss: 2.6444, Test Loss: 2.8309\n",
      "Epoch [41/101], Train Loss: 2.1419, Test Loss: 2.8678\n",
      "Epoch [51/101], Train Loss: 1.8735, Test Loss: 2.8182\n",
      "Epoch [61/101], Train Loss: 1.5399, Test Loss: 2.9659\n",
      "Epoch [71/101], Train Loss: 1.2083, Test Loss: 2.7186\n",
      "Epoch [81/101], Train Loss: 1.1713, Test Loss: 2.6413\n",
      "Epoch [91/101], Train Loss: 0.9798, Test Loss: 3.0301\n",
      "Epoch [101/101], Train Loss: 0.8270, Test Loss: 3.1828\n"
     ]
    },
    {
     "data": {
      "image/png": "[encoded data removed]",
      "text/plain": [
       "<Figure size 640x480 with 1 Axes>"
      ]
     },
     "metadata": {},
     "output_type": "display_data"
    }
   ],
   "source": [
    "network = LSTM_Model()\n",
    "network = network.to(device)\n",
    "print(\"Num. Parameters:\", count_parameters(network))\n",
    "\n",
    "optimizer = torch.optim.Adam(network.parameters(), lr=0.001)\n",
    "loss_function = LSTM_MSELoss\n",
    "\n",
    "batch_size = 800\n",
    "num_epochs = 101\n",
    "training_generator = torch.utils.data.DataLoader(trainHittersDataset, batch_size=batch_size, shuffle=True)\n",
    "testing_generator = torch.utils.data.DataLoader(testHittersDataset, batch_size=batch_size, shuffle=False)\n",
    "\n",
    "trainAndGraph(network, training_generator, testing_generator, loss_function, optimizer, num_epochs, 0.001, 10)"
   ]
  },
  {
   "cell_type": "markdown",
   "metadata": {},
   "source": [
    "Sanity check\n",
    "\n",
    "Make sure the model likes good players and doesn't like bad players"
   ]
  },
  {
   "cell_type": "code",
   "execution_count": 20,
   "metadata": {},
   "outputs": [],
   "source": [
    "paddedHitterInput = torch.nn.utils.rnn.pad_sequence(hitterInput)\n",
    "hitterLengths = torch.tensor([len(seq) for seq in hitterInput])\n",
    "\n",
    "def GetPlayer(name, id):\n",
    "    with torch.no_grad():\n",
    "        for i, hitter in enumerate(hitters):\n",
    "            if hitter[0] == id:\n",
    "                idx = i\n",
    "                break\n",
    "            \n",
    "        input = paddedHitterInput[:,idx,:].unsqueeze(0)\n",
    "\n",
    "        output = network(input.to(device), hitterLengths[idx].unsqueeze(0).to(device))\n",
    "\n",
    "        print(name)\n",
    "        torch.set_printoptions(precision=2, sci_mode=False)\n",
    "        print(output.squeeze(0).squeeze(1).data)\n",
    "        print(hitterOutput[idx][0])"
   ]
  },
  {
   "cell_type": "code",
   "execution_count": 21,
   "metadata": {},
   "outputs": [
    {
     "name": "stdout",
     "output_type": "stream",
     "text": [
      "Michael Harrington\n",
      "tensor([ 0.23,  0.29,  0.22,  0.22,  0.09,  0.03,  0.01,  0.02, -0.01, -0.03,\n",
      "        -0.04, -0.01, -0.03, -0.03, -0.01, -0.03], device='cuda:0')\n",
      "tensor([0.])\n",
      "Mike Trout\n",
      "tensor([ 3.62, 27.40, 35.42, 37.43, 37.92, 38.08, 38.14, 38.16, 38.18, 38.18,\n",
      "        38.19, 38.19, 38.19, 38.19, 38.19, 38.19, 38.18], device='cuda:0')\n",
      "tensor([47.20])\n",
      "Levi Michael\n",
      "tensor([     3.43,      1.99,      0.48,      0.30,      0.24,      0.19,\n",
      "             0.26,      0.05,     -0.02,     -0.00,      0.01,      0.01,\n",
      "             0.17,      0.07,     -0.01,     -0.03,     -0.03,     -0.03,\n",
      "            -0.00,     -0.04,     -0.01,     -0.00,     -0.01,      0.03,\n",
      "             0.01,     -0.01,     -0.03,     -0.03,     -0.04,     -0.04,\n",
      "            -0.02,     -0.02,     -0.02,     -0.01,     -0.02,     -0.03,\n",
      "             0.00,      0.00,      0.01,      0.00,     -0.03],\n",
      "       device='cuda:0')\n",
      "tensor([0.])\n",
      "Bryce Harper\n",
      "tensor([19.25, 24.61, 24.53, 25.47, 25.19, 26.05, 26.08, 25.09, 24.57, 24.14],\n",
      "       device='cuda:0')\n",
      "tensor([25.50])\n",
      "Mike Moustakas\n",
      "tensor([13.78, 14.28,  8.13,  7.75,  8.57,  8.68,  8.56,  9.01,  8.04,  8.75,\n",
      "         8.32,  8.03,  7.88,  7.78,  7.54,  8.36,  8.80,  8.71,  8.79,  8.94,\n",
      "         9.01,  9.19,  9.25,  9.30,  9.31], device='cuda:0')\n",
      "tensor([8.70])\n",
      "Max Kepler\n",
      "tensor([     0.08,      0.01,     -0.03,     -0.05,     -0.06,      0.00,\n",
      "             0.11,      0.13,      0.06,      0.03,      0.07,      0.13,\n",
      "             0.10,      0.21,      0.06,      0.01,     -0.05,      0.08,\n",
      "             0.04,     -0.04,     -0.06,     -0.03,     -0.01,     -0.01,\n",
      "            -0.00,      0.02,      0.01,      0.01,     -0.03,     -0.05,\n",
      "            -0.04,     -0.01,      0.02], device='cuda:0')\n",
      "tensor([13.30])\n"
     ]
    }
   ],
   "source": [
    "GetPlayer(\"Michael Harrington\", 518769)\n",
    "GetPlayer(\"Mike Trout\", 545361)\n",
    "GetPlayer(\"Levi Michael\", 605381)\n",
    "GetPlayer(\"Bryce Harper\", 547180)\n",
    "GetPlayer(\"Mike Moustakas\", 519058)\n",
    "GetPlayer(\"Max Kepler\", 596146)"
   ]
  }
 ],
 "metadata": {
  "kernelspec": {
   "display_name": "Python 3",
   "language": "python",
   "name": "python3"
  },
  "language_info": {
   "codemirror_mode": {
    "name": "ipython",
    "version": 3
   },
   "file_extension": ".py",
   "mimetype": "text/x-python",
   "name": "python",
   "nbconvert_exporter": "python",
   "pygments_lexer": "ipython3",
   "version": "3.11.9"
  }
 },
 "nbformat": 4,
 "nbformat_minor": 2
}
