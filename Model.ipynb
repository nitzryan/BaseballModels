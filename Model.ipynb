{
 "cells": [
  {
   "cell_type": "code",
   "execution_count": 10,
   "metadata": {},
   "outputs": [],
   "source": [
    "import torch\n",
    "import torch.nn as nn\n",
    "import torch.nn.functional as F\n",
    "import sqlite3\n",
    "import numpy as np\n",
    "import matplotlib.pyplot as plt\n",
    "from tqdm import tqdm\n",
    "import pandas as pd\n",
    "from sklearn.model_selection import train_test_split\n",
    "from torch.optim import lr_scheduler"
   ]
  },
  {
   "cell_type": "markdown",
   "metadata": {},
   "source": [
    "Prepare data"
   ]
  },
  {
   "cell_type": "code",
   "execution_count": 11,
   "metadata": {},
   "outputs": [],
   "source": [
    "db = sqlite3.connect(\"BaseballStats.db\")"
   ]
  },
  {
   "cell_type": "code",
   "execution_count": 12,
   "metadata": {},
   "outputs": [],
   "source": [
    "HITTER_STATS_COLS = 24 # All columns but mlbId/year\n",
    "PITCHER_STATS_COLS = 13\n",
    "PLAYER_COLS = 2 # Age at signing, draft pick\n",
    "HITTER_COLS = HITTER_STATS_COLS + PLAYER_COLS\n",
    "PITCHER_COLS = PITCHER_STATS_COLS + PLAYER_COLS\n",
    "\n",
    "HITTER_OUTPUT_COLS = 6\n",
    "HITTER_OUTPUT_COLS = 1"
   ]
  },
  {
   "cell_type": "code",
   "execution_count": 13,
   "metadata": {},
   "outputs": [],
   "source": [
    "D_TYPE = torch.float32"
   ]
  },
  {
   "cell_type": "code",
   "execution_count": 14,
   "metadata": {},
   "outputs": [],
   "source": [
    "levelMap = {1:0,11:1,12:2,13:3,14:4,15:5,16:6,17:7}"
   ]
  },
  {
   "cell_type": "code",
   "execution_count": 15,
   "metadata": {},
   "outputs": [],
   "source": [
    "cursor = db.cursor()\n",
    "hitters = cursor.execute('''\n",
    "                         SELECT mp.mlbId, mp.ageAtSigningYear, p.draftPick\n",
    "                         FROM Model_Players AS mp\n",
    "                         INNER JOIN Player as p ON mp.mlbId = p.mlbId\n",
    "                         WHERE mp.isHitter='1'\n",
    "                         ''').fetchall()\n",
    "\n",
    "pitchers = cursor.execute('''\n",
    "                         SELECT mp.mlbId, mp.ageAtSigningYear, p.draftPick\n",
    "                         FROM Model_Players AS mp\n",
    "                         INNER JOIN Player as p ON mp.mlbId = p.mlbId\n",
    "                         WHERE mp.isPitcher='1'\n",
    "                         ''').fetchall()"
   ]
  },
  {
   "cell_type": "markdown",
   "metadata": {},
   "source": [
    "Get the mean/std dev of columns to do input normalization"
   ]
  },
  {
   "cell_type": "code",
   "execution_count": 16,
   "metadata": {},
   "outputs": [],
   "source": [
    "hitterDf = pd.read_sql_query('''\n",
    "                             SELECT Month, Age, PA, Level, \n",
    "                             ParkRunFactor, ParkHRFactor, avgRatio, obpRatio,\n",
    "                             isoRatio, wOBARatio, sbRateRatio, sbPercRatio,\n",
    "                             hrPercRatio, bbPercRatio, kPercRatio,\n",
    "                             PercC, Perc1B, Perc2B, Perc3B, PercSS, PercLF, PercCF, PercRF, PercDH\n",
    "                             FROM Model_HitterStats''', db)\n",
    "\n",
    "means = hitterDf.mean().tolist()\n",
    "stds = hitterDf.std().tolist()"
   ]
  },
  {
   "cell_type": "code",
   "execution_count": 17,
   "metadata": {},
   "outputs": [],
   "source": [
    "def GetNormalizedInput(idx, value):\n",
    "    value -= means[idx]\n",
    "    return value / stds[idx]"
   ]
  },
  {
   "cell_type": "markdown",
   "metadata": {},
   "source": [
    "Get the mean/std for starting age and draft pick"
   ]
  },
  {
   "cell_type": "code",
   "execution_count": 18,
   "metadata": {},
   "outputs": [
    {
     "name": "stderr",
     "output_type": "stream",
     "text": [
      "100%|██████████| 9502/9502 [00:00<00:00, 9502688.75it/s]\n"
     ]
    },
    {
     "ename": "RuntimeError",
     "evalue": "mean(): could not infer output dtype. Input dtype must be either a floating point or complex dtype. Got: Long",
     "output_type": "error",
     "traceback": [
      "\u001b[1;31m---------------------------------------------------------------------------\u001b[0m",
      "\u001b[1;31mRuntimeError\u001b[0m                              Traceback (most recent call last)",
      "Cell \u001b[1;32mIn[18], line 13\u001b[0m\n\u001b[0;32m     11\u001b[0m ageMean \u001b[38;5;241m=\u001b[39m torch\u001b[38;5;241m.\u001b[39mtensor(ages)\u001b[38;5;241m.\u001b[39mmean()\n\u001b[0;32m     12\u001b[0m ageStd \u001b[38;5;241m=\u001b[39m torch\u001b[38;5;241m.\u001b[39mtensor(ages)\u001b[38;5;241m.\u001b[39mstd()\n\u001b[1;32m---> 13\u001b[0m pickMean \u001b[38;5;241m=\u001b[39m \u001b[43mtorch\u001b[49m\u001b[38;5;241;43m.\u001b[39;49m\u001b[43mtensor\u001b[49m\u001b[43m(\u001b[49m\u001b[43mpicks\u001b[49m\u001b[43m)\u001b[49m\u001b[38;5;241;43m.\u001b[39;49m\u001b[43mmean\u001b[49m\u001b[43m(\u001b[49m\u001b[43m)\u001b[49m\n\u001b[0;32m     14\u001b[0m pickStd \u001b[38;5;241m=\u001b[39m torch\u001b[38;5;241m.\u001b[39mtensor(picks)\u001b[38;5;241m.\u001b[39mstd()\n",
      "\u001b[1;31mRuntimeError\u001b[0m: mean(): could not infer output dtype. Input dtype must be either a floating point or complex dtype. Got: Long"
     ]
    }
   ],
   "source": [
    "ages = []\n",
    "picks = []\n",
    "\n",
    "for _, signingAge, draftPick in tqdm(hitters):\n",
    "    ages.append(signingAge)\n",
    "    if draftPick == None:\n",
    "        picks.append(-100)\n",
    "    else:\n",
    "        picks.append(draftPick)\n",
    "    \n",
    "ageMean = torch.tensor(ages).float().mean()\n",
    "ageStd = torch.tensor(ages).float().std()\n",
    "pickMean = torch.tensor(picks).float().mean()\n",
    "pickStd = torch.tensor(picks).float().std()"
   ]
  },
  {
   "cell_type": "markdown",
   "metadata": {},
   "source": [
    "Load Data"
   ]
  },
  {
   "cell_type": "code",
   "execution_count": null,
   "metadata": {},
   "outputs": [
    {
     "name": "stderr",
     "output_type": "stream",
     "text": [
      "Hitters: 100%|██████████| 9502/9502 [00:03<00:00, 2848.18it/s]\n"
     ]
    }
   ],
   "source": [
    "hitterInput = []\n",
    "pitcherInput = []\n",
    "hitterOutput = []\n",
    "pitcherOutput = []\n",
    "\n",
    "for id, signingAge, draftPick in tqdm(hitters, desc=\"Hitters\"):\n",
    "    stats = cursor.execute('''\n",
    "                           SELECT Month, Age, PA, Level, \n",
    "                             ParkRunFactor, ParkHRFactor, avgRatio, obpRatio,\n",
    "                             isoRatio, wOBARatio, sbRateRatio, sbPercRatio,\n",
    "                             hrPercRatio, bbPercRatio, kPercRatio,\n",
    "                             PercC, Perc1B, Perc2B, Perc3B, PercSS, PercLF, PercCF, PercRF, PercDH \n",
    "                           FROM Model_HitterStats \n",
    "                           WHERE mlbId=? \n",
    "                           ORDER BY YEAR ASC, Month ASC''', (id,)).fetchall()\n",
    "    thisInputs = torch.zeros(len(stats) + 1, HITTER_COLS)\n",
    "    initVal = torch.zeros(HITTER_COLS, dtype=D_TYPE)\n",
    "    initVal[0] = (signingAge - ageMean) / ageStd\n",
    "    if draftPick is not None:\n",
    "        initVal[1] = draftPick\n",
    "    else:\n",
    "        draftPick = -100\n",
    "    initVal[1] = (initVal[1] - pickMean) / pickStd\n",
    "    \n",
    "    for n in range(2, HITTER_COLS):\n",
    "        initVal[n] = GetNormalizedInput(n-2, 0)\n",
    "    \n",
    "    thisInputs[0] = initVal\n",
    "    for i, monthStat in enumerate(stats):\n",
    "        thisVal = []\n",
    "        for j, val in enumerate(monthStat):\n",
    "            thisVal.append(GetNormalizedInput(j, val))\n",
    "        thisInputs[i + 1] = torch.tensor([(0 - ageMean) / ageStd, (-10 - pickMean) / pickStd] + thisVal, dtype=D_TYPE)\n",
    "    \n",
    "    # outcomes = cursor.execute('''\n",
    "    #                           SELECT pcs.highestLevel, mpw.pa, mpw.war, mpw.off, mpw.def, mpw.bsr\n",
    "    #                           FROM Player_CareerStatus AS pcs\n",
    "    #                           LEFT JOIN Model_PlayerWar as mpw ON pcs.mlbId = mpw.mlbId\n",
    "    #                           WHERE pcs.mlbId=?\n",
    "    #                           AND mpw.isHitter='1'\n",
    "    #                           AND pcs.position='hitting'\n",
    "    #                           AND pcs.isPrimaryPosition='1'\n",
    "    #                           ''', (id,)).fetchall()\n",
    "    \n",
    "    # thisOutputs = torch.zeros(len(outcomes), HITTER_OUTPUT_COLS)\n",
    "    # for i, (highestLevel, pa, war, off, df, bsr) in enumerate(outcomes):\n",
    "    #     if pa is not None:\n",
    "    #         thisOutputs[i] = torch.tensor([levelMap[highestLevel], pa, war, off, df, bsr], dtype=D_TYPE)\n",
    "    #     else:\n",
    "    #         thisOutputs[i] = torch.tensor([levelMap[highestLevel], 0, 0, 0, 0, 0], dtype=D_TYPE)\n",
    "    highestLevel, pa, war, off, df, bsr = cursor.execute('''\n",
    "                              SELECT pcs.highestLevel, SUM(mpw.pa), SUM(mpw.war), SUM(mpw.off), SUM(mpw.def), SUM(mpw.bsr)\n",
    "                              FROM Player_CareerStatus AS pcs\n",
    "                              LEFT JOIN Model_PlayerWar as mpw ON pcs.mlbId = mpw.mlbId\n",
    "                              WHERE pcs.mlbId=?\n",
    "                              AND (mpw.isHitter='1' or mpw.isHitter IS NULL)\n",
    "                              AND pcs.position='hitting'\n",
    "                              AND pcs.isPrimaryPosition='1'\n",
    "                              ''', (id,)).fetchone()\n",
    "            \n",
    "    hitterInput.append(thisInputs)\n",
    "    \n",
    "    thisOutputs = torch.zeros(thisInputs.size(0), HITTER_OUTPUT_COLS)\n",
    "    # out = torch.tensor([levelMap[highestLevel]], dtype=D_TYPE)\n",
    "    if pa is None:\n",
    "        # out = (torch.tensor([levelMap[highestLevel], 0, 0, 0, 0, 0], dtype=D_TYPE))\n",
    "        out = torch.tensor([0], dtype=D_TYPE)\n",
    "    else:\n",
    "        out = (torch.tensor([war], dtype=D_TYPE))\n",
    "        \n",
    "    for i in range(thisOutputs.size(0)):\n",
    "        thisOutputs[i] = out\n",
    "    hitterOutput.append(thisOutputs)"
   ]
  },
  {
   "cell_type": "code",
   "execution_count": null,
   "metadata": {},
   "outputs": [],
   "source": [
    "x_train, x_test, y_train, y_test = train_test_split(hitterInput, hitterOutput, test_size=0.25, random_state=4980)\n",
    "\n",
    "train_lengths = torch.tensor([len(seq) for seq in x_train])\n",
    "test_lengths = torch.tensor([len(seq) for seq in x_test])\n",
    "\n",
    "x_train_padded = torch.nn.utils.rnn.pad_sequence(x_train)\n",
    "x_test_padded = torch.nn.utils.rnn.pad_sequence(x_test)\n",
    "y_train_padded = torch.nn.utils.rnn.pad_sequence(y_train)\n",
    "y_test_padded = torch.nn.utils.rnn.pad_sequence(y_test)"
   ]
  },
  {
   "cell_type": "code",
   "execution_count": null,
   "metadata": {},
   "outputs": [
    {
     "data": {
      "text/plain": [
       "torch.Size([79, 7126, 26])"
      ]
     },
     "execution_count": 61,
     "metadata": {},
     "output_type": "execute_result"
    }
   ],
   "source": [
    "x_train_padded.shape"
   ]
  },
  {
   "cell_type": "code",
   "execution_count": null,
   "metadata": {},
   "outputs": [
    {
     "data": {
      "text/plain": [
       "torch.Size([79, 7126, 1])"
      ]
     },
     "execution_count": 62,
     "metadata": {},
     "output_type": "execute_result"
    }
   ],
   "source": [
    "y_train_padded.shape"
   ]
  },
  {
   "cell_type": "code",
   "execution_count": null,
   "metadata": {},
   "outputs": [
    {
     "data": {
      "text/plain": [
       "tensor([45, 36, 23,  ..., 42, 14, 17])"
      ]
     },
     "execution_count": 63,
     "metadata": {},
     "output_type": "execute_result"
    }
   ],
   "source": [
    "train_lengths"
   ]
  },
  {
   "cell_type": "markdown",
   "metadata": {},
   "source": [
    "Training Setup Code"
   ]
  },
  {
   "cell_type": "code",
   "execution_count": null,
   "metadata": {},
   "outputs": [
    {
     "name": "stdout",
     "output_type": "stream",
     "text": [
      "Using GPU?: True\n",
      "GPU Name: NVIDIA GeForce RTX 3080\n"
     ]
    }
   ],
   "source": [
    "use_cuda = torch.cuda.is_available()\n",
    "print(\"Using GPU?:\",use_cuda)\n",
    "if (use_cuda):\n",
    "  print(\"GPU Name:\",torch.cuda.get_device_name())\n",
    "  device = torch.device(\"cuda\")\n",
    "else:\n",
    "  device = torch.device(\"cpu\")"
   ]
  },
  {
   "cell_type": "code",
   "execution_count": null,
   "metadata": {},
   "outputs": [],
   "source": [
    "def count_parameters(model):\n",
    "    return sum(p.numel() for p in model.parameters() if p.requires_grad)\n",
    "\n",
    "def logResults(epoch, num_epochs, train_loss, train_loss_history, test_loss, test_loss_history, epoch_counter, print_interval=1000):\n",
    "  if (epoch%print_interval == 0):  print('Epoch [%d/%d], Train Loss: %.4f, Test Loss: %.4f' %(epoch+1, num_epochs, train_loss, test_loss))\n",
    "  train_loss_history.append(train_loss)\n",
    "  test_loss_history.append(test_loss)\n",
    "  epoch_counter.append(epoch)\n",
    "\n",
    "def graphLoss(epoch_counter, train_loss_hist, test_loss_hist, loss_name=\"Loss\", start = 0):\n",
    "  fig = plt.figure()\n",
    "  plt.plot(epoch_counter[start:], train_loss_hist[start:], color='blue')\n",
    "  plt.plot(epoch_counter[start:], test_loss_hist[start:], color='red')\n",
    "  plt.legend(['Train Loss', 'Test Loss'], loc='upper right')\n",
    "  plt.xlabel('#Epochs')\n",
    "  plt.ylabel(loss_name)\n",
    "\n",
    "def trainAndGraph(network, training_generator, testing_generator, loss_function, optimizer, scheduler, num_epochs, logging_interval=1, early_stopping_cutoff=20):\n",
    "  #Arrays to store training history\n",
    "  test_loss_history = []\n",
    "  epoch_counter = []\n",
    "  train_loss_history = []\n",
    "  last_loss = 999999\n",
    "  best_loss = 999999\n",
    "  epochsSinceLastImprove = 0\n",
    "  \n",
    "  for epoch in range(num_epochs):\n",
    "    avg_loss = train(network, training_generator, loss_function, optimizer)\n",
    "    test_loss = test(network, testing_generator, loss_function)\n",
    "    scheduler.step(test_loss)\n",
    "    logResults(epoch, num_epochs, avg_loss, train_loss_history, test_loss, test_loss_history, epoch_counter, logging_interval)\n",
    "    # if (test_loss > last_loss):\n",
    "    #   break\n",
    "    if (test_loss < best_loss):\n",
    "      best_loss = test_loss\n",
    "      torch.save(network.state_dict(), 'best_model.pt')\n",
    "      epochsSinceLastImprove = 0\n",
    "    else:\n",
    "      epochsSinceLastImprove += 1\n",
    "      \n",
    "    if epochsSinceLastImprove >= early_stopping_cutoff:\n",
    "      print(f\"Stopped training early at epoch={epoch} with loss={best_loss}\")\n",
    "      break\n",
    "\n",
    "  graphLoss(epoch_counter, train_loss_history, test_loss_history)"
   ]
  },
  {
   "cell_type": "code",
   "execution_count": null,
   "metadata": {},
   "outputs": [],
   "source": [
    "def train(network,  data_generator, loss_function, optimizer, logging = 200):\n",
    "  network.train() #updates any network layers that behave differently in training and execution\n",
    "  avg_loss = 0\n",
    "  num_batches = 0\n",
    "  for batch, (input_data, input_length, target_output) in enumerate(data_generator):\n",
    "    input_data, target_output = input_data.to(device), target_output.to(device) #Move tensor to GPU\n",
    "    input_length = input_length.to(device)\n",
    "    optimizer.zero_grad()                            # Gradients need to be reset each batch\n",
    "    prediction = network(input_data, input_length)                 # Forward pass: compute the output class given a image\n",
    "    loss = loss_function(prediction, target_output, input_length)  # Compute the loss: difference between the output and correct result\n",
    "    loss.backward()                                  # Backward pass: compute the gradients of the model with respect to the loss\n",
    "    optimizer.step()\n",
    "    avg_loss += loss.item()\n",
    "    num_batches += 1\n",
    "    if ((batch+1)%logging == 0): print('Batch [%d/%d], Train Loss: %.4f' %(batch+1, len(data_generator.dataset)/len(target_output), avg_loss/num_batches))\n",
    "  return avg_loss/num_batches\n",
    "\n",
    "def test(network, test_loader, loss_function):\n",
    "  network.eval() #updates any network layers that behave differently in training and execution\n",
    "  test_loss = 0\n",
    "  num_batches = 0\n",
    "  with torch.no_grad():\n",
    "    for data, length, target in test_loader:\n",
    "      data, length, target = data.to(device), length.to(device), target.to(device)\n",
    "      output = network(data, length)\n",
    "      test_loss += loss_function(output, target, length).item()\n",
    "      num_batches += 1\n",
    "  test_loss /= num_batches\n",
    "  #print('\\nTest set: Avg. loss: {:.4f})\\n'.format(test_loss))\n",
    "  return test_loss"
   ]
  },
  {
   "cell_type": "markdown",
   "metadata": {},
   "source": [
    "Model"
   ]
  },
  {
   "cell_type": "code",
   "execution_count": null,
   "metadata": {},
   "outputs": [],
   "source": [
    "class LSTM_Model(nn.Module):\n",
    "    def __init__(self, dropoutPerc):\n",
    "        super().__init__()\n",
    "        HIDDEN_SIZE = 400\n",
    "        \n",
    "        self.lstm = nn.LSTM(input_size=HITTER_COLS, hidden_size=HIDDEN_SIZE, num_layers=5, batch_first=False, dropout=dropoutPerc)\n",
    "        self.linear = nn.Linear(HIDDEN_SIZE, HITTER_OUTPUT_COLS)\n",
    "        \n",
    "    def forward(self, x, lengths):\n",
    "        lengths = lengths.to(torch.device(\"cpu\")).long()\n",
    "        packedInput = nn.utils.rnn.pack_padded_sequence(x, lengths, batch_first=True, enforce_sorted=False)\n",
    "        packedOutput, (h_n, c_n) = self.lstm(packedInput)\n",
    "        output, _ = nn.utils.rnn.pad_packed_sequence(packedOutput, batch_first=True)\n",
    "            \n",
    "        output = self.linear(output)\n",
    "        return output"
   ]
  },
  {
   "cell_type": "markdown",
   "metadata": {},
   "source": [
    "Dataset"
   ]
  },
  {
   "cell_type": "code",
   "execution_count": null,
   "metadata": {},
   "outputs": [],
   "source": [
    "class CustomDataset(torch.utils.data.Dataset):\n",
    "    def __init__(self, data, lengths, labels):\n",
    "        self.data = data\n",
    "        self.lengths = lengths\n",
    "        self.labels = labels\n",
    "        \n",
    "    def __len__(self):\n",
    "        return self.data.size(dim=1)\n",
    "    \n",
    "    def __getitem__(self, idx):\n",
    "        return self.data[:,idx], self.lengths[idx], self.labels[:,idx]"
   ]
  },
  {
   "cell_type": "code",
   "execution_count": null,
   "metadata": {},
   "outputs": [],
   "source": [
    "trainHittersDataset = CustomDataset(x_train_padded, train_lengths, y_train_padded)\n",
    "testHittersDataset = CustomDataset(x_test_padded, test_lengths, y_test_padded)"
   ]
  },
  {
   "cell_type": "markdown",
   "metadata": {},
   "source": [
    "Training"
   ]
  },
  {
   "cell_type": "code",
   "execution_count": null,
   "metadata": {},
   "outputs": [],
   "source": [
    "def LSTM_MSELoss(pred, actual, lengths):\n",
    "    actual = actual[:,:pred.size(1),:]\n",
    "    loss = F.mse_loss(pred, actual, reduction='none')\n",
    "    #loss = F.l1_loss(pred, actual, reduction='none')\n",
    "    \n",
    "    # Create a mask based on lengths\n",
    "    batch_size, max_steps, _ = loss.size()\n",
    "    mask = torch.arange(max_steps, device=lengths.device).unsqueeze(0) < lengths.unsqueeze(1)\n",
    "    mask = mask.unsqueeze(-1).expand_as(loss)\n",
    "    maskedLoss = loss * mask\n",
    "    lossSums = maskedLoss.sum(dim=1)\n",
    "    lengths = lengths.float()\n",
    "    lossMeans = lossSums / lengths.unsqueeze(1)\n",
    "    \n",
    "    return lossMeans.mean()\n",
    "\n",
    "    maskedLoss = loss * lengths.unsqueeze(0)\n",
    "    loss = maskedLoss.sum() / lengths.sum()"
   ]
  },
  {
   "cell_type": "code",
   "execution_count": null,
   "metadata": {},
   "outputs": [
    {
     "name": "stdout",
     "output_type": "stream",
     "text": [
      "Num. Parameters: 5818001\n",
      "Epoch [1/201], Train Loss: 5.4200, Test Loss: 3.8336\n",
      "Epoch [11/201], Train Loss: 4.1351, Test Loss: 3.4550\n",
      "Epoch [21/201], Train Loss: 3.3438, Test Loss: 2.8239\n",
      "Epoch [31/201], Train Loss: 2.4153, Test Loss: 2.7387\n",
      "Epoch [41/201], Train Loss: 1.9705, Test Loss: 2.5004\n",
      "Epoch [51/201], Train Loss: 1.5883, Test Loss: 2.5692\n",
      "Stopped training early at epoch=59 with loss=2.4616097609202066\n"
     ]
    },
    {
     "data": {
      "image/png": "[encoded data removed]",
      "text/plain": [
       "<Figure size 640x480 with 1 Axes>"
      ]
     },
     "metadata": {},
     "output_type": "display_data"
    }
   ],
   "source": [
    "dropout = 0.5\n",
    "network = LSTM_Model(dropout)\n",
    "network = network.to(device)\n",
    "print(\"Num. Parameters:\", count_parameters(network))\n",
    "\n",
    "optimizer = torch.optim.Adam(network.parameters(), lr=0.001)\n",
    "scheduler = lr_scheduler.ReduceLROnPlateau(optimizer, factor=0.25, cooldown=5, verbose=False)\n",
    "loss_function = LSTM_MSELoss\n",
    "\n",
    "batch_size = 800\n",
    "num_epochs = 201\n",
    "training_generator = torch.utils.data.DataLoader(trainHittersDataset, batch_size=batch_size, shuffle=True)\n",
    "testing_generator = torch.utils.data.DataLoader(testHittersDataset, batch_size=batch_size, shuffle=False)\n",
    "\n",
    "trainAndGraph(network, training_generator, testing_generator, loss_function, optimizer, scheduler, num_epochs, 10)"
   ]
  },
  {
   "cell_type": "markdown",
   "metadata": {},
   "source": [
    "Sanity check\n",
    "\n",
    "Make sure the model likes good players and doesn't like bad players"
   ]
  },
  {
   "cell_type": "code",
   "execution_count": null,
   "metadata": {},
   "outputs": [],
   "source": [
    "paddedHitterInput = torch.nn.utils.rnn.pad_sequence(hitterInput)\n",
    "hitterLengths = torch.tensor([len(seq) for seq in hitterInput])\n",
    "savedModel = LSTM_Model(0)\n",
    "savedModel.eval()\n",
    "savedModel.load_state_dict(torch.load(\"best_model.pt\"))\n",
    "savedModel = savedModel.to(device)\n",
    "\n",
    "def GetPlayer(name, id):\n",
    "    with torch.no_grad():\n",
    "        for i, hitter in enumerate(hitters):\n",
    "            if hitter[0] == id:\n",
    "                idx = i\n",
    "                break\n",
    "            \n",
    "        input = paddedHitterInput[:,idx,:].unsqueeze(0)\n",
    "\n",
    "        output = savedModel(input.to(device), hitterLengths[idx].unsqueeze(0).to(device))\n",
    "\n",
    "        print(name)\n",
    "        torch.set_printoptions(precision=2, sci_mode=False)\n",
    "        print(output.squeeze(0).squeeze(1).data)\n",
    "        print(hitterOutput[idx][0])"
   ]
  },
  {
   "cell_type": "code",
   "execution_count": null,
   "metadata": {},
   "outputs": [
    {
     "name": "stdout",
     "output_type": "stream",
     "text": [
      "Michael Harrington\n",
      "tensor([ 0.09,  0.01,  0.02, -0.02, -0.05, -0.08, -0.09, -0.10, -0.10, -0.09,\n",
      "        -0.08, -0.08, -0.07, -0.07, -0.07, -0.06], device='cuda:0')\n",
      "tensor([0.])\n",
      "Mike Trout\n",
      "tensor([ 3.74,  4.49, 16.55,  9.74, 20.83, 25.08, 26.00, 26.27, 26.41, 26.52,\n",
      "        26.59, 26.65, 26.70, 26.73, 26.76, 26.78, 26.80], device='cuda:0')\n",
      "tensor([47.20])\n",
      "Levi Michael\n",
      "tensor([ 3.44,  2.30,  1.11,  0.75,  0.66,  0.62,  0.40,  0.30,  0.30,  0.25,\n",
      "         0.18,  0.12,  0.10,  0.05,  0.01, -0.03, -0.06, -0.07, -0.07, -0.00,\n",
      "         0.00, -0.01, -0.03, -0.05, -0.06, -0.08, -0.09, -0.09, -0.10, -0.09,\n",
      "        -0.09, -0.10, -0.11, -0.12, -0.12, -0.12, -0.12, -0.10, -0.07, -0.05,\n",
      "        -0.06], device='cuda:0')\n",
      "tensor([0.])\n",
      "Bryce Harper\n",
      "tensor([ 0.19,  4.57, 17.13, 18.03, 19.01, 19.30, 17.68, 18.23, 19.13, 20.15],\n",
      "       device='cuda:0')\n",
      "tensor([25.50])\n",
      "Mike Moustakas\n",
      "tensor([0.30, 0.30, 0.11, 0.26, 1.92, 2.23, 3.50, 6.15, 6.51, 7.18, 7.13, 6.82,\n",
      "        6.23, 5.81, 5.05, 4.91, 6.90, 7.10, 7.32, 7.89, 7.88, 7.47, 7.07, 6.62,\n",
      "        5.96], device='cuda:0')\n",
      "tensor([8.70])\n",
      "Max Kepler\n",
      "tensor([ 0.09, -0.02, -0.04, -0.05, -0.07, -0.08, -0.10, -0.10, -0.10, -0.11,\n",
      "        -0.06,  0.05,  0.01,  0.24,  1.06,  0.92,  0.38,  0.33,  0.26,  0.23,\n",
      "         0.19,  0.27,  0.26,  0.23,  1.05,  1.96,  2.12,  2.37,  1.69,  1.22,\n",
      "         1.22,  1.14,  1.12], device='cuda:0')\n",
      "tensor([13.30])\n"
     ]
    }
   ],
   "source": [
    "GetPlayer(\"Michael Harrington\", 518769)\n",
    "GetPlayer(\"Mike Trout\", 545361)\n",
    "GetPlayer(\"Levi Michael\", 605381)\n",
    "GetPlayer(\"Bryce Harper\", 547180)\n",
    "GetPlayer(\"Mike Moustakas\", 519058)\n",
    "GetPlayer(\"Max Kepler\", 596146)"
   ]
  }
 ],
 "metadata": {
  "kernelspec": {
   "display_name": "Python 3",
   "language": "python",
   "name": "python3"
  },
  "language_info": {
   "codemirror_mode": {
    "name": "ipython",
    "version": 3
   },
   "file_extension": ".py",
   "mimetype": "text/x-python",
   "name": "python",
   "nbconvert_exporter": "python",
   "pygments_lexer": "ipython3",
   "version": "3.11.9"
  }
 },
 "nbformat": 4,
 "nbformat_minor": 2
}
