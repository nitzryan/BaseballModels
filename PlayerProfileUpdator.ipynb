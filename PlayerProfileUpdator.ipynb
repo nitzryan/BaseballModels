{
 "cells": [
  {
   "cell_type": "markdown",
   "metadata": {},
   "source": [
    "Constant Parameters"
   ]
  },
  {
   "cell_type": "code",
   "execution_count": 1,
   "metadata": {},
   "outputs": [],
   "source": [
    "START_YEAR = 2005\n",
    "SPORT_IDS = [1,11,12,13,14,15,16]"
   ]
  },
  {
   "cell_type": "markdown",
   "metadata": {},
   "source": [
    "Year Parameters to update"
   ]
  },
  {
   "cell_type": "code",
   "execution_count": 2,
   "metadata": {},
   "outputs": [],
   "source": [
    "CURRENT_SEASON = 2024\n",
    "ONLY_UPDATE_CURRENT_SEASON = True"
   ]
  },
  {
   "cell_type": "markdown",
   "metadata": {},
   "source": [
    "Get List of Players to add to database"
   ]
  },
  {
   "cell_type": "code",
   "execution_count": 3,
   "metadata": {},
   "outputs": [],
   "source": [
    "import requests\n",
    "import sqlite3"
   ]
  },
  {
   "cell_type": "code",
   "execution_count": 4,
   "metadata": {},
   "outputs": [],
   "source": [
    "db = sqlite3.connect(\"BaseballStats.db\")\n",
    "cursor = db.cursor()"
   ]
  },
  {
   "cell_type": "code",
   "execution_count": null,
   "metadata": {},
   "outputs": [],
   "source": [
    "db.rollback()\n",
    "cursor = db.cursor()\n",
    "\n",
    "for year in range(START_YEAR, CURRENT_SEASON + 1):\n",
    "    if ONLY_UPDATE_CURRENT_SEASON and year != CURRENT_SEASON:\n",
    "        continue\n",
    "    \n",
    "    for sportId in SPORT_IDS:\n",
    "        playersToInsert = []\n",
    "        for position in [\"hitting\",\"pitching\"]:\n",
    "            print(f\"Getting players for Year={year} SportId={sportId} Position={position}\")\n",
    "            response = requests.get(f\"https://bdfed.stitch.mlbinfra.com/bdfed/stats/player?stitch_env=prod&season={year}&sportId={sportId}&stats=season&group={position}&gameType=R&limit=5000&offset=0&sortStat=homeRuns&order=desc\")\n",
    "            if response.status_code != 200:\n",
    "                print(f\"Code {response.status_code} for Year={year} and sportId={sportId} and position={position}\")\n",
    "                continue\n",
    "            \n",
    "            responseJson = response.json()\n",
    "            jsonPlayers = responseJson['stats']\n",
    "            for player in jsonPlayers:\n",
    "                try:\n",
    "                    if cursor.execute(f\"SELECT COUNT(*) FROM Player WHERE mlbId='{player['playerId']}' AND position='{position}'\").fetchone()[0] > 0:\n",
    "                        continue\n",
    "                    playersToInsert.append((player[\"playerId\"], position))\n",
    "                except:\n",
    "                    pass\n",
    "                \n",
    "        cursor.execute(\"BEGIN TRANSACTION\")\n",
    "        cursor.executemany(\"INSERT INTO Player('mlbId','position') VALUES(?,?)\", playersToInsert)\n",
    "        cursor.execute(\"END TRANSACTION\")\n",
    "        db.commit()\n",
    "        cursor = db.cursor()"
   ]
  },
  {
   "cell_type": "markdown",
   "metadata": {},
   "source": [
    "Get Player Data for all players"
   ]
  },
  {
   "cell_type": "code",
   "execution_count": 8,
   "metadata": {},
   "outputs": [],
   "source": [
    "from tqdm import tqdm\n",
    "import threading"
   ]
  },
  {
   "cell_type": "code",
   "execution_count": null,
   "metadata": {},
   "outputs": [],
   "source": [
    "db.rollback()\n",
    "cursor = db.cursor()\n",
    "\n",
    "NUM_THREADS = 16\n",
    "threadOutputs = [[]] * NUM_THREADS\n",
    "threadCompleteCounts = [0] * NUM_THREADS\n",
    "\n",
    "unsetPlayers = cursor.execute(\"SELECT mlbId, position FROM Player WHERE birthYear IS NULL\").fetchall()\n"
   ]
  },
  {
   "cell_type": "code",
   "execution_count": null,
   "metadata": {},
   "outputs": [],
   "source": [
    "def ReadPlayer(mlbId, position, threadIdx):\n",
    "    response = requests.get(f\"https://statsapi.mlb.com/api/v1/people/{mlbId}?hydrate=currentTeam,team,stats(type=[yearByYear](team(league)),leagueListId=mlb_milb)&site=en\")\n",
    "    if response.status_code != 200:\n",
    "        print(f\"Status code {response.status_code} for {mlbId} {position}\")\n",
    "        return\n",
    "    \n",
    "    try:\n",
    "        response = response.json()\n",
    "        person = response[\"people\"][0]\n",
    "        useFirstName = person[\"useName\"]\n",
    "        useLastName = person[\"useLastName\"]\n",
    "        bats = person[\"batSide\"][\"code\"]\n",
    "        throws = person[\"pitchHand\"][\"code\"]\n",
    "        birthdateFormatted = person[\"birthDate\"]\n",
    "        birthYear, birthMonth, birthDate = birthdateFormatted.split(\"-\")\n",
    "        global threadOutputs\n",
    "        threadOutputs[threadIdx].append((mlbId, position, useFirstName, useLastName, bats, throws, birthYear, birthMonth, birthDate))\n",
    "        \n",
    "    except Exception as e:\n",
    "        print(f\"Exception {e} for {mlbId}\")\n",
    "        return\n",
    "    \n",
    "def ReadPlayers(threadIdx):\n",
    "    global unsetPlayers\n",
    "    global threadCompleteCounts\n",
    "    for mlbId, position in unsetPlayers[threadIdx * len(unsetPlayers) // NUM_THREADS : (threadIdx + 1) * len(unsetPlayers) // NUM_THREADS]:\n",
    "        ReadPlayer(mlbId, position, threadIdx)\n",
    "        threadCompleteCounts[threadIdx] += 1"
   ]
  },
  {
   "cell_type": "code",
   "execution_count": null,
   "metadata": {},
   "outputs": [],
   "source": [
    "threads = []\n",
    "for i in range(NUM_THREADS):\n",
    "    thread = threading.Thread(target=ReadPlayers, args=[i])\n",
    "    threads.append(thread)\n",
    "    thread.start()\n",
    "    \n",
    "progressBar = tqdm(total=len(unsetPlayers))\n",
    "\n",
    "# Start progress bar\n",
    "keepTimerRunning = True\n",
    "def UpdateTimer():\n",
    "    if keepTimerRunning:\n",
    "        threading.Timer(5.0, UpdateTimer).start()\n",
    "    \n",
    "    count = 0\n",
    "    global threadCompleteCounts\n",
    "    for i in range(NUM_THREADS):\n",
    "        count += threadCompleteCounts[i]\n",
    "    \n",
    "    global progressBar\n",
    "    progressBar.n = count\n",
    "    progressBar.last_print_n = progressBar.n\n",
    "    progressBar.refresh()\n",
    "    \n",
    "UpdateTimer()\n",
    "\n",
    "for thread in threads:\n",
    "    thread.join()\n",
    "    \n",
    "keepTimerRunning = False"
   ]
  },
  {
   "cell_type": "code",
   "execution_count": null,
   "metadata": {},
   "outputs": [],
   "source": [
    "db.rollback()\n",
    "cursor = db.cursor()\n",
    "cursor.execute(\"BEGIN TRANSACTION\")\n",
    "\n",
    "for threadOutput in threadOutputs:\n",
    "    for mlbId, position, useFirstName, useLastName, bats, throws, birthYear, birthMonth, birthDate in threadOutput:\n",
    "    # for data in threadOutput:\n",
    "        # cursor.execute(f\"UPDATE Player SET birthYear='{birthYear}', birthMonth='{birthMonth}', birthDate='{birthDate}', bats='{bats}', throws='{throws}', useFirstName='{useFirstName}', useLastName='{useLastName}' WHERE mlbId='{mlbId}' AND position='{position}'\")\n",
    "        cursor.execute(\"UPDATE Player SET birthYear=?, birthMonth=?, birthDate=?, bats=?, throws=?, useFirstName=?,  useLastName=? WHERE mlbId=? AND position=?\", (birthYear, birthMonth, birthDate, bats, throws, useFirstName, useLastName, mlbId, position))\n",
    "cursor.execute(\"END TRANSACTION\")\n",
    "db.commit()"
   ]
  },
  {
   "cell_type": "markdown",
   "metadata": {},
   "source": [
    "Calculate Draft Position"
   ]
  },
  {
   "cell_type": "code",
   "execution_count": null,
   "metadata": {},
   "outputs": [],
   "source": [
    "db.rollback()\n",
    "cursor = db.cursor()\n",
    "cursor.execute(\"BEGIN TRANSACTION\")\n",
    "\n",
    "for year in tqdm(range(2001, CURRENT_SEASON + 1), desc=\"Drafts\"):\n",
    "    response = requests.get(f\"https://statsapi.mlb.com/api/v1/draft/{year}\")\n",
    "    json = response.json()\n",
    "    for rounds in json[\"drafts\"][\"rounds\"]:\n",
    "        for pick in rounds[\"picks\"]:\n",
    "            try:\n",
    "                draftPick = pick[\"pickNumber\"]\n",
    "                mlbId = pick[\"person\"][\"id\"]\n",
    "                cursor.execute(\"UPDATE Player SET draftPick=?, signingYear=?, signingMonth='7', signingDate='1' WHERE mlbId=?\", (draftPick, year, mlbId))\n",
    "            except:\n",
    "                continue\n",
    "    \n",
    "cursor.execute(\"END TRANSACTION\")\n",
    "db.commit()"
   ]
  }
 ],
 "metadata": {
  "kernelspec": {
   "display_name": "Python 3",
   "language": "python",
   "name": "python3"
  },
  "language_info": {
   "codemirror_mode": {
    "name": "ipython",
    "version": 3
   },
   "file_extension": ".py",
   "mimetype": "text/x-python",
   "name": "python",
   "nbconvert_exporter": "python",
   "pygments_lexer": "ipython3",
   "version": "3.11.9"
  }
 },
 "nbformat": 4,
 "nbformat_minor": 2
}
