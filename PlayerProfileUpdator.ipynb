{
 "cells": [
  {
   "cell_type": "markdown",
   "metadata": {},
   "source": [
    "Constant Parameters"
   ]
  },
  {
   "cell_type": "code",
   "execution_count": 4,
   "metadata": {},
   "outputs": [],
   "source": [
    "START_YEAR = 2005\n",
    "SPORT_IDS = [1,11,12,13,14,15,16]"
   ]
  },
  {
   "cell_type": "markdown",
   "metadata": {},
   "source": [
    "Year Parameters to update"
   ]
  },
  {
   "cell_type": "code",
   "execution_count": 5,
   "metadata": {},
   "outputs": [],
   "source": [
    "CURRENT_SEASON = 2024\n",
    "ONLY_UPDATE_CURRENT_SEASON = True"
   ]
  },
  {
   "cell_type": "markdown",
   "metadata": {},
   "source": [
    "Get List of Players to add to database"
   ]
  },
  {
   "cell_type": "code",
   "execution_count": 6,
   "metadata": {},
   "outputs": [],
   "source": [
    "import requests\n",
    "import sqlite3"
   ]
  },
  {
   "cell_type": "code",
   "execution_count": 7,
   "metadata": {},
   "outputs": [],
   "source": [
    "db = sqlite3.connect(\"BaseballStats.db\")\n",
    "cursor = db.cursor()"
   ]
  },
  {
   "cell_type": "code",
   "execution_count": null,
   "metadata": {},
   "outputs": [],
   "source": [
    "db.rollback()\n",
    "cursor = db.cursor()\n",
    "\n",
    "for year in range(START_YEAR, CURRENT_SEASON + 1):\n",
    "    if ONLY_UPDATE_CURRENT_SEASON and year != CURRENT_SEASON:\n",
    "        continue\n",
    "    \n",
    "    for sportId in SPORT_IDS:\n",
    "        playersToInsert = []\n",
    "        for position in [\"hitting\",\"pitching\"]:\n",
    "            print(f\"Getting players for Year={year} SportId={sportId} Position={position}\")\n",
    "            response = requests.get(f\"https://bdfed.stitch.mlbinfra.com/bdfed/stats/player?stitch_env=prod&season={year}&sportId={sportId}&stats=season&group={position}&gameType=R&limit=5000&offset=0&sortStat=homeRuns&order=desc\")\n",
    "            if response.status_code != 200:\n",
    "                print(f\"Code {response.status_code} for Year={year} and sportId={sportId} and position={position}\")\n",
    "                continue\n",
    "            \n",
    "            responseJson = response.json()\n",
    "            jsonPlayers = responseJson['stats']\n",
    "            for player in jsonPlayers:\n",
    "                try:\n",
    "                    if cursor.execute(f\"SELECT COUNT(*) FROM Player WHERE mlbId='{player['playerId']}' AND position='{position}'\").fetchone()[0] > 0:\n",
    "                        continue\n",
    "                    playersToInsert.append((player[\"playerId\"], position))\n",
    "                except:\n",
    "                    pass\n",
    "                \n",
    "        cursor.execute(\"BEGIN TRANSACTION\")\n",
    "        cursor.executemany(\"INSERT INTO Player('mlbId','position') VALUES(?,?)\", playersToInsert)\n",
    "        cursor.execute(\"END TRANSACTION\")\n",
    "        db.commit()\n",
    "        cursor = db.cursor()"
   ]
  },
  {
   "cell_type": "markdown",
   "metadata": {},
   "source": [
    "Get Player Data for all players"
   ]
  },
  {
   "cell_type": "code",
   "execution_count": 8,
   "metadata": {},
   "outputs": [],
   "source": [
    "from tqdm import tqdm\n",
    "import threading"
   ]
  },
  {
   "cell_type": "code",
   "execution_count": null,
   "metadata": {},
   "outputs": [],
   "source": [
    "db.rollback()\n",
    "cursor = db.cursor()\n",
    "\n",
    "NUM_THREADS = 16\n",
    "threadOutputs = [[]] * NUM_THREADS\n",
    "threadCompleteCounts = [0] * NUM_THREADS\n",
    "\n",
    "unsetPlayers = cursor.execute(\"SELECT mlbId, position FROM Player WHERE birthYear IS NULL\").fetchall()\n"
   ]
  },
  {
   "cell_type": "code",
   "execution_count": null,
   "metadata": {},
   "outputs": [],
   "source": [
    "def ReadPlayer(mlbId, position, threadIdx):\n",
    "    response = requests.get(f\"https://statsapi.mlb.com/api/v1/people/{mlbId}?hydrate=currentTeam,team,stats(type=[yearByYear](team(league)),leagueListId=mlb_milb)&site=en\")\n",
    "    if response.status_code != 200:\n",
    "        print(f\"Status code {response.status_code} for {mlbId} {position}\")\n",
    "        return\n",
    "    \n",
    "    try:\n",
    "        response = response.json()\n",
    "        person = response[\"people\"][0]\n",
    "        useFirstName = person[\"useName\"]\n",
    "        useLastName = person[\"useLastName\"]\n",
    "        bats = person[\"batSide\"][\"code\"]\n",
    "        throws = person[\"pitchHand\"][\"code\"]\n",
    "        birthdateFormatted = person[\"birthDate\"]\n",
    "        birthYear, birthMonth, birthDate = birthdateFormatted.split(\"-\")\n",
    "        global threadOutputs\n",
    "        threadOutputs[threadIdx].append((mlbId, position, useFirstName, useLastName, bats, throws, birthYear, birthMonth, birthDate))\n",
    "        \n",
    "    except Exception as e:\n",
    "        print(f\"Exception {e} for {mlbId}\")\n",
    "        return\n",
    "    \n",
    "def ReadPlayers(threadIdx):\n",
    "    global unsetPlayers\n",
    "    global threadCompleteCounts\n",
    "    for mlbId, position in unsetPlayers[threadIdx * len(unsetPlayers) // NUM_THREADS : (threadIdx + 1) * len(unsetPlayers) // NUM_THREADS]:\n",
    "        ReadPlayer(mlbId, position, threadIdx)\n",
    "        threadCompleteCounts[threadIdx] += 1"
   ]
  },
  {
   "cell_type": "code",
   "execution_count": null,
   "metadata": {},
   "outputs": [],
   "source": [
    "threads = []\n",
    "for i in range(NUM_THREADS):\n",
    "    thread = threading.Thread(target=ReadPlayers, args=[i])\n",
    "    threads.append(thread)\n",
    "    thread.start()\n",
    "    \n",
    "progressBar = tqdm(total=len(unsetPlayers))\n",
    "\n",
    "# Start progress bar\n",
    "keepTimerRunning = True\n",
    "def UpdateTimer():\n",
    "    if keepTimerRunning:\n",
    "        threading.Timer(5.0, UpdateTimer).start()\n",
    "    \n",
    "    count = 0\n",
    "    global threadCompleteCounts\n",
    "    for i in range(NUM_THREADS):\n",
    "        count += threadCompleteCounts[i]\n",
    "    \n",
    "    global progressBar\n",
    "    progressBar.n = count\n",
    "    progressBar.last_print_n = progressBar.n\n",
    "    progressBar.refresh()\n",
    "    \n",
    "UpdateTimer()\n",
    "\n",
    "for thread in threads:\n",
    "    thread.join()\n",
    "    \n",
    "keepTimerRunning = False"
   ]
  },
  {
   "cell_type": "code",
   "execution_count": null,
   "metadata": {},
   "outputs": [],
   "source": [
    "db.rollback()\n",
    "cursor = db.cursor()\n",
    "cursor.execute(\"BEGIN TRANSACTION\")\n",
    "\n",
    "for threadOutput in threadOutputs:\n",
    "    for mlbId, position, useFirstName, useLastName, bats, throws, birthYear, birthMonth, birthDate in threadOutput:\n",
    "    # for data in threadOutput:\n",
    "        # cursor.execute(f\"UPDATE Player SET birthYear='{birthYear}', birthMonth='{birthMonth}', birthDate='{birthDate}', bats='{bats}', throws='{throws}', useFirstName='{useFirstName}', useLastName='{useLastName}' WHERE mlbId='{mlbId}' AND position='{position}'\")\n",
    "        cursor.execute(\"UPDATE Player SET birthYear=?, birthMonth=?, birthDate=?, bats=?, throws=?, useFirstName=?,  useLastName=? WHERE mlbId=? AND position=?\", (birthYear, birthMonth, birthDate, bats, throws, useFirstName, useLastName, mlbId, position))\n",
    "cursor.execute(\"END TRANSACTION\")\n",
    "db.commit()"
   ]
  },
  {
   "cell_type": "markdown",
   "metadata": {},
   "source": [
    "Calculate Draft Position"
   ]
  },
  {
   "cell_type": "code",
   "execution_count": null,
   "metadata": {},
   "outputs": [],
   "source": [
    "db.rollback()\n",
    "cursor = db.cursor()\n",
    "cursor.execute(\"BEGIN TRANSACTION\")\n",
    "\n",
    "for year in tqdm(range(2001, CURRENT_SEASON + 1), desc=\"Drafts\"):\n",
    "    response = requests.get(f\"https://statsapi.mlb.com/api/v1/draft/{year}\")\n",
    "    json = response.json()\n",
    "    for rounds in json[\"drafts\"][\"rounds\"]:\n",
    "        for pick in rounds[\"picks\"]:\n",
    "            try:\n",
    "                draftPick = pick[\"pickNumber\"]\n",
    "                mlbId = pick[\"person\"][\"id\"]\n",
    "                cursor.execute(\"UPDATE Player SET draftPick=?, signingYear=?, signingMonth='7', signingDate='1' WHERE mlbId=?\", (draftPick, year, mlbId))\n",
    "            except:\n",
    "                continue\n",
    "    \n",
    "cursor.execute(\"END TRANSACTION\")\n",
    "db.commit()"
   ]
  },
  {
   "cell_type": "markdown",
   "metadata": {},
   "source": [
    "Generate Game Log Data"
   ]
  },
  {
   "cell_type": "code",
   "execution_count": 9,
   "metadata": {},
   "outputs": [],
   "source": [
    "dbWriteLock = threading.Lock()"
   ]
  },
  {
   "cell_type": "code",
   "execution_count": 18,
   "metadata": {},
   "outputs": [],
   "source": [
    "def GenerateHitterYearGameLogs(db, mlbId, year, startMonth=0, endMonth=13):\n",
    "    cursor = db.cursor()\n",
    "    # Check if data already exists\n",
    "    if cursor.execute(f\"SELECT COUNT(*) FROM Player_Hitter_GameLog WHERE mlbId='{mlbId}' AND Year='{year}' AND Month >='{startMonth}'\").fetchone()[0] > 0:\n",
    "        return\n",
    "    \n",
    "    gameLogs = []\n",
    "    response = requests.get(f\"https://statsapi.mlb.com/api/v1/people/{mlbId}/stats?stats=gameLog&leagueListId=mlb_milb&group=hitting&gameType=R&sitCodes=1,2,3,4,5,6,7,8,9,10,11,12&hydrate=team&language=en&season={year}\")\n",
    "    if response.status_code != 200:\n",
    "        print(f\"Status code {response.status_code} for id={mlbId} year={year}\")\n",
    "        return\n",
    "    try:\n",
    "        games = response.json()[\"stats\"][0][\"splits\"]\n",
    "        for game in games:\n",
    "            _, month, day = game[\"date\"].split(\"-\")\n",
    "            if int(month) < int(startMonth) or int(month) >= int(endMonth):\n",
    "                continue\n",
    "            \n",
    "            gameId = int(game[\"game\"][\"gamePk\"])\n",
    "            if len(game[\"positionsPlayed\"] > 0):\n",
    "                pos = int(game[\"positionsPlayed\"][0][\"code\"])\n",
    "            else:\n",
    "                pos = 10\n",
    "            isHomeGame = int(game[\"isHome\"])\n",
    "            if isHomeGame:\n",
    "                homeTeamId = int(game[\"team\"][\"id\"])\n",
    "            else:\n",
    "                homeTeamId = int(game[\"opponent\"][\"id\"])\n",
    "            level = int(game[\"sport\"][\"id\"])\n",
    "            stats = game[\"stat\"]\n",
    "            ab = int(stats[\"atBats\"])\n",
    "            h = int(stats[\"hits\"])\n",
    "            double = int(stats[\"doubles\"])\n",
    "            triple = int(stats[\"triples\"])\n",
    "            hr = int(stats[\"homeRuns\"])\n",
    "            k = int(stats[\"strikeOuts\"])\n",
    "            bb = int(stats[\"baseOnBalls\"])\n",
    "            hbp = int(stats[\"hitByPitch\"])\n",
    "            sb = int(stats[\"stolenBases\"])\n",
    "            cs = int(stats[\"caughtStealing\"])\n",
    "            gameLogs.append((gameId, int(mlbId), int(day), int(month), int(year), ab, h, double, triple, hr, k, bb, sb, cs, hbp, pos, level, homeTeamId))\n",
    "            \n",
    "        with dbWriteLock:\n",
    "            cursor.execute(\"BEGIN TRANSACTION\")\n",
    "            cursor.executemany(\"INSERT INTO Player_Hitter_GameLog('gameId', 'mlbId', 'Day', 'Month','Year','AB','H','2B','3B','HR','K','BB','SB','CS','HBP','Position','Level','HomeTeamId') VALUES(?,?,?,?,?,?,?,?,?,?,?,?,?,?,?,?,?,?)\", gameLogs)\n",
    "            cursor.execute(\"END TRANSACTION\")\n",
    "            db.commit()\n",
    "            \n",
    "    except Exception as e:\n",
    "        print(f\"Exception On Id={mlbId} year={year}: {e}\")\n",
    "        return"
   ]
  },
  {
   "cell_type": "code",
   "execution_count": 11,
   "metadata": {},
   "outputs": [],
   "source": [
    "ONLY_UPDATE_CURRENT_SEASON = False\n",
    "STOP_MONTH = 8"
   ]
  },
  {
   "cell_type": "code",
   "execution_count": 13,
   "metadata": {},
   "outputs": [
    {
     "name": "stdout",
     "output_type": "stream",
     "text": [
      "Getting players for Year=2005 SportId=1\n",
      "Getting players for Year=2005 SportId=11\n",
      "Getting players for Year=2005 SportId=12\n",
      "Getting players for Year=2005 SportId=13\n",
      "Getting players for Year=2005 SportId=14\n",
      "Getting players for Year=2005 SportId=15\n",
      "Getting players for Year=2005 SportId=16\n",
      "Getting players for Year=2006 SportId=1\n",
      "Getting players for Year=2006 SportId=11\n",
      "Getting players for Year=2006 SportId=12\n",
      "Getting players for Year=2006 SportId=13\n",
      "Getting players for Year=2006 SportId=14\n",
      "Getting players for Year=2006 SportId=15\n",
      "Getting players for Year=2006 SportId=16\n",
      "Getting players for Year=2007 SportId=1\n",
      "Getting players for Year=2007 SportId=11\n",
      "Getting players for Year=2007 SportId=12\n",
      "Getting players for Year=2007 SportId=13\n",
      "Getting players for Year=2007 SportId=14\n",
      "Getting players for Year=2007 SportId=15\n",
      "Getting players for Year=2007 SportId=16\n",
      "Getting players for Year=2008 SportId=1\n",
      "Getting players for Year=2008 SportId=11\n",
      "Getting players for Year=2008 SportId=12\n",
      "Getting players for Year=2008 SportId=13\n",
      "Getting players for Year=2008 SportId=14\n",
      "Getting players for Year=2008 SportId=15\n",
      "Getting players for Year=2008 SportId=16\n",
      "Getting players for Year=2009 SportId=1\n",
      "Getting players for Year=2009 SportId=11\n",
      "Getting players for Year=2009 SportId=12\n",
      "Getting players for Year=2009 SportId=13\n",
      "Getting players for Year=2009 SportId=14\n",
      "Getting players for Year=2009 SportId=15\n",
      "Getting players for Year=2009 SportId=16\n"
     ]
    }
   ],
   "source": [
    "# Create dictionary of player ids-year combination\n",
    "# Don't need any data, just a lookup table\n",
    "playerYearDict = {}\n",
    "for year in range(START_YEAR, CURRENT_SEASON + 1):\n",
    "    if ONLY_UPDATE_CURRENT_SEASON and year != CURRENT_SEASON:\n",
    "            continue\n",
    "\n",
    "    for sportId in SPORT_IDS:\n",
    "        print(f\"Getting players for Year={year} SportId={sportId}\")\n",
    "        response = requests.get(f\"https://bdfed.stitch.mlbinfra.com/bdfed/stats/player?stitch_env=prod&season={year}&sportId={sportId}&stats=season&group=hitting&gameType=R&limit=5000&offset=0&sortStat=homeRuns&order=desc\")\n",
    "        if response.status_code != 200:\n",
    "            print(f\"Code {response.status_code} for Year={year} and sportId={sportId} and position={position}\")\n",
    "            continue\n",
    "\n",
    "        responseJson = response.json()\n",
    "        jsonPlayers = responseJson['stats']\n",
    "        for player in jsonPlayers:\n",
    "            playerString = str(player[\"playerId\"]) + \",\" + str(year)\n",
    "            playerYearDict[playerString] = None"
   ]
  },
  {
   "cell_type": "code",
   "execution_count": 14,
   "metadata": {},
   "outputs": [],
   "source": [
    "NUM_THREADS = 16"
   ]
  },
  {
   "cell_type": "code",
   "execution_count": 17,
   "metadata": {},
   "outputs": [],
   "source": [
    "def HitterGameLogThreadFunction(data, threadIdx):\n",
    "    db = sqlite3.connect(\"BaseballStats.db\")\n",
    "    cursor = db.cursor()\n",
    "    with dbWriteLock:\n",
    "        cursor.execute(\"PRAGMA journal_mode = WAL\")\n",
    "        db.commit()\n",
    "    cursor = db.cursor()\n",
    "    global threadCompleteCounts\n",
    "    for d in data:\n",
    "        try:\n",
    "            mlbId, year = d.split(\",\")\n",
    "            if year == CURRENT_SEASON:\n",
    "                months = cursor.execute(f\"SELECT DISTINCT Month FROM Player_Hitter_GameLog WHERE mlbId='{mlbId}' AND Year='{year}' ORDER BY Month DESC\").fetchall()\n",
    "                if len(months) == 0:\n",
    "                    startMonth = 0\n",
    "                else:\n",
    "                    startMonth = months[0][0]\n",
    "                GenerateHitterYearGameLogs(db, mlbId, year, startMonth, STOP_MONTH)\n",
    "            else:\n",
    "                GenerateHitterYearGameLogs(db, mlbId, year)\n",
    "        except Exception as e:\n",
    "            print(f\"Error for id={mlbId} year={year}: {e}\")\n",
    "        finally:\n",
    "            threadCompleteCounts[threadIdx] += 1\n",
    "    \n",
    "        "
   ]
  },
  {
   "cell_type": "code",
   "execution_count": 16,
   "metadata": {},
   "outputs": [
    {
     "name": "stderr",
     "output_type": "stream",
     "text": [
      "  0%|          | 0/26260 [00:00<?, ?it/s]Exception in thread Thread-19 (HitterGameLogThreadFunction):\n",
      "Traceback (most recent call last):\n",
      "  File \"C:\\Program Files\\WindowsApps\\PythonSoftwareFoundation.Python.3.11_3.11.2544.0_x64__qbz5n2kfra8p0\\Lib\\threading.py\", line 1045, in _bootstrap_inner\n",
      "  0%|          | 0/26260 [00:00<?, ?it/s]    self.run()\n",
      "  File \"C:\\Program Files\\WindowsApps\\PythonSoftwareFoundation.Python.3.11_3.11.2544.0_x64__qbz5n2kfra8p0\\Lib\\threading.py\", line 982, in run\n",
      "    self._target(*self._args, **self._kwargs)\n",
      "  File \"C:\\Users\\nitzr\\AppData\\Local\\Temp\\ipykernel_27616\\2342525845.py\", line 4, in HitterGameLogThreadFunction\n",
      "sqlite3.OperationalError: database is locked\n",
      " 15%|█▍        | 3828/26260 [02:55<17:07, 21.84it/s] "
     ]
    },
    {
     "name": "stdout",
     "output_type": "stream",
     "text": [
      "Exception On Id=517388: list index out of range\n"
     ]
    },
    {
     "name": "stderr",
     "output_type": "stream",
     "text": [
      " 24%|██▍       | 6248/26260 [06:00<19:14, 17.33it/s]"
     ]
    },
    {
     "name": "stdout",
     "output_type": "stream",
     "text": [
      "Exception On Id=593755: list index out of range\n"
     ]
    },
    {
     "name": "stderr",
     "output_type": "stream",
     "text": [
      " 29%|██▉       | 7573/26260 [06:45<16:40, 18.67it/s]"
     ]
    },
    {
     "name": "stdout",
     "output_type": "stream",
     "text": [
      "Exception On Id=452034: list index out of range\n",
      "Exception On Id=450240: list index out of range\n"
     ]
    },
    {
     "name": "stderr",
     "output_type": "stream",
     "text": [
      " 40%|████      | 10634/26260 [10:40<15:41, 16.59it/s]"
     ]
    },
    {
     "name": "stdout",
     "output_type": "stream",
     "text": [
      "Exception On Id=516755: list index out of range\n"
     ]
    },
    {
     "name": "stderr",
     "output_type": "stream",
     "text": [
      " 42%|████▏     | 11003/26260 [11:11<15:30, 16.40it/s]"
     ]
    },
    {
     "name": "stdout",
     "output_type": "stream",
     "text": [
      "Exception On Id=593700: list index out of range\n"
     ]
    },
    {
     "name": "stderr",
     "output_type": "stream",
     "text": [
      " 43%|████▎     | 11372/26260 [11:41<15:17, 16.22it/s]"
     ]
    },
    {
     "name": "stdout",
     "output_type": "stream",
     "text": [
      "Exception On Id=594025: list index out of range\n"
     ]
    },
    {
     "name": "stderr",
     "output_type": "stream",
     "text": [
      " 44%|████▍     | 11494/26260 [11:51<15:13, 16.16it/s]"
     ]
    },
    {
     "name": "stdout",
     "output_type": "stream",
     "text": [
      "Exception On Id=593696: list index out of range\n"
     ]
    },
    {
     "name": "stderr",
     "output_type": "stream",
     "text": [
      " 51%|█████     | 13361/26260 [13:26<12:58, 16.57it/s]"
     ]
    },
    {
     "name": "stdout",
     "output_type": "stream",
     "text": [
      "Exception On Id=593757: list index out of range\n"
     ]
    },
    {
     "name": "stderr",
     "output_type": "stream",
     "text": [
      " 53%|█████▎    | 13890/26260 [14:11<12:38, 16.32it/s]"
     ]
    },
    {
     "name": "stdout",
     "output_type": "stream",
     "text": [
      "Exception On Id=594024: list index out of range\n"
     ]
    },
    {
     "name": "stderr",
     "output_type": "stream",
     "text": [
      " 58%|█████▊    | 15218/26260 [16:01<11:37, 15.83it/s]"
     ]
    },
    {
     "name": "stdout",
     "output_type": "stream",
     "text": [
      "Exception On Id=593698: list index out of range\n"
     ]
    },
    {
     "name": "stderr",
     "output_type": "stream",
     "text": [
      " 60%|█████▉    | 15689/26260 [16:41<11:14, 15.66it/s]"
     ]
    },
    {
     "name": "stdout",
     "output_type": "stream",
     "text": [
      "Exception On Id=594196: list index out of range\n"
     ]
    },
    {
     "name": "stderr",
     "output_type": "stream",
     "text": [
      " 65%|██████▍   | 17036/26260 [18:36<10:04, 15.25it/s]"
     ]
    },
    {
     "name": "stdout",
     "output_type": "stream",
     "text": [
      "Exception On Id=516692: list index out of range\n",
      "Exception On Id=593699: list index out of range\n"
     ]
    },
    {
     "name": "stderr",
     "output_type": "stream",
     "text": [
      " 69%|██████▉   | 18236/26260 [19:51<08:44, 15.30it/s]"
     ]
    },
    {
     "name": "stdout",
     "output_type": "stream",
     "text": [
      "Exception On Id=457858: list index out of range\n"
     ]
    },
    {
     "name": "stderr",
     "output_type": "stream",
     "text": [
      " 90%|█████████ | 23756/26260 [30:02<03:10, 13.18it/s]"
     ]
    },
    {
     "name": "stdout",
     "output_type": "stream",
     "text": [
      "Exception On Id=450648: list index out of range\n"
     ]
    },
    {
     "name": "stderr",
     "output_type": "stream",
     "text": [
      " 94%|█████████▎| 24613/26260 [33:23<02:14, 12.29it/s]"
     ]
    }
   ],
   "source": [
    "playerYears = list(playerYearDict.keys())\n",
    "\n",
    "threads = []\n",
    "threadCompleteCounts = [0] * NUM_THREADS\n",
    "for i in range(NUM_THREADS):\n",
    "    thread = threading.Thread(target=HitterGameLogThreadFunction, args=[playerYears[len(playerYears) * i // NUM_THREADS : len(playerYears) * (i + 1) // NUM_THREADS], i])\n",
    "    threads.append(thread)\n",
    "    thread.start()\n",
    "    \n",
    "progressBar = tqdm(total=len(playerYears))\n",
    "\n",
    "# Start progress bar\n",
    "keepTimerRunning = True\n",
    "def UpdateTimer():\n",
    "    if keepTimerRunning:\n",
    "        threading.Timer(5.0, UpdateTimer).start()\n",
    "    \n",
    "    count = 0\n",
    "    global threadCompleteCounts\n",
    "    for i in range(NUM_THREADS):\n",
    "        count += threadCompleteCounts[i]\n",
    "    \n",
    "    global progressBar\n",
    "    progressBar.n = count\n",
    "    progressBar.last_print_n = progressBar.n\n",
    "    progressBar.refresh()\n",
    "    \n",
    "UpdateTimer()\n",
    "\n",
    "for thread in threads:\n",
    "    thread.join()\n",
    "    \n",
    "keepTimerRunning = False"
   ]
  }
 ],
 "metadata": {
  "kernelspec": {
   "display_name": "Python 3",
   "language": "python",
   "name": "python3"
  },
  "language_info": {
   "codemirror_mode": {
    "name": "ipython",
    "version": 3
   },
   "file_extension": ".py",
   "mimetype": "text/x-python",
   "name": "python",
   "nbconvert_exporter": "python",
   "pygments_lexer": "ipython3",
   "version": "3.11.9"
  }
 },
 "nbformat": 4,
 "nbformat_minor": 2
}
