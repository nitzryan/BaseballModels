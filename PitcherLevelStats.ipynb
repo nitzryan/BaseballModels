{
 "cells": [
  {
   "cell_type": "code",
   "execution_count": 1,
   "metadata": {},
   "outputs": [],
   "source": [
    "import sqlite3"
   ]
  },
  {
   "cell_type": "code",
   "execution_count": 2,
   "metadata": {},
   "outputs": [],
   "source": [
    "START_YEAR = 2005\n",
    "CURRENT_SEASON = 2024\n",
    "COMPLETE_CURRENT_SEASON = False\n",
    "SPORT_IDS = [1,11,12,13,14,15,16]\n",
    "MONTHS = [4,5,6,7,8,9] # March folded into April, October into September"
   ]
  },
  {
   "cell_type": "code",
   "execution_count": 3,
   "metadata": {},
   "outputs": [],
   "source": [
    "db = sqlite3.connect(\"BaseballStats.db\")\n",
    "cursor = db.cursor()"
   ]
  },
  {
   "cell_type": "code",
   "execution_count": 4,
   "metadata": {},
   "outputs": [],
   "source": [
    "for year in range(START_YEAR, CURRENT_SEASON + 1):\n",
    "    for level in SPORT_IDS:\n",
    "        for month in MONTHS:\n",
    "            # Check if already exists\n",
    "            if cursor.execute(\"SELECT COUNT(*) FROM Level_PitcherStats WHERE Year=? AND Month=? AND Level=?\", (year, month, level)).fetchone()[0] > 0:\n",
    "                continue\n",
    "            \n",
    "            bf, outs, go, ao, r, er, h, k, bb, hbp, doubles, triples, hr = cursor.execute('SELECT SUM(battersFaced), SUM(outs), SUM(go), SUM(ao), SUM(r), SUM(er), SUM(h), SUM(k), SUM(bb), SUM(hbp), SUM(\"2B\"), SUM(\"3B\"), SUM(HR) FROM Player_Pitcher_MonthStats WHERE Year=? AND Month=? AND Level=?', (year, month, level)).fetchone()\n",
    "            \n",
    "            # Some year/level combos do not have any games\n",
    "            if bf == 0 or bf == None:\n",
    "                continue\n",
    "            \n",
    "            # Calculate stats\n",
    "            ab = bf - bb - hbp\n",
    "            singles = h - doubles - triples - hr\n",
    "            iso = (doubles + 2 * triples + 3 * hr) / ab\n",
    "            avg = h / ab\n",
    "            obp = (h + bb + hbp) / bf\n",
    "            slg = (singles + 2 * doubles + 3 * triples + 4 * hr) / ab\n",
    "            hrPerc = hr / bf\n",
    "            bbPerc = bb / bf\n",
    "            kPerc = k / bf\n",
    "            goPerc = go / (go + ao)\n",
    "            # https://library.fangraphs.com/offense/woba/\n",
    "            wOBA = (0.69 * bb + 0.72 * hbp + 0.89 * singles + 1.27 * doubles + 1.62 * triples + 2.10 * hr) / (bf)\n",
    "            era = er / (outs / 27)\n",
    "            ra = r / (outs / 27)\n",
    "            fipNoConstant = (13 * hr + 3 * (bb + hbp) - 2 * k) / (outs / 3)\n",
    "            fipConstant = era - fipNoConstant\n",
    "            \n",
    "            # Insert data\n",
    "            cursor.execute(\"INSERT INTO Level_PitcherStats VALUES(?,?,?,?,?,?,?,?,?,?,?,?,?)\", (level, year, month, era, ra, fipConstant, wOBA, hrPerc, bbPerc, kPerc, goPerc, avg, iso))\n",
    "            db.commit()\n",
    "            cursor = db.cursor()"
   ]
  }
 ],
 "metadata": {
  "kernelspec": {
   "display_name": "Python 3",
   "language": "python",
   "name": "python3"
  },
  "language_info": {
   "codemirror_mode": {
    "name": "ipython",
    "version": 3
   },
   "file_extension": ".py",
   "mimetype": "text/x-python",
   "name": "python",
   "nbconvert_exporter": "python",
   "pygments_lexer": "ipython3",
   "version": "3.11.9"
  }
 },
 "nbformat": 4,
 "nbformat_minor": 2
}
